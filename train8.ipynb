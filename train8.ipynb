{
  "cells": [
    {
      "cell_type": "code",
      "execution_count": 3,
      "metadata": {},
      "outputs": [
        {
          "name": "stdout",
          "output_type": "stream",
          "text": [
            "loading Roboflow workspace...\n",
            "loading Roboflow project...\n"
          ]
        }
      ],
      "source": [
        "from roboflow import Roboflow\n",
        "rf = Roboflow(api_key=\"rpxHdzBDa5fmPwR4T52p\")\n",
        "project = rf.workspace(\"ehp-ler2k\").project(\"count-3iah9\")\n",
        "version = project.version(1)\n",
        "dataset = version.download(\"yolov8\")\n",
        "                "
      ]
    },
    {
      "cell_type": "code",
      "execution_count": null,
      "metadata": {
        "id": "BK_k3gcw8mli"
      },
      "outputs": [],
      "source": [
        "from ultralytics import YOLO\n",
        "model = YOLO(\"yolov8m-seg.pt\")# bisa yolov8m-seg.pt atau yolov8m.pt, turunkan versi jika berat tetapi akurasi lebih rendah"
      ]
    },
    {
      "cell_type": "code",
      "execution_count": null,
      "metadata": {
        "colab": {
          "base_uri": "https://localhost:8080/"
        },
        "id": "suQY2yKs-sj9",
        "outputId": "2cecd305-6e86-42a0-de21-1f0bbf916ff9"
      },
      "outputs": [
        {
          "name": "stdout",
          "output_type": "stream",
          "text": [
            "New https://pypi.org/project/ultralytics/8.3.116 available  Update with 'pip install -U ultralytics'\n",
            "Ultralytics 8.3.107  Python-3.11.5 torch-2.0.1+cu117 CUDA:0 (NVIDIA GeForce RTX 3050 Laptop GPU, 4096MiB)\n",
            "\u001b[34m\u001b[1mengine\\trainer: \u001b[0mtask=segment, mode=train, model=yolov8m-seg.pt, data=C:/Users/puji0/Downloads/fruit_bunch_counting_magang_ehp/Count-1/data.yaml, epochs=60, time=None, patience=100, batch=4, imgsz=800, save=True, save_period=-1, cache=False, device=cuda, workers=8, project=None, name=identifikasi_sawit_v1.095, exist_ok=False, pretrained=True, optimizer=auto, verbose=True, seed=0, deterministic=True, single_cls=False, rect=False, cos_lr=False, close_mosaic=10, resume=False, amp=True, fraction=1.0, profile=False, freeze=None, multi_scale=False, overlap_mask=True, mask_ratio=4, dropout=0.0, val=True, split=val, save_json=False, conf=None, iou=0.7, max_det=300, half=False, dnn=False, plots=True, source=None, vid_stride=1, stream_buffer=False, visualize=False, augment=False, agnostic_nms=False, classes=None, retina_masks=False, embed=None, show=False, save_frames=False, save_txt=False, save_conf=False, save_crop=False, show_labels=True, show_conf=True, show_boxes=True, line_width=None, format=torchscript, keras=False, optimize=False, int8=False, dynamic=False, simplify=True, opset=None, workspace=None, nms=False, lr0=0.01, lrf=0.01, momentum=0.937, weight_decay=0.0005, warmup_epochs=3.0, warmup_momentum=0.8, warmup_bias_lr=0.1, box=7.5, cls=0.5, dfl=1.5, pose=12.0, kobj=1.0, nbs=64, hsv_h=0.015, hsv_s=0.7, hsv_v=0.4, degrees=0.0, translate=0.1, scale=0.5, shear=0.0, perspective=0.0, flipud=0.0, fliplr=0.5, bgr=0.0, mosaic=1.0, mixup=0.0, copy_paste=0.0, copy_paste_mode=flip, auto_augment=randaugment, erasing=0.4, crop_fraction=1.0, cfg=None, tracker=botsort.yaml, save_dir=runs\\segment\\identifikasi_sawit_v1.095\n",
            "Overriding model.yaml nc=80 with nc=1\n",
            "\n",
            "                   from  n    params  module                                       arguments                     \n",
            "  0                  -1  1      1392  ultralytics.nn.modules.conv.Conv             [3, 48, 3, 2]                 \n",
            "  1                  -1  1     41664  ultralytics.nn.modules.conv.Conv             [48, 96, 3, 2]                \n",
            "  2                  -1  2    111360  ultralytics.nn.modules.block.C2f             [96, 96, 2, True]             \n",
            "  3                  -1  1    166272  ultralytics.nn.modules.conv.Conv             [96, 192, 3, 2]               \n",
            "  4                  -1  4    813312  ultralytics.nn.modules.block.C2f             [192, 192, 4, True]           \n",
            "  5                  -1  1    664320  ultralytics.nn.modules.conv.Conv             [192, 384, 3, 2]              \n",
            "  6                  -1  4   3248640  ultralytics.nn.modules.block.C2f             [384, 384, 4, True]           \n",
            "  7                  -1  1   1991808  ultralytics.nn.modules.conv.Conv             [384, 576, 3, 2]              \n",
            "  8                  -1  2   3985920  ultralytics.nn.modules.block.C2f             [576, 576, 2, True]           \n",
            "  9                  -1  1    831168  ultralytics.nn.modules.block.SPPF            [576, 576, 5]                 \n",
            " 10                  -1  1         0  torch.nn.modules.upsampling.Upsample         [None, 2, 'nearest']          \n",
            " 11             [-1, 6]  1         0  ultralytics.nn.modules.conv.Concat           [1]                           \n",
            " 12                  -1  2   1993728  ultralytics.nn.modules.block.C2f             [960, 384, 2]                 \n",
            " 13                  -1  1         0  torch.nn.modules.upsampling.Upsample         [None, 2, 'nearest']          \n",
            " 14             [-1, 4]  1         0  ultralytics.nn.modules.conv.Concat           [1]                           \n",
            " 15                  -1  2    517632  ultralytics.nn.modules.block.C2f             [576, 192, 2]                 \n",
            " 16                  -1  1    332160  ultralytics.nn.modules.conv.Conv             [192, 192, 3, 2]              \n",
            " 17            [-1, 12]  1         0  ultralytics.nn.modules.conv.Concat           [1]                           \n",
            " 18                  -1  2   1846272  ultralytics.nn.modules.block.C2f             [576, 384, 2]                 \n",
            " 19                  -1  1   1327872  ultralytics.nn.modules.conv.Conv             [384, 384, 3, 2]              \n",
            " 20             [-1, 9]  1         0  ultralytics.nn.modules.conv.Concat           [1]                           \n",
            " 21                  -1  2   4207104  ultralytics.nn.modules.block.C2f             [960, 576, 2]                 \n",
            " 22        [15, 18, 21]  1   5159603  ultralytics.nn.modules.head.Segment          [1, 32, 192, [192, 384, 576]] \n",
            "YOLOv8m-seg summary: 191 layers, 27,240,227 parameters, 27,240,211 gradients, 110.4 GFLOPs\n",
            "\n",
            "Transferred 531/537 items from pretrained weights\n",
            "Freezing layer 'model.22.dfl.conv.weight'\n",
            "\u001b[34m\u001b[1mAMP: \u001b[0mrunning Automatic Mixed Precision (AMP) checks...\n",
            "\u001b[34m\u001b[1mAMP: \u001b[0mchecks passed \n"
          ]
        },
        {
          "name": "stderr",
          "output_type": "stream",
          "text": [
            "\u001b[34m\u001b[1mtrain: \u001b[0mScanning C:\\Users\\puji0\\Downloads\\fruit_bunch_counting_magang_ehp\\Count-1\\train\\labels.cache... 384 images, 0 backgrounds, 0 corrupt: 100%|██████████| 384/384 [00:00<?, ?it/s]\n",
            "\u001b[34m\u001b[1mval: \u001b[0mScanning C:\\Users\\puji0\\Downloads\\fruit_bunch_counting_magang_ehp\\Count-1\\valid\\labels.cache... 36 images, 0 backgrounds, 0 corrupt: 100%|██████████| 36/36 [00:00<?, ?it/s]\n"
          ]
        },
        {
          "name": "stdout",
          "output_type": "stream",
          "text": [
            "Plotting labels to runs\\segment\\identifikasi_sawit_v1.095\\labels.jpg... \n",
            "\u001b[34m\u001b[1moptimizer:\u001b[0m 'optimizer=auto' found, ignoring 'lr0=0.01' and 'momentum=0.937' and determining best 'optimizer', 'lr0' and 'momentum' automatically... \n",
            "\u001b[34m\u001b[1moptimizer:\u001b[0m AdamW(lr=0.002, momentum=0.9) with parameter groups 86 weight(decay=0.0), 97 weight(decay=0.0005), 96 bias(decay=0.0)\n",
            "Image sizes 800 train, 800 val\n",
            "Using 8 dataloader workers\n",
            "Logging results to \u001b[1mruns\\segment\\identifikasi_sawit_v1.095\u001b[0m\n",
            "Starting training for 60 epochs...\n",
            "\n",
            "      Epoch    GPU_mem   box_loss   seg_loss   cls_loss   dfl_loss  Instances       Size\n"
          ]
        },
        {
          "name": "stderr",
          "output_type": "stream",
          "text": [
            "       1/60       5.3G      1.711      3.442      1.991       1.81        107        800: 100%|██████████| 96/96 [01:41<00:00,  1.06s/it]\n",
            "                 Class     Images  Instances      Box(P          R      mAP50  mAP50-95)     Mask(P          R      mAP50  mAP50-95): 100%|██████████| 5/5 [00:07<00:00,  1.48s/it]"
          ]
        },
        {
          "name": "stdout",
          "output_type": "stream",
          "text": [
            "                   all         36        443      0.553      0.578      0.491      0.264      0.519      0.501      0.381      0.172\n"
          ]
        },
        {
          "name": "stderr",
          "output_type": "stream",
          "text": [
            "\n"
          ]
        },
        {
          "name": "stdout",
          "output_type": "stream",
          "text": [
            "\n",
            "      Epoch    GPU_mem   box_loss   seg_loss   cls_loss   dfl_loss  Instances       Size\n"
          ]
        },
        {
          "name": "stderr",
          "output_type": "stream",
          "text": [
            "       2/60      4.41G      1.667      3.275      1.739      1.802         42        800: 100%|██████████| 96/96 [01:07<00:00,  1.42it/s]\n",
            "                 Class     Images  Instances      Box(P          R      mAP50  mAP50-95)     Mask(P          R      mAP50  mAP50-95): 100%|██████████| 5/5 [00:07<00:00,  1.43s/it]"
          ]
        },
        {
          "name": "stdout",
          "output_type": "stream",
          "text": [
            "                   all         36        443      0.582      0.548       0.53      0.261      0.578      0.508      0.481      0.203\n"
          ]
        },
        {
          "name": "stderr",
          "output_type": "stream",
          "text": [
            "\n"
          ]
        },
        {
          "name": "stdout",
          "output_type": "stream",
          "text": [
            "\n",
            "      Epoch    GPU_mem   box_loss   seg_loss   cls_loss   dfl_loss  Instances       Size\n"
          ]
        },
        {
          "name": "stderr",
          "output_type": "stream",
          "text": [
            "       3/60      4.89G       1.73      3.329      1.749      1.853         45        800: 100%|██████████| 96/96 [02:05<00:00,  1.30s/it]\n",
            "                 Class     Images  Instances      Box(P          R      mAP50  mAP50-95)     Mask(P          R      mAP50  mAP50-95): 100%|██████████| 5/5 [00:08<00:00,  1.74s/it]"
          ]
        },
        {
          "name": "stdout",
          "output_type": "stream",
          "text": [
            "                   all         36        443      0.603      0.632      0.617      0.298      0.583      0.589       0.56      0.236\n"
          ]
        },
        {
          "name": "stderr",
          "output_type": "stream",
          "text": [
            "\n"
          ]
        },
        {
          "name": "stdout",
          "output_type": "stream",
          "text": [
            "\n",
            "      Epoch    GPU_mem   box_loss   seg_loss   cls_loss   dfl_loss  Instances       Size\n"
          ]
        },
        {
          "name": "stderr",
          "output_type": "stream",
          "text": [
            "       4/60      4.85G      1.765      3.292      1.789       1.89         80        800: 100%|██████████| 96/96 [01:57<00:00,  1.22s/it]\n",
            "                 Class     Images  Instances      Box(P          R      mAP50  mAP50-95)     Mask(P          R      mAP50  mAP50-95): 100%|██████████| 5/5 [00:05<00:00,  1.07s/it]"
          ]
        },
        {
          "name": "stdout",
          "output_type": "stream",
          "text": [
            "                   all         36        443      0.487      0.553      0.533      0.279      0.503      0.508      0.504       0.22\n"
          ]
        },
        {
          "name": "stderr",
          "output_type": "stream",
          "text": [
            "\n"
          ]
        },
        {
          "name": "stdout",
          "output_type": "stream",
          "text": [
            "\n",
            "      Epoch    GPU_mem   box_loss   seg_loss   cls_loss   dfl_loss  Instances       Size\n"
          ]
        },
        {
          "name": "stderr",
          "output_type": "stream",
          "text": [
            "       5/60      4.94G      1.638      3.084      1.558      1.776         38        800: 100%|██████████| 96/96 [01:26<00:00,  1.12it/s]\n",
            "                 Class     Images  Instances      Box(P          R      mAP50  mAP50-95)     Mask(P          R      mAP50  mAP50-95): 100%|██████████| 5/5 [00:08<00:00,  1.73s/it]"
          ]
        },
        {
          "name": "stdout",
          "output_type": "stream",
          "text": [
            "                   all         36        443       0.78      0.628      0.683      0.401      0.751        0.6      0.639      0.329\n"
          ]
        },
        {
          "name": "stderr",
          "output_type": "stream",
          "text": [
            "\n"
          ]
        },
        {
          "name": "stdout",
          "output_type": "stream",
          "text": [
            "\n",
            "      Epoch    GPU_mem   box_loss   seg_loss   cls_loss   dfl_loss  Instances       Size\n"
          ]
        },
        {
          "name": "stderr",
          "output_type": "stream",
          "text": [
            "       6/60         5G      1.617      3.086      1.525      1.757         31        800: 100%|██████████| 96/96 [02:48<00:00,  1.76s/it]\n",
            "                 Class     Images  Instances      Box(P          R      mAP50  mAP50-95)     Mask(P          R      mAP50  mAP50-95): 100%|██████████| 5/5 [00:09<00:00,  2.00s/it]"
          ]
        },
        {
          "name": "stdout",
          "output_type": "stream",
          "text": [
            "                   all         36        443      0.758      0.657      0.748      0.424      0.748      0.637      0.708      0.335\n"
          ]
        },
        {
          "name": "stderr",
          "output_type": "stream",
          "text": [
            "\n"
          ]
        },
        {
          "name": "stdout",
          "output_type": "stream",
          "text": [
            "\n",
            "      Epoch    GPU_mem   box_loss   seg_loss   cls_loss   dfl_loss  Instances       Size\n"
          ]
        },
        {
          "name": "stderr",
          "output_type": "stream",
          "text": [
            "       7/60      5.38G       1.56      2.926      1.394      1.692        109        800: 100%|██████████| 96/96 [02:44<00:00,  1.71s/it]\n",
            "                 Class     Images  Instances      Box(P          R      mAP50  mAP50-95)     Mask(P          R      mAP50  mAP50-95): 100%|██████████| 5/5 [00:08<00:00,  1.77s/it]"
          ]
        },
        {
          "name": "stdout",
          "output_type": "stream",
          "text": [
            "                   all         36        443      0.816      0.699      0.807      0.467        0.8      0.678      0.781       0.41\n"
          ]
        },
        {
          "name": "stderr",
          "output_type": "stream",
          "text": [
            "\n"
          ]
        },
        {
          "name": "stdout",
          "output_type": "stream",
          "text": [
            "\n",
            "      Epoch    GPU_mem   box_loss   seg_loss   cls_loss   dfl_loss  Instances       Size\n"
          ]
        },
        {
          "name": "stderr",
          "output_type": "stream",
          "text": [
            "       8/60      5.58G      1.534      2.859      1.334        1.7         60        800: 100%|██████████| 96/96 [01:33<00:00,  1.03it/s]\n",
            "                 Class     Images  Instances      Box(P          R      mAP50  mAP50-95)     Mask(P          R      mAP50  mAP50-95): 100%|██████████| 5/5 [00:04<00:00,  1.08it/s]"
          ]
        },
        {
          "name": "stdout",
          "output_type": "stream",
          "text": [
            "                   all         36        443      0.786      0.745      0.795      0.457      0.769      0.723      0.765      0.396\n"
          ]
        },
        {
          "name": "stderr",
          "output_type": "stream",
          "text": [
            "\n"
          ]
        },
        {
          "name": "stdout",
          "output_type": "stream",
          "text": [
            "\n",
            "      Epoch    GPU_mem   box_loss   seg_loss   cls_loss   dfl_loss  Instances       Size\n"
          ]
        },
        {
          "name": "stderr",
          "output_type": "stream",
          "text": [
            "       9/60      5.17G       1.55      2.919      1.442      1.693         33        800: 100%|██████████| 96/96 [03:23<00:00,  2.12s/it]\n",
            "                 Class     Images  Instances      Box(P          R      mAP50  mAP50-95)     Mask(P          R      mAP50  mAP50-95): 100%|██████████| 5/5 [00:11<00:00,  2.30s/it]"
          ]
        },
        {
          "name": "stdout",
          "output_type": "stream",
          "text": [
            "                   all         36        443      0.767        0.7      0.801      0.478      0.779      0.693      0.766      0.403\n"
          ]
        },
        {
          "name": "stderr",
          "output_type": "stream",
          "text": [
            "\n"
          ]
        },
        {
          "name": "stdout",
          "output_type": "stream",
          "text": [
            "\n",
            "      Epoch    GPU_mem   box_loss   seg_loss   cls_loss   dfl_loss  Instances       Size\n"
          ]
        },
        {
          "name": "stderr",
          "output_type": "stream",
          "text": [
            "      10/60      4.87G      1.485      2.811      1.339       1.66         67        800: 100%|██████████| 96/96 [01:38<00:00,  1.02s/it]\n",
            "                 Class     Images  Instances      Box(P          R      mAP50  mAP50-95)     Mask(P          R      mAP50  mAP50-95): 100%|██████████| 5/5 [00:06<00:00,  1.27s/it]"
          ]
        },
        {
          "name": "stdout",
          "output_type": "stream",
          "text": [
            "                   all         36        443      0.732      0.661      0.752      0.425      0.731       0.63      0.722       0.39\n"
          ]
        },
        {
          "name": "stderr",
          "output_type": "stream",
          "text": [
            "\n"
          ]
        },
        {
          "name": "stdout",
          "output_type": "stream",
          "text": [
            "\n",
            "      Epoch    GPU_mem   box_loss   seg_loss   cls_loss   dfl_loss  Instances       Size\n"
          ]
        },
        {
          "name": "stderr",
          "output_type": "stream",
          "text": [
            "      11/60      5.61G      1.476      2.757       1.27      1.633         97        800: 100%|██████████| 96/96 [01:25<00:00,  1.12it/s]\n",
            "                 Class     Images  Instances      Box(P          R      mAP50  mAP50-95)     Mask(P          R      mAP50  mAP50-95): 100%|██████████| 5/5 [00:06<00:00,  1.23s/it]"
          ]
        },
        {
          "name": "stdout",
          "output_type": "stream",
          "text": [
            "                   all         36        443      0.826       0.78      0.845      0.519      0.808      0.763      0.831      0.469\n"
          ]
        },
        {
          "name": "stderr",
          "output_type": "stream",
          "text": [
            "\n"
          ]
        },
        {
          "name": "stdout",
          "output_type": "stream",
          "text": [
            "\n",
            "      Epoch    GPU_mem   box_loss   seg_loss   cls_loss   dfl_loss  Instances       Size\n"
          ]
        },
        {
          "name": "stderr",
          "output_type": "stream",
          "text": [
            "      12/60      5.16G        1.5      2.745      1.301      1.689         45        800: 100%|██████████| 96/96 [01:43<00:00,  1.07s/it]\n",
            "                 Class     Images  Instances      Box(P          R      mAP50  mAP50-95)     Mask(P          R      mAP50  mAP50-95): 100%|██████████| 5/5 [00:05<00:00,  1.06s/it]"
          ]
        },
        {
          "name": "stdout",
          "output_type": "stream",
          "text": [
            "                   all         36        443      0.792      0.781      0.829        0.5      0.806       0.74      0.804      0.435\n"
          ]
        },
        {
          "name": "stderr",
          "output_type": "stream",
          "text": [
            "\n"
          ]
        },
        {
          "name": "stdout",
          "output_type": "stream",
          "text": [
            "\n",
            "      Epoch    GPU_mem   box_loss   seg_loss   cls_loss   dfl_loss  Instances       Size\n"
          ]
        },
        {
          "name": "stderr",
          "output_type": "stream",
          "text": [
            "      13/60      4.61G      1.412      2.641      1.142      1.557        108        800: 100%|██████████| 96/96 [01:22<00:00,  1.16it/s]\n",
            "                 Class     Images  Instances      Box(P          R      mAP50  mAP50-95)     Mask(P          R      mAP50  mAP50-95): 100%|██████████| 5/5 [00:05<00:00,  1.19s/it]"
          ]
        },
        {
          "name": "stdout",
          "output_type": "stream",
          "text": [
            "                   all         36        443        0.8      0.756      0.831      0.496      0.791      0.753      0.816      0.456\n"
          ]
        },
        {
          "name": "stderr",
          "output_type": "stream",
          "text": [
            "\n"
          ]
        },
        {
          "name": "stdout",
          "output_type": "stream",
          "text": [
            "\n",
            "      Epoch    GPU_mem   box_loss   seg_loss   cls_loss   dfl_loss  Instances       Size\n"
          ]
        },
        {
          "name": "stderr",
          "output_type": "stream",
          "text": [
            "      14/60      5.43G      1.442      2.631      1.179      1.604         66        800: 100%|██████████| 96/96 [01:37<00:00,  1.02s/it]\n",
            "                 Class     Images  Instances      Box(P          R      mAP50  mAP50-95)     Mask(P          R      mAP50  mAP50-95): 100%|██████████| 5/5 [00:06<00:00,  1.23s/it]"
          ]
        },
        {
          "name": "stdout",
          "output_type": "stream",
          "text": [
            "                   all         36        443      0.806      0.743      0.821      0.485      0.802      0.751      0.815      0.451\n"
          ]
        },
        {
          "name": "stderr",
          "output_type": "stream",
          "text": [
            "\n"
          ]
        },
        {
          "name": "stdout",
          "output_type": "stream",
          "text": [
            "\n",
            "      Epoch    GPU_mem   box_loss   seg_loss   cls_loss   dfl_loss  Instances       Size\n"
          ]
        },
        {
          "name": "stderr",
          "output_type": "stream",
          "text": [
            "      15/60      4.79G      1.431      2.632      1.153      1.601        100        800: 100%|██████████| 96/96 [01:28<00:00,  1.09it/s]\n",
            "                 Class     Images  Instances      Box(P          R      mAP50  mAP50-95)     Mask(P          R      mAP50  mAP50-95): 100%|██████████| 5/5 [00:06<00:00,  1.39s/it]"
          ]
        },
        {
          "name": "stdout",
          "output_type": "stream",
          "text": [
            "                   all         36        443      0.814       0.77      0.856      0.529      0.803      0.767      0.833      0.477\n"
          ]
        },
        {
          "name": "stderr",
          "output_type": "stream",
          "text": [
            "\n"
          ]
        },
        {
          "name": "stdout",
          "output_type": "stream",
          "text": [
            "\n",
            "      Epoch    GPU_mem   box_loss   seg_loss   cls_loss   dfl_loss  Instances       Size\n"
          ]
        },
        {
          "name": "stderr",
          "output_type": "stream",
          "text": [
            "      16/60      5.03G      1.407      2.564      1.083      1.561         51        800: 100%|██████████| 96/96 [01:27<00:00,  1.09it/s]\n",
            "                 Class     Images  Instances      Box(P          R      mAP50  mAP50-95)     Mask(P          R      mAP50  mAP50-95): 100%|██████████| 5/5 [00:06<00:00,  1.30s/it]"
          ]
        },
        {
          "name": "stdout",
          "output_type": "stream",
          "text": [
            "                   all         36        443      0.829      0.787      0.857      0.541      0.835      0.783      0.843      0.496\n"
          ]
        },
        {
          "name": "stderr",
          "output_type": "stream",
          "text": [
            "\n"
          ]
        },
        {
          "name": "stdout",
          "output_type": "stream",
          "text": [
            "\n",
            "      Epoch    GPU_mem   box_loss   seg_loss   cls_loss   dfl_loss  Instances       Size\n"
          ]
        },
        {
          "name": "stderr",
          "output_type": "stream",
          "text": [
            "      17/60       4.5G      1.369      2.499       1.06      1.533         58        800: 100%|██████████| 96/96 [01:32<00:00,  1.04it/s]\n",
            "                 Class     Images  Instances      Box(P          R      mAP50  mAP50-95)     Mask(P          R      mAP50  mAP50-95): 100%|██████████| 5/5 [00:05<00:00,  1.07s/it]"
          ]
        },
        {
          "name": "stdout",
          "output_type": "stream",
          "text": [
            "                   all         36        443      0.814      0.752      0.842      0.524      0.815      0.754      0.834       0.47\n"
          ]
        },
        {
          "name": "stderr",
          "output_type": "stream",
          "text": [
            "\n"
          ]
        },
        {
          "name": "stdout",
          "output_type": "stream",
          "text": [
            "\n",
            "      Epoch    GPU_mem   box_loss   seg_loss   cls_loss   dfl_loss  Instances       Size\n"
          ]
        },
        {
          "name": "stderr",
          "output_type": "stream",
          "text": [
            "      18/60      5.23G      1.345      2.455       1.03      1.516         85        800: 100%|██████████| 96/96 [02:19<00:00,  1.46s/it]\n",
            "                 Class     Images  Instances      Box(P          R      mAP50  mAP50-95)     Mask(P          R      mAP50  mAP50-95): 100%|██████████| 5/5 [00:09<00:00,  1.96s/it]"
          ]
        },
        {
          "name": "stdout",
          "output_type": "stream",
          "text": [
            "                   all         36        443      0.829      0.819      0.879      0.551      0.829      0.808      0.856      0.488\n"
          ]
        },
        {
          "name": "stderr",
          "output_type": "stream",
          "text": [
            "\n"
          ]
        },
        {
          "name": "stdout",
          "output_type": "stream",
          "text": [
            "\n",
            "      Epoch    GPU_mem   box_loss   seg_loss   cls_loss   dfl_loss  Instances       Size\n"
          ]
        },
        {
          "name": "stderr",
          "output_type": "stream",
          "text": [
            "      19/60      4.65G      1.342      2.444       1.01      1.514         52        800: 100%|██████████| 96/96 [02:34<00:00,  1.61s/it]\n",
            "                 Class     Images  Instances      Box(P          R      mAP50  mAP50-95)     Mask(P          R      mAP50  mAP50-95): 100%|██████████| 5/5 [00:07<00:00,  1.58s/it]"
          ]
        },
        {
          "name": "stdout",
          "output_type": "stream",
          "text": [
            "                   all         36        443       0.81      0.804      0.863      0.545      0.805      0.779      0.833       0.48\n"
          ]
        },
        {
          "name": "stderr",
          "output_type": "stream",
          "text": [
            "\n"
          ]
        },
        {
          "name": "stdout",
          "output_type": "stream",
          "text": [
            "\n",
            "      Epoch    GPU_mem   box_loss   seg_loss   cls_loss   dfl_loss  Instances       Size\n"
          ]
        },
        {
          "name": "stderr",
          "output_type": "stream",
          "text": [
            "      20/60      5.18G       1.33      2.389      1.016       1.53         73        800: 100%|██████████| 96/96 [01:36<00:00,  1.01s/it]\n",
            "                 Class     Images  Instances      Box(P          R      mAP50  mAP50-95)     Mask(P          R      mAP50  mAP50-95): 100%|██████████| 5/5 [00:06<00:00,  1.24s/it]"
          ]
        },
        {
          "name": "stdout",
          "output_type": "stream",
          "text": [
            "                   all         36        443      0.849      0.795      0.867      0.529      0.834      0.774       0.85      0.483\n"
          ]
        },
        {
          "name": "stderr",
          "output_type": "stream",
          "text": [
            "\n"
          ]
        },
        {
          "name": "stdout",
          "output_type": "stream",
          "text": [
            "\n",
            "      Epoch    GPU_mem   box_loss   seg_loss   cls_loss   dfl_loss  Instances       Size\n"
          ]
        },
        {
          "name": "stderr",
          "output_type": "stream",
          "text": [
            "      21/60      6.11G      1.332      2.424     0.9919      1.512         44        800: 100%|██████████| 96/96 [04:46<00:00,  2.98s/it]\n",
            "                 Class     Images  Instances      Box(P          R      mAP50  mAP50-95)     Mask(P          R      mAP50  mAP50-95): 100%|██████████| 5/5 [00:11<00:00,  2.29s/it]"
          ]
        },
        {
          "name": "stdout",
          "output_type": "stream",
          "text": [
            "                   all         36        443      0.856      0.791      0.883      0.562      0.849      0.774      0.863      0.505\n"
          ]
        },
        {
          "name": "stderr",
          "output_type": "stream",
          "text": [
            "\n"
          ]
        },
        {
          "name": "stdout",
          "output_type": "stream",
          "text": [
            "\n",
            "      Epoch    GPU_mem   box_loss   seg_loss   cls_loss   dfl_loss  Instances       Size\n"
          ]
        },
        {
          "name": "stderr",
          "output_type": "stream",
          "text": [
            "      22/60      5.17G      1.313      2.357     0.9596        1.5         44        800: 100%|██████████| 96/96 [01:55<00:00,  1.21s/it]\n",
            "                 Class     Images  Instances      Box(P          R      mAP50  mAP50-95)     Mask(P          R      mAP50  mAP50-95): 100%|██████████| 5/5 [00:08<00:00,  1.61s/it]"
          ]
        },
        {
          "name": "stdout",
          "output_type": "stream",
          "text": [
            "                   all         36        443      0.854      0.786      0.866      0.551      0.842      0.774      0.849        0.5\n"
          ]
        },
        {
          "name": "stderr",
          "output_type": "stream",
          "text": [
            "\n"
          ]
        },
        {
          "name": "stdout",
          "output_type": "stream",
          "text": [
            "\n",
            "      Epoch    GPU_mem   box_loss   seg_loss   cls_loss   dfl_loss  Instances       Size\n"
          ]
        },
        {
          "name": "stderr",
          "output_type": "stream",
          "text": [
            "      23/60      5.22G        1.3      2.303      0.936      1.496         42        800: 100%|██████████| 96/96 [01:42<00:00,  1.07s/it]\n",
            "                 Class     Images  Instances      Box(P          R      mAP50  mAP50-95)     Mask(P          R      mAP50  mAP50-95): 100%|██████████| 5/5 [00:06<00:00,  1.34s/it]"
          ]
        },
        {
          "name": "stdout",
          "output_type": "stream",
          "text": [
            "                   all         36        443      0.814      0.833      0.882      0.566       0.82      0.822      0.878      0.525\n"
          ]
        },
        {
          "name": "stderr",
          "output_type": "stream",
          "text": [
            "\n"
          ]
        },
        {
          "name": "stdout",
          "output_type": "stream",
          "text": [
            "\n",
            "      Epoch    GPU_mem   box_loss   seg_loss   cls_loss   dfl_loss  Instances       Size\n"
          ]
        },
        {
          "name": "stderr",
          "output_type": "stream",
          "text": [
            "      24/60      5.13G      1.309      2.363     0.9469      1.499         88        800: 100%|██████████| 96/96 [01:49<00:00,  1.14s/it]\n",
            "                 Class     Images  Instances      Box(P          R      mAP50  mAP50-95)     Mask(P          R      mAP50  mAP50-95): 100%|██████████| 5/5 [00:05<00:00,  1.18s/it]"
          ]
        },
        {
          "name": "stdout",
          "output_type": "stream",
          "text": [
            "                   all         36        443      0.827      0.818      0.882      0.558      0.843       0.77      0.868      0.505\n"
          ]
        },
        {
          "name": "stderr",
          "output_type": "stream",
          "text": [
            "\n"
          ]
        },
        {
          "name": "stdout",
          "output_type": "stream",
          "text": [
            "\n",
            "      Epoch    GPU_mem   box_loss   seg_loss   cls_loss   dfl_loss  Instances       Size\n"
          ]
        },
        {
          "name": "stderr",
          "output_type": "stream",
          "text": [
            "      25/60       5.3G      1.268      2.263     0.9127      1.485         79        800: 100%|██████████| 96/96 [01:42<00:00,  1.07s/it]\n",
            "                 Class     Images  Instances      Box(P          R      mAP50  mAP50-95)     Mask(P          R      mAP50  mAP50-95): 100%|██████████| 5/5 [00:07<00:00,  1.46s/it]"
          ]
        },
        {
          "name": "stdout",
          "output_type": "stream",
          "text": [
            "                   all         36        443      0.866      0.758      0.864      0.548      0.854      0.747      0.847      0.503\n"
          ]
        },
        {
          "name": "stderr",
          "output_type": "stream",
          "text": [
            "\n"
          ]
        },
        {
          "name": "stdout",
          "output_type": "stream",
          "text": [
            "\n",
            "      Epoch    GPU_mem   box_loss   seg_loss   cls_loss   dfl_loss  Instances       Size\n"
          ]
        },
        {
          "name": "stderr",
          "output_type": "stream",
          "text": [
            "      26/60      5.62G      1.243      2.234     0.8716      1.442         61        800: 100%|██████████| 96/96 [02:26<00:00,  1.52s/it]\n",
            "                 Class     Images  Instances      Box(P          R      mAP50  mAP50-95)     Mask(P          R      mAP50  mAP50-95): 100%|██████████| 5/5 [00:09<00:00,  1.89s/it]"
          ]
        },
        {
          "name": "stdout",
          "output_type": "stream",
          "text": [
            "                   all         36        443      0.831      0.781      0.872      0.559      0.838       0.79      0.873      0.521\n"
          ]
        },
        {
          "name": "stderr",
          "output_type": "stream",
          "text": [
            "\n"
          ]
        },
        {
          "name": "stdout",
          "output_type": "stream",
          "text": [
            "\n",
            "      Epoch    GPU_mem   box_loss   seg_loss   cls_loss   dfl_loss  Instances       Size\n"
          ]
        },
        {
          "name": "stderr",
          "output_type": "stream",
          "text": [
            "      27/60      5.08G      1.228      2.227      0.853      1.425         60        800: 100%|██████████| 96/96 [01:44<00:00,  1.09s/it]\n",
            "                 Class     Images  Instances      Box(P          R      mAP50  mAP50-95)     Mask(P          R      mAP50  mAP50-95): 100%|██████████| 5/5 [00:05<00:00,  1.11s/it]"
          ]
        },
        {
          "name": "stdout",
          "output_type": "stream",
          "text": [
            "                   all         36        443      0.848      0.774      0.874      0.568      0.839      0.778       0.86      0.506\n"
          ]
        },
        {
          "name": "stderr",
          "output_type": "stream",
          "text": [
            "\n"
          ]
        },
        {
          "name": "stdout",
          "output_type": "stream",
          "text": [
            "\n",
            "      Epoch    GPU_mem   box_loss   seg_loss   cls_loss   dfl_loss  Instances       Size\n"
          ]
        },
        {
          "name": "stderr",
          "output_type": "stream",
          "text": [
            "      28/60      5.44G      1.252       2.24     0.8764       1.45         99        800: 100%|██████████| 96/96 [01:47<00:00,  1.12s/it]\n",
            "                 Class     Images  Instances      Box(P          R      mAP50  mAP50-95)     Mask(P          R      mAP50  mAP50-95): 100%|██████████| 5/5 [00:04<00:00,  1.11it/s]"
          ]
        },
        {
          "name": "stdout",
          "output_type": "stream",
          "text": [
            "                   all         36        443      0.855       0.79      0.884      0.566      0.839      0.781      0.857      0.512\n"
          ]
        },
        {
          "name": "stderr",
          "output_type": "stream",
          "text": [
            "\n"
          ]
        },
        {
          "name": "stdout",
          "output_type": "stream",
          "text": [
            "\n",
            "      Epoch    GPU_mem   box_loss   seg_loss   cls_loss   dfl_loss  Instances       Size\n"
          ]
        },
        {
          "name": "stderr",
          "output_type": "stream",
          "text": [
            "      29/60      5.06G      1.208      2.141     0.8435      1.418         59        800: 100%|██████████| 96/96 [01:47<00:00,  1.11s/it]\n",
            "                 Class     Images  Instances      Box(P          R      mAP50  mAP50-95)     Mask(P          R      mAP50  mAP50-95): 100%|██████████| 5/5 [00:06<00:00,  1.23s/it]"
          ]
        },
        {
          "name": "stdout",
          "output_type": "stream",
          "text": [
            "                   all         36        443      0.842       0.78      0.868      0.556      0.886      0.754      0.855      0.511\n"
          ]
        },
        {
          "name": "stderr",
          "output_type": "stream",
          "text": [
            "\n"
          ]
        },
        {
          "name": "stdout",
          "output_type": "stream",
          "text": [
            "\n",
            "      Epoch    GPU_mem   box_loss   seg_loss   cls_loss   dfl_loss  Instances       Size\n"
          ]
        },
        {
          "name": "stderr",
          "output_type": "stream",
          "text": [
            "      30/60      5.15G      1.203      2.146     0.8277      1.427         41        800: 100%|██████████| 96/96 [01:48<00:00,  1.13s/it]\n",
            "                 Class     Images  Instances      Box(P          R      mAP50  mAP50-95)     Mask(P          R      mAP50  mAP50-95): 100%|██████████| 5/5 [00:05<00:00,  1.16s/it]"
          ]
        },
        {
          "name": "stdout",
          "output_type": "stream",
          "text": [
            "                   all         36        443      0.835      0.811      0.869      0.555      0.853       0.79       0.86      0.508\n"
          ]
        },
        {
          "name": "stderr",
          "output_type": "stream",
          "text": [
            "\n"
          ]
        },
        {
          "name": "stdout",
          "output_type": "stream",
          "text": [
            "\n",
            "      Epoch    GPU_mem   box_loss   seg_loss   cls_loss   dfl_loss  Instances       Size\n"
          ]
        },
        {
          "name": "stderr",
          "output_type": "stream",
          "text": [
            "      31/60       5.5G      1.221      2.141     0.8095      1.413         60        800: 100%|██████████| 96/96 [01:45<00:00,  1.10s/it]\n",
            "                 Class     Images  Instances      Box(P          R      mAP50  mAP50-95)     Mask(P          R      mAP50  mAP50-95): 100%|██████████| 5/5 [00:05<00:00,  1.14s/it]"
          ]
        },
        {
          "name": "stdout",
          "output_type": "stream",
          "text": [
            "                   all         36        443      0.795      0.817      0.854      0.552      0.819      0.815      0.864      0.518\n"
          ]
        },
        {
          "name": "stderr",
          "output_type": "stream",
          "text": [
            "\n"
          ]
        },
        {
          "name": "stdout",
          "output_type": "stream",
          "text": [
            "\n",
            "      Epoch    GPU_mem   box_loss   seg_loss   cls_loss   dfl_loss  Instances       Size\n"
          ]
        },
        {
          "name": "stderr",
          "output_type": "stream",
          "text": [
            "      32/60      4.75G      1.173        2.1      0.789      1.388         59        800: 100%|██████████| 96/96 [01:55<00:00,  1.20s/it]\n",
            "                 Class     Images  Instances      Box(P          R      mAP50  mAP50-95)     Mask(P          R      mAP50  mAP50-95): 100%|██████████| 5/5 [00:05<00:00,  1.17s/it]"
          ]
        },
        {
          "name": "stdout",
          "output_type": "stream",
          "text": [
            "                   all         36        443      0.855      0.774      0.873      0.568      0.856      0.774       0.87      0.532\n"
          ]
        },
        {
          "name": "stderr",
          "output_type": "stream",
          "text": [
            "\n"
          ]
        },
        {
          "name": "stdout",
          "output_type": "stream",
          "text": [
            "\n",
            "      Epoch    GPU_mem   box_loss   seg_loss   cls_loss   dfl_loss  Instances       Size\n"
          ]
        },
        {
          "name": "stderr",
          "output_type": "stream",
          "text": [
            "      33/60      5.23G      1.225      2.199     0.8312      1.424         53        800: 100%|██████████| 96/96 [01:44<00:00,  1.09s/it]\n",
            "                 Class     Images  Instances      Box(P          R      mAP50  mAP50-95)     Mask(P          R      mAP50  mAP50-95): 100%|██████████| 5/5 [00:07<00:00,  1.44s/it]"
          ]
        },
        {
          "name": "stdout",
          "output_type": "stream",
          "text": [
            "                   all         36        443      0.875      0.795      0.883      0.578      0.851      0.787      0.868      0.539\n"
          ]
        },
        {
          "name": "stderr",
          "output_type": "stream",
          "text": [
            "\n"
          ]
        },
        {
          "name": "stdout",
          "output_type": "stream",
          "text": [
            "\n",
            "      Epoch    GPU_mem   box_loss   seg_loss   cls_loss   dfl_loss  Instances       Size\n"
          ]
        },
        {
          "name": "stderr",
          "output_type": "stream",
          "text": [
            "      34/60       4.9G      1.192       2.15     0.8081      1.399         73        800: 100%|██████████| 96/96 [01:43<00:00,  1.08s/it]\n",
            "                 Class     Images  Instances      Box(P          R      mAP50  mAP50-95)     Mask(P          R      mAP50  mAP50-95): 100%|██████████| 5/5 [00:07<00:00,  1.44s/it]"
          ]
        },
        {
          "name": "stdout",
          "output_type": "stream",
          "text": [
            "                   all         36        443      0.842      0.805      0.876      0.571      0.838      0.792      0.853       0.52\n"
          ]
        },
        {
          "name": "stderr",
          "output_type": "stream",
          "text": [
            "\n"
          ]
        },
        {
          "name": "stdout",
          "output_type": "stream",
          "text": [
            "\n",
            "      Epoch    GPU_mem   box_loss   seg_loss   cls_loss   dfl_loss  Instances       Size\n"
          ]
        },
        {
          "name": "stderr",
          "output_type": "stream",
          "text": [
            "      35/60      5.05G      1.162      2.084     0.7711      1.372        160        800: 100%|██████████| 96/96 [02:29<00:00,  1.56s/it]\n",
            "                 Class     Images  Instances      Box(P          R      mAP50  mAP50-95)     Mask(P          R      mAP50  mAP50-95): 100%|██████████| 5/5 [00:07<00:00,  1.44s/it]"
          ]
        },
        {
          "name": "stdout",
          "output_type": "stream",
          "text": [
            "                   all         36        443      0.879       0.82      0.891      0.579      0.869      0.806      0.875      0.531\n"
          ]
        },
        {
          "name": "stderr",
          "output_type": "stream",
          "text": [
            "\n"
          ]
        },
        {
          "name": "stdout",
          "output_type": "stream",
          "text": [
            "\n",
            "      Epoch    GPU_mem   box_loss   seg_loss   cls_loss   dfl_loss  Instances       Size\n"
          ]
        },
        {
          "name": "stderr",
          "output_type": "stream",
          "text": [
            "      36/60      5.01G      1.116      1.977     0.7354      1.357         61        800: 100%|██████████| 96/96 [01:26<00:00,  1.11it/s]\n",
            "                 Class     Images  Instances      Box(P          R      mAP50  mAP50-95)     Mask(P          R      mAP50  mAP50-95): 100%|██████████| 5/5 [00:05<00:00,  1.07s/it]"
          ]
        },
        {
          "name": "stdout",
          "output_type": "stream",
          "text": [
            "                   all         36        443      0.851      0.847        0.9      0.588      0.842      0.837      0.888      0.543\n"
          ]
        },
        {
          "name": "stderr",
          "output_type": "stream",
          "text": [
            "\n"
          ]
        },
        {
          "name": "stdout",
          "output_type": "stream",
          "text": [
            "\n",
            "      Epoch    GPU_mem   box_loss   seg_loss   cls_loss   dfl_loss  Instances       Size\n"
          ]
        },
        {
          "name": "stderr",
          "output_type": "stream",
          "text": [
            "      37/60      5.05G      1.142      2.028     0.7499      1.364         46        800: 100%|██████████| 96/96 [02:09<00:00,  1.35s/it]\n",
            "                 Class     Images  Instances      Box(P          R      mAP50  mAP50-95)     Mask(P          R      mAP50  mAP50-95): 100%|██████████| 5/5 [00:07<00:00,  1.50s/it]"
          ]
        },
        {
          "name": "stdout",
          "output_type": "stream",
          "text": [
            "                   all         36        443      0.849      0.801      0.883      0.578      0.866      0.788      0.881      0.548\n"
          ]
        },
        {
          "name": "stderr",
          "output_type": "stream",
          "text": [
            "\n"
          ]
        },
        {
          "name": "stdout",
          "output_type": "stream",
          "text": [
            "\n",
            "      Epoch    GPU_mem   box_loss   seg_loss   cls_loss   dfl_loss  Instances       Size\n"
          ]
        },
        {
          "name": "stderr",
          "output_type": "stream",
          "text": [
            "      38/60      5.34G      1.144      2.034     0.7691      1.374         52        800: 100%|██████████| 96/96 [01:51<00:00,  1.16s/it]\n",
            "                 Class     Images  Instances      Box(P          R      mAP50  mAP50-95)     Mask(P          R      mAP50  mAP50-95): 100%|██████████| 5/5 [00:07<00:00,  1.50s/it]"
          ]
        },
        {
          "name": "stdout",
          "output_type": "stream",
          "text": [
            "                   all         36        443      0.854      0.826      0.899      0.591      0.854      0.817      0.891      0.538\n"
          ]
        },
        {
          "name": "stderr",
          "output_type": "stream",
          "text": [
            "\n"
          ]
        },
        {
          "name": "stdout",
          "output_type": "stream",
          "text": [
            "\n",
            "      Epoch    GPU_mem   box_loss   seg_loss   cls_loss   dfl_loss  Instances       Size\n"
          ]
        },
        {
          "name": "stderr",
          "output_type": "stream",
          "text": [
            "      39/60      4.63G      1.147      2.013     0.7493       1.37         78        800: 100%|██████████| 96/96 [01:55<00:00,  1.20s/it]\n",
            "                 Class     Images  Instances      Box(P          R      mAP50  mAP50-95)     Mask(P          R      mAP50  mAP50-95): 100%|██████████| 5/5 [00:06<00:00,  1.32s/it]"
          ]
        },
        {
          "name": "stdout",
          "output_type": "stream",
          "text": [
            "                   all         36        443      0.862      0.831      0.895      0.577      0.853      0.815      0.878      0.538\n"
          ]
        },
        {
          "name": "stderr",
          "output_type": "stream",
          "text": [
            "\n"
          ]
        },
        {
          "name": "stdout",
          "output_type": "stream",
          "text": [
            "\n",
            "      Epoch    GPU_mem   box_loss   seg_loss   cls_loss   dfl_loss  Instances       Size\n"
          ]
        },
        {
          "name": "stderr",
          "output_type": "stream",
          "text": [
            "      40/60      6.16G      1.123      1.988     0.7199      1.344         37        800: 100%|██████████| 96/96 [01:58<00:00,  1.24s/it]\n",
            "                 Class     Images  Instances      Box(P          R      mAP50  mAP50-95)     Mask(P          R      mAP50  mAP50-95): 100%|██████████| 5/5 [00:06<00:00,  1.35s/it]"
          ]
        },
        {
          "name": "stdout",
          "output_type": "stream",
          "text": [
            "                   all         36        443      0.827       0.83      0.884      0.583      0.824      0.826      0.874      0.543\n"
          ]
        },
        {
          "name": "stderr",
          "output_type": "stream",
          "text": [
            "\n"
          ]
        },
        {
          "name": "stdout",
          "output_type": "stream",
          "text": [
            "\n",
            "      Epoch    GPU_mem   box_loss   seg_loss   cls_loss   dfl_loss  Instances       Size\n"
          ]
        },
        {
          "name": "stderr",
          "output_type": "stream",
          "text": [
            "      41/60      4.73G       1.09      1.946     0.7043      1.328         91        800: 100%|██████████| 96/96 [01:46<00:00,  1.11s/it]\n",
            "                 Class     Images  Instances      Box(P          R      mAP50  mAP50-95)     Mask(P          R      mAP50  mAP50-95): 100%|██████████| 5/5 [00:04<00:00,  1.03it/s]"
          ]
        },
        {
          "name": "stdout",
          "output_type": "stream",
          "text": [
            "                   all         36        443      0.867      0.817      0.889      0.583      0.888      0.788       0.88      0.535\n"
          ]
        },
        {
          "name": "stderr",
          "output_type": "stream",
          "text": [
            "\n"
          ]
        },
        {
          "name": "stdout",
          "output_type": "stream",
          "text": [
            "\n",
            "      Epoch    GPU_mem   box_loss   seg_loss   cls_loss   dfl_loss  Instances       Size\n"
          ]
        },
        {
          "name": "stderr",
          "output_type": "stream",
          "text": [
            "      42/60      4.92G      1.084      1.919     0.6894      1.331         51        800: 100%|██████████| 96/96 [01:57<00:00,  1.22s/it]\n",
            "                 Class     Images  Instances      Box(P          R      mAP50  mAP50-95)     Mask(P          R      mAP50  mAP50-95): 100%|██████████| 5/5 [00:06<00:00,  1.28s/it]"
          ]
        },
        {
          "name": "stdout",
          "output_type": "stream",
          "text": [
            "                   all         36        443      0.847       0.84      0.901      0.588      0.874      0.797      0.896      0.553\n"
          ]
        },
        {
          "name": "stderr",
          "output_type": "stream",
          "text": [
            "\n"
          ]
        },
        {
          "name": "stdout",
          "output_type": "stream",
          "text": [
            "\n",
            "      Epoch    GPU_mem   box_loss   seg_loss   cls_loss   dfl_loss  Instances       Size\n"
          ]
        },
        {
          "name": "stderr",
          "output_type": "stream",
          "text": [
            "      43/60       4.7G      1.079      1.892     0.6747      1.314         79        800: 100%|██████████| 96/96 [01:55<00:00,  1.20s/it]\n",
            "                 Class     Images  Instances      Box(P          R      mAP50  mAP50-95)     Mask(P          R      mAP50  mAP50-95): 100%|██████████| 5/5 [00:04<00:00,  1.23it/s]"
          ]
        },
        {
          "name": "stdout",
          "output_type": "stream",
          "text": [
            "                   all         36        443       0.87      0.804      0.892      0.587      0.881      0.788       0.88      0.548\n"
          ]
        },
        {
          "name": "stderr",
          "output_type": "stream",
          "text": [
            "\n"
          ]
        },
        {
          "name": "stdout",
          "output_type": "stream",
          "text": [
            "\n",
            "      Epoch    GPU_mem   box_loss   seg_loss   cls_loss   dfl_loss  Instances       Size\n"
          ]
        },
        {
          "name": "stderr",
          "output_type": "stream",
          "text": [
            "      44/60      4.82G      1.074      1.912     0.6759      1.311         71        800: 100%|██████████| 96/96 [01:39<00:00,  1.04s/it]\n",
            "                 Class     Images  Instances      Box(P          R      mAP50  mAP50-95)     Mask(P          R      mAP50  mAP50-95): 100%|██████████| 5/5 [00:06<00:00,  1.24s/it]"
          ]
        },
        {
          "name": "stdout",
          "output_type": "stream",
          "text": [
            "                   all         36        443      0.875      0.817      0.893      0.593      0.839      0.844      0.892      0.555\n"
          ]
        },
        {
          "name": "stderr",
          "output_type": "stream",
          "text": [
            "\n"
          ]
        },
        {
          "name": "stdout",
          "output_type": "stream",
          "text": [
            "\n",
            "      Epoch    GPU_mem   box_loss   seg_loss   cls_loss   dfl_loss  Instances       Size\n"
          ]
        },
        {
          "name": "stderr",
          "output_type": "stream",
          "text": [
            "      45/60      4.99G      1.037      1.851     0.6424      1.269         38        800: 100%|██████████| 96/96 [01:52<00:00,  1.17s/it]\n",
            "                 Class     Images  Instances      Box(P          R      mAP50  mAP50-95)     Mask(P          R      mAP50  mAP50-95): 100%|██████████| 5/5 [00:04<00:00,  1.05it/s]"
          ]
        },
        {
          "name": "stdout",
          "output_type": "stream",
          "text": [
            "                   all         36        443      0.874      0.813      0.885      0.589      0.874      0.806      0.871      0.551\n"
          ]
        },
        {
          "name": "stderr",
          "output_type": "stream",
          "text": [
            "\n"
          ]
        },
        {
          "name": "stdout",
          "output_type": "stream",
          "text": [
            "\n",
            "      Epoch    GPU_mem   box_loss   seg_loss   cls_loss   dfl_loss  Instances       Size\n"
          ]
        },
        {
          "name": "stderr",
          "output_type": "stream",
          "text": [
            "      46/60      4.59G      1.052      1.832     0.6505      1.283         30        800: 100%|██████████| 96/96 [01:56<00:00,  1.21s/it]\n",
            "                 Class     Images  Instances      Box(P          R      mAP50  mAP50-95)     Mask(P          R      mAP50  mAP50-95): 100%|██████████| 5/5 [00:07<00:00,  1.48s/it]"
          ]
        },
        {
          "name": "stdout",
          "output_type": "stream",
          "text": [
            "                   all         36        443      0.869      0.825      0.886      0.593      0.883      0.817      0.877      0.552\n"
          ]
        },
        {
          "name": "stderr",
          "output_type": "stream",
          "text": [
            "\n"
          ]
        },
        {
          "name": "stdout",
          "output_type": "stream",
          "text": [
            "\n",
            "      Epoch    GPU_mem   box_loss   seg_loss   cls_loss   dfl_loss  Instances       Size\n"
          ]
        },
        {
          "name": "stderr",
          "output_type": "stream",
          "text": [
            "      47/60      6.31G      1.054      1.875     0.6592      1.309         74        800: 100%|██████████| 96/96 [01:56<00:00,  1.21s/it]\n",
            "                 Class     Images  Instances      Box(P          R      mAP50  mAP50-95)     Mask(P          R      mAP50  mAP50-95): 100%|██████████| 5/5 [00:07<00:00,  1.42s/it]"
          ]
        },
        {
          "name": "stdout",
          "output_type": "stream",
          "text": [
            "                   all         36        443      0.897      0.808      0.898      0.593      0.892      0.804      0.886      0.558\n"
          ]
        },
        {
          "name": "stderr",
          "output_type": "stream",
          "text": [
            "\n"
          ]
        },
        {
          "name": "stdout",
          "output_type": "stream",
          "text": [
            "\n",
            "      Epoch    GPU_mem   box_loss   seg_loss   cls_loss   dfl_loss  Instances       Size\n"
          ]
        },
        {
          "name": "stderr",
          "output_type": "stream",
          "text": [
            "      48/60      4.85G      1.031      1.816     0.6282      1.283         53        800: 100%|██████████| 96/96 [02:10<00:00,  1.36s/it]\n",
            "                 Class     Images  Instances      Box(P          R      mAP50  mAP50-95)     Mask(P          R      mAP50  mAP50-95): 100%|██████████| 5/5 [00:05<00:00,  1.19s/it]"
          ]
        },
        {
          "name": "stdout",
          "output_type": "stream",
          "text": [
            "                   all         36        443      0.888      0.826      0.894      0.597      0.893      0.829      0.881      0.562\n"
          ]
        },
        {
          "name": "stderr",
          "output_type": "stream",
          "text": [
            "\n"
          ]
        },
        {
          "name": "stdout",
          "output_type": "stream",
          "text": [
            "\n",
            "      Epoch    GPU_mem   box_loss   seg_loss   cls_loss   dfl_loss  Instances       Size\n"
          ]
        },
        {
          "name": "stderr",
          "output_type": "stream",
          "text": [
            "      49/60      4.72G      1.001      1.752     0.6075      1.265        104        800: 100%|██████████| 96/96 [01:49<00:00,  1.14s/it]\n",
            "                 Class     Images  Instances      Box(P          R      mAP50  mAP50-95)     Mask(P          R      mAP50  mAP50-95): 100%|██████████| 5/5 [00:05<00:00,  1.13s/it]"
          ]
        },
        {
          "name": "stdout",
          "output_type": "stream",
          "text": [
            "                   all         36        443      0.872       0.83       0.89      0.588      0.879      0.837      0.884      0.548\n"
          ]
        },
        {
          "name": "stderr",
          "output_type": "stream",
          "text": [
            "\n"
          ]
        },
        {
          "name": "stdout",
          "output_type": "stream",
          "text": [
            "\n",
            "      Epoch    GPU_mem   box_loss   seg_loss   cls_loss   dfl_loss  Instances       Size\n"
          ]
        },
        {
          "name": "stderr",
          "output_type": "stream",
          "text": [
            "      50/60      5.17G      1.015      1.793     0.6141      1.266         71        800: 100%|██████████| 96/96 [01:52<00:00,  1.17s/it]\n",
            "                 Class     Images  Instances      Box(P          R      mAP50  mAP50-95)     Mask(P          R      mAP50  mAP50-95): 100%|██████████| 5/5 [00:07<00:00,  1.41s/it]"
          ]
        },
        {
          "name": "stdout",
          "output_type": "stream",
          "text": [
            "                   all         36        443      0.876      0.795      0.888      0.596      0.876      0.795      0.877      0.562\n"
          ]
        },
        {
          "name": "stderr",
          "output_type": "stream",
          "text": [
            "\n"
          ]
        },
        {
          "name": "stdout",
          "output_type": "stream",
          "text": [
            "Closing dataloader mosaic\n",
            "\n",
            "      Epoch    GPU_mem   box_loss   seg_loss   cls_loss   dfl_loss  Instances       Size\n"
          ]
        },
        {
          "name": "stderr",
          "output_type": "stream",
          "text": [
            "      51/60       4.1G     0.9801       1.77     0.6179      1.316         33        800: 100%|██████████| 96/96 [01:13<00:00,  1.31it/s]\n",
            "                 Class     Images  Instances      Box(P          R      mAP50  mAP50-95)     Mask(P          R      mAP50  mAP50-95): 100%|██████████| 5/5 [00:06<00:00,  1.32s/it]"
          ]
        },
        {
          "name": "stdout",
          "output_type": "stream",
          "text": [
            "                   all         36        443      0.867      0.837      0.902      0.607      0.881      0.804      0.889       0.57\n"
          ]
        },
        {
          "name": "stderr",
          "output_type": "stream",
          "text": [
            "\n"
          ]
        },
        {
          "name": "stdout",
          "output_type": "stream",
          "text": [
            "\n",
            "      Epoch    GPU_mem   box_loss   seg_loss   cls_loss   dfl_loss  Instances       Size\n"
          ]
        },
        {
          "name": "stderr",
          "output_type": "stream",
          "text": [
            "      52/60      4.19G     0.9458      1.693     0.5503      1.255         45        800: 100%|██████████| 96/96 [01:41<00:00,  1.06s/it]\n",
            "                 Class     Images  Instances      Box(P          R      mAP50  mAP50-95)     Mask(P          R      mAP50  mAP50-95): 100%|██████████| 5/5 [00:08<00:00,  1.78s/it]"
          ]
        },
        {
          "name": "stdout",
          "output_type": "stream",
          "text": [
            "                   all         36        443      0.888      0.821      0.903       0.61      0.878      0.824      0.897      0.573\n"
          ]
        },
        {
          "name": "stderr",
          "output_type": "stream",
          "text": [
            "\n"
          ]
        },
        {
          "name": "stdout",
          "output_type": "stream",
          "text": [
            "\n",
            "      Epoch    GPU_mem   box_loss   seg_loss   cls_loss   dfl_loss  Instances       Size\n"
          ]
        },
        {
          "name": "stderr",
          "output_type": "stream",
          "text": [
            "      53/60      4.13G     0.9312       1.68     0.5341      1.254         44        800: 100%|██████████| 96/96 [02:03<00:00,  1.29s/it]\n",
            "                 Class     Images  Instances      Box(P          R      mAP50  mAP50-95)     Mask(P          R      mAP50  mAP50-95): 100%|██████████| 5/5 [00:05<00:00,  1.17s/it]"
          ]
        },
        {
          "name": "stdout",
          "output_type": "stream",
          "text": [
            "                   all         36        443      0.876      0.849      0.912      0.608       0.86      0.833      0.893      0.565\n"
          ]
        },
        {
          "name": "stderr",
          "output_type": "stream",
          "text": [
            "\n"
          ]
        },
        {
          "name": "stdout",
          "output_type": "stream",
          "text": [
            "\n",
            "      Epoch    GPU_mem   box_loss   seg_loss   cls_loss   dfl_loss  Instances       Size\n"
          ]
        },
        {
          "name": "stderr",
          "output_type": "stream",
          "text": [
            "      54/60      4.11G     0.9127      1.613     0.5365      1.241         39        800: 100%|██████████| 96/96 [01:52<00:00,  1.17s/it]\n",
            "                 Class     Images  Instances      Box(P          R      mAP50  mAP50-95)     Mask(P          R      mAP50  mAP50-95): 100%|██████████| 5/5 [00:05<00:00,  1.18s/it]"
          ]
        },
        {
          "name": "stdout",
          "output_type": "stream",
          "text": [
            "                   all         36        443      0.863      0.825      0.896      0.607      0.858       0.82      0.884      0.568\n"
          ]
        },
        {
          "name": "stderr",
          "output_type": "stream",
          "text": [
            "\n"
          ]
        },
        {
          "name": "stdout",
          "output_type": "stream",
          "text": [
            "\n",
            "      Epoch    GPU_mem   box_loss   seg_loss   cls_loss   dfl_loss  Instances       Size\n"
          ]
        },
        {
          "name": "stderr",
          "output_type": "stream",
          "text": [
            "      55/60       4.1G     0.9175      1.638     0.5375      1.243         61        800: 100%|██████████| 96/96 [02:08<00:00,  1.34s/it]\n",
            "                 Class     Images  Instances      Box(P          R      mAP50  mAP50-95)     Mask(P          R      mAP50  mAP50-95): 100%|██████████| 5/5 [00:05<00:00,  1.02s/it]"
          ]
        },
        {
          "name": "stdout",
          "output_type": "stream",
          "text": [
            "                   all         36        443      0.849       0.84      0.896      0.597      0.847      0.828      0.885      0.564\n"
          ]
        },
        {
          "name": "stderr",
          "output_type": "stream",
          "text": [
            "\n"
          ]
        },
        {
          "name": "stdout",
          "output_type": "stream",
          "text": [
            "\n",
            "      Epoch    GPU_mem   box_loss   seg_loss   cls_loss   dfl_loss  Instances       Size\n"
          ]
        },
        {
          "name": "stderr",
          "output_type": "stream",
          "text": [
            "      56/60      4.06G     0.8963      1.582     0.5005      1.222         30        800: 100%|██████████| 96/96 [01:45<00:00,  1.10s/it]\n",
            "                 Class     Images  Instances      Box(P          R      mAP50  mAP50-95)     Mask(P          R      mAP50  mAP50-95): 100%|██████████| 5/5 [00:05<00:00,  1.05s/it]"
          ]
        },
        {
          "name": "stdout",
          "output_type": "stream",
          "text": [
            "                   all         36        443      0.849      0.826      0.895      0.597      0.873      0.813      0.893      0.565\n"
          ]
        },
        {
          "name": "stderr",
          "output_type": "stream",
          "text": [
            "\n"
          ]
        },
        {
          "name": "stdout",
          "output_type": "stream",
          "text": [
            "\n",
            "      Epoch    GPU_mem   box_loss   seg_loss   cls_loss   dfl_loss  Instances       Size\n"
          ]
        },
        {
          "name": "stderr",
          "output_type": "stream",
          "text": [
            "      57/60      4.55G     0.8562      1.549     0.4907      1.197         29        800: 100%|██████████| 96/96 [01:43<00:00,  1.08s/it]\n",
            "                 Class     Images  Instances      Box(P          R      mAP50  mAP50-95)     Mask(P          R      mAP50  mAP50-95): 100%|██████████| 5/5 [00:05<00:00,  1.00s/it]"
          ]
        },
        {
          "name": "stdout",
          "output_type": "stream",
          "text": [
            "                   all         36        443      0.867      0.823      0.901      0.602      0.861      0.837      0.892      0.569\n"
          ]
        },
        {
          "name": "stderr",
          "output_type": "stream",
          "text": [
            "\n"
          ]
        },
        {
          "name": "stdout",
          "output_type": "stream",
          "text": [
            "\n",
            "      Epoch    GPU_mem   box_loss   seg_loss   cls_loss   dfl_loss  Instances       Size\n"
          ]
        },
        {
          "name": "stderr",
          "output_type": "stream",
          "text": [
            "      58/60      4.11G     0.8461      1.525     0.4906      1.217         10        800: 100%|██████████| 96/96 [01:41<00:00,  1.06s/it]\n",
            "                 Class     Images  Instances      Box(P          R      mAP50  mAP50-95)     Mask(P          R      mAP50  mAP50-95): 100%|██████████| 5/5 [00:04<00:00,  1.05it/s]"
          ]
        },
        {
          "name": "stdout",
          "output_type": "stream",
          "text": [
            "                   all         36        443      0.895      0.815      0.905      0.604      0.893      0.813      0.888      0.569\n"
          ]
        },
        {
          "name": "stderr",
          "output_type": "stream",
          "text": [
            "\n"
          ]
        },
        {
          "name": "stdout",
          "output_type": "stream",
          "text": [
            "\n",
            "      Epoch    GPU_mem   box_loss   seg_loss   cls_loss   dfl_loss  Instances       Size\n"
          ]
        },
        {
          "name": "stderr",
          "output_type": "stream",
          "text": [
            "      59/60       4.1G     0.8629      1.551     0.4838      1.196         58        800: 100%|██████████| 96/96 [01:31<00:00,  1.04it/s]\n",
            "                 Class     Images  Instances      Box(P          R      mAP50  mAP50-95)     Mask(P          R      mAP50  mAP50-95): 100%|██████████| 5/5 [00:05<00:00,  1.17s/it]"
          ]
        },
        {
          "name": "stdout",
          "output_type": "stream",
          "text": [
            "                   all         36        443      0.892      0.817      0.907      0.607       0.89      0.815      0.899      0.574\n"
          ]
        },
        {
          "name": "stderr",
          "output_type": "stream",
          "text": [
            "\n"
          ]
        },
        {
          "name": "stdout",
          "output_type": "stream",
          "text": [
            "\n",
            "      Epoch    GPU_mem   box_loss   seg_loss   cls_loss   dfl_loss  Instances       Size\n"
          ]
        },
        {
          "name": "stderr",
          "output_type": "stream",
          "text": [
            "      60/60      3.97G     0.8359      1.513     0.4656      1.189         41        800: 100%|██████████| 96/96 [01:22<00:00,  1.16it/s]\n",
            "                 Class     Images  Instances      Box(P          R      mAP50  mAP50-95)     Mask(P          R      mAP50  mAP50-95): 100%|██████████| 5/5 [00:04<00:00,  1.11it/s]"
          ]
        },
        {
          "name": "stdout",
          "output_type": "stream",
          "text": [
            "                   all         36        443      0.888      0.824      0.909      0.605      0.878      0.828      0.895      0.573\n"
          ]
        },
        {
          "name": "stderr",
          "output_type": "stream",
          "text": [
            "\n"
          ]
        },
        {
          "name": "stdout",
          "output_type": "stream",
          "text": [
            "\n",
            "60 epochs completed in 2.069 hours.\n",
            "Optimizer stripped from runs\\segment\\identifikasi_sawit_v1.095\\weights\\last.pt, 54.9MB\n",
            "Optimizer stripped from runs\\segment\\identifikasi_sawit_v1.095\\weights\\best.pt, 54.9MB\n",
            "\n",
            "Validating runs\\segment\\identifikasi_sawit_v1.095\\weights\\best.pt...\n",
            "Ultralytics 8.3.107  Python-3.11.5 torch-2.0.1+cu117 CUDA:0 (NVIDIA GeForce RTX 3050 Laptop GPU, 4096MiB)\n",
            "YOLOv8m-seg summary (fused): 105 layers, 27,222,963 parameters, 0 gradients, 110.0 GFLOPs\n"
          ]
        },
        {
          "name": "stderr",
          "output_type": "stream",
          "text": [
            "                 Class     Images  Instances      Box(P          R      mAP50  mAP50-95)     Mask(P          R      mAP50  mAP50-95):   0%|          | 0/5 [00:00<?, ?it/s]"
          ]
        },
        {
          "name": "stdout",
          "output_type": "stream",
          "text": [
            "WARNING  Limiting validation plots to first 50 items per image for speed...\n",
            "WARNING  Limiting validation plots to first 50 items per image for speed...\n"
          ]
        },
        {
          "name": "stderr",
          "output_type": "stream",
          "text": [
            "                 Class     Images  Instances      Box(P          R      mAP50  mAP50-95)     Mask(P          R      mAP50  mAP50-95):  20%|██        | 1/5 [00:00<00:01,  2.11it/s]"
          ]
        },
        {
          "name": "stdout",
          "output_type": "stream",
          "text": [
            "WARNING  Limiting validation plots to first 50 items per image for speed...\n",
            "WARNING  Limiting validation plots to first 50 items per image for speed...\n",
            "WARNING  Limiting validation plots to first 50 items per image for speed...\n",
            "WARNING  Limiting validation plots to first 50 items per image for speed...\n",
            "WARNING  Limiting validation plots to first 50 items per image for speed...\n",
            "WARNING  Limiting validation plots to first 50 items per image for speed...\n"
          ]
        },
        {
          "name": "stderr",
          "output_type": "stream",
          "text": [
            "                 Class     Images  Instances      Box(P          R      mAP50  mAP50-95)     Mask(P          R      mAP50  mAP50-95):  40%|████      | 2/5 [00:01<00:01,  1.69it/s]"
          ]
        },
        {
          "name": "stdout",
          "output_type": "stream",
          "text": [
            "WARNING  Limiting validation plots to first 50 items per image for speed...\n"
          ]
        },
        {
          "name": "stderr",
          "output_type": "stream",
          "text": [
            "                 Class     Images  Instances      Box(P          R      mAP50  mAP50-95)     Mask(P          R      mAP50  mAP50-95): 100%|██████████| 5/5 [00:02<00:00,  1.70it/s]\n"
          ]
        },
        {
          "name": "stdout",
          "output_type": "stream",
          "text": [
            "                   all         36        443      0.888      0.821      0.902       0.61      0.878      0.826      0.897      0.572\n",
            "Speed: 1.6ms preprocess, 38.6ms inference, 0.0ms loss, 2.8ms postprocess per image\n",
            "Results saved to \u001b[1mruns\\segment\\identifikasi_sawit_v1.095\u001b[0m\n"
          ]
        },
        {
          "data": {
            "text/plain": [
              "ultralytics.utils.metrics.SegmentMetrics object with attributes:\n",
              "\n",
              "ap_class_index: array([0])\n",
              "box: ultralytics.utils.metrics.Metric object\n",
              "confusion_matrix: <ultralytics.utils.metrics.ConfusionMatrix object at 0x000001FD857E4D90>\n",
              "curves: ['Precision-Recall(B)', 'F1-Confidence(B)', 'Precision-Confidence(B)', 'Recall-Confidence(B)', 'Precision-Recall(M)', 'F1-Confidence(M)', 'Precision-Confidence(M)', 'Recall-Confidence(M)']\n",
              "curves_results: [[array([          0,    0.001001,    0.002002,    0.003003,    0.004004,    0.005005,    0.006006,    0.007007,    0.008008,    0.009009,     0.01001,    0.011011,    0.012012,    0.013013,    0.014014,    0.015015,    0.016016,    0.017017,    0.018018,    0.019019,     0.02002,    0.021021,    0.022022,    0.023023,\n",
              "          0.024024,    0.025025,    0.026026,    0.027027,    0.028028,    0.029029,     0.03003,    0.031031,    0.032032,    0.033033,    0.034034,    0.035035,    0.036036,    0.037037,    0.038038,    0.039039,     0.04004,    0.041041,    0.042042,    0.043043,    0.044044,    0.045045,    0.046046,    0.047047,\n",
              "          0.048048,    0.049049,     0.05005,    0.051051,    0.052052,    0.053053,    0.054054,    0.055055,    0.056056,    0.057057,    0.058058,    0.059059,     0.06006,    0.061061,    0.062062,    0.063063,    0.064064,    0.065065,    0.066066,    0.067067,    0.068068,    0.069069,     0.07007,    0.071071,\n",
              "          0.072072,    0.073073,    0.074074,    0.075075,    0.076076,    0.077077,    0.078078,    0.079079,     0.08008,    0.081081,    0.082082,    0.083083,    0.084084,    0.085085,    0.086086,    0.087087,    0.088088,    0.089089,     0.09009,    0.091091,    0.092092,    0.093093,    0.094094,    0.095095,\n",
              "          0.096096,    0.097097,    0.098098,    0.099099,      0.1001,      0.1011,      0.1021,      0.1031,      0.1041,     0.10511,     0.10611,     0.10711,     0.10811,     0.10911,     0.11011,     0.11111,     0.11211,     0.11311,     0.11411,     0.11512,     0.11612,     0.11712,     0.11812,     0.11912,\n",
              "           0.12012,     0.12112,     0.12212,     0.12312,     0.12412,     0.12513,     0.12613,     0.12713,     0.12813,     0.12913,     0.13013,     0.13113,     0.13213,     0.13313,     0.13413,     0.13514,     0.13614,     0.13714,     0.13814,     0.13914,     0.14014,     0.14114,     0.14214,     0.14314,\n",
              "           0.14414,     0.14515,     0.14615,     0.14715,     0.14815,     0.14915,     0.15015,     0.15115,     0.15215,     0.15315,     0.15415,     0.15516,     0.15616,     0.15716,     0.15816,     0.15916,     0.16016,     0.16116,     0.16216,     0.16316,     0.16416,     0.16517,     0.16617,     0.16717,\n",
              "           0.16817,     0.16917,     0.17017,     0.17117,     0.17217,     0.17317,     0.17417,     0.17518,     0.17618,     0.17718,     0.17818,     0.17918,     0.18018,     0.18118,     0.18218,     0.18318,     0.18418,     0.18519,     0.18619,     0.18719,     0.18819,     0.18919,     0.19019,     0.19119,\n",
              "           0.19219,     0.19319,     0.19419,      0.1952,      0.1962,      0.1972,      0.1982,      0.1992,      0.2002,      0.2012,      0.2022,      0.2032,      0.2042,     0.20521,     0.20621,     0.20721,     0.20821,     0.20921,     0.21021,     0.21121,     0.21221,     0.21321,     0.21421,     0.21522,\n",
              "           0.21622,     0.21722,     0.21822,     0.21922,     0.22022,     0.22122,     0.22222,     0.22322,     0.22422,     0.22523,     0.22623,     0.22723,     0.22823,     0.22923,     0.23023,     0.23123,     0.23223,     0.23323,     0.23423,     0.23524,     0.23624,     0.23724,     0.23824,     0.23924,\n",
              "           0.24024,     0.24124,     0.24224,     0.24324,     0.24424,     0.24525,     0.24625,     0.24725,     0.24825,     0.24925,     0.25025,     0.25125,     0.25225,     0.25325,     0.25425,     0.25526,     0.25626,     0.25726,     0.25826,     0.25926,     0.26026,     0.26126,     0.26226,     0.26326,\n",
              "           0.26426,     0.26527,     0.26627,     0.26727,     0.26827,     0.26927,     0.27027,     0.27127,     0.27227,     0.27327,     0.27427,     0.27528,     0.27628,     0.27728,     0.27828,     0.27928,     0.28028,     0.28128,     0.28228,     0.28328,     0.28428,     0.28529,     0.28629,     0.28729,\n",
              "           0.28829,     0.28929,     0.29029,     0.29129,     0.29229,     0.29329,     0.29429,      0.2953,      0.2963,      0.2973,      0.2983,      0.2993,      0.3003,      0.3013,      0.3023,      0.3033,      0.3043,     0.30531,     0.30631,     0.30731,     0.30831,     0.30931,     0.31031,     0.31131,\n",
              "           0.31231,     0.31331,     0.31431,     0.31532,     0.31632,     0.31732,     0.31832,     0.31932,     0.32032,     0.32132,     0.32232,     0.32332,     0.32432,     0.32533,     0.32633,     0.32733,     0.32833,     0.32933,     0.33033,     0.33133,     0.33233,     0.33333,     0.33433,     0.33534,\n",
              "           0.33634,     0.33734,     0.33834,     0.33934,     0.34034,     0.34134,     0.34234,     0.34334,     0.34434,     0.34535,     0.34635,     0.34735,     0.34835,     0.34935,     0.35035,     0.35135,     0.35235,     0.35335,     0.35435,     0.35536,     0.35636,     0.35736,     0.35836,     0.35936,\n",
              "           0.36036,     0.36136,     0.36236,     0.36336,     0.36436,     0.36537,     0.36637,     0.36737,     0.36837,     0.36937,     0.37037,     0.37137,     0.37237,     0.37337,     0.37437,     0.37538,     0.37638,     0.37738,     0.37838,     0.37938,     0.38038,     0.38138,     0.38238,     0.38338,\n",
              "           0.38438,     0.38539,     0.38639,     0.38739,     0.38839,     0.38939,     0.39039,     0.39139,     0.39239,     0.39339,     0.39439,      0.3954,      0.3964,      0.3974,      0.3984,      0.3994,      0.4004,      0.4014,      0.4024,      0.4034,      0.4044,     0.40541,     0.40641,     0.40741,\n",
              "           0.40841,     0.40941,     0.41041,     0.41141,     0.41241,     0.41341,     0.41441,     0.41542,     0.41642,     0.41742,     0.41842,     0.41942,     0.42042,     0.42142,     0.42242,     0.42342,     0.42442,     0.42543,     0.42643,     0.42743,     0.42843,     0.42943,     0.43043,     0.43143,\n",
              "           0.43243,     0.43343,     0.43443,     0.43544,     0.43644,     0.43744,     0.43844,     0.43944,     0.44044,     0.44144,     0.44244,     0.44344,     0.44444,     0.44545,     0.44645,     0.44745,     0.44845,     0.44945,     0.45045,     0.45145,     0.45245,     0.45345,     0.45445,     0.45546,\n",
              "           0.45646,     0.45746,     0.45846,     0.45946,     0.46046,     0.46146,     0.46246,     0.46346,     0.46446,     0.46547,     0.46647,     0.46747,     0.46847,     0.46947,     0.47047,     0.47147,     0.47247,     0.47347,     0.47447,     0.47548,     0.47648,     0.47748,     0.47848,     0.47948,\n",
              "           0.48048,     0.48148,     0.48248,     0.48348,     0.48448,     0.48549,     0.48649,     0.48749,     0.48849,     0.48949,     0.49049,     0.49149,     0.49249,     0.49349,     0.49449,      0.4955,      0.4965,      0.4975,      0.4985,      0.4995,      0.5005,      0.5015,      0.5025,      0.5035,\n",
              "            0.5045,     0.50551,     0.50651,     0.50751,     0.50851,     0.50951,     0.51051,     0.51151,     0.51251,     0.51351,     0.51451,     0.51552,     0.51652,     0.51752,     0.51852,     0.51952,     0.52052,     0.52152,     0.52252,     0.52352,     0.52452,     0.52553,     0.52653,     0.52753,\n",
              "           0.52853,     0.52953,     0.53053,     0.53153,     0.53253,     0.53353,     0.53453,     0.53554,     0.53654,     0.53754,     0.53854,     0.53954,     0.54054,     0.54154,     0.54254,     0.54354,     0.54454,     0.54555,     0.54655,     0.54755,     0.54855,     0.54955,     0.55055,     0.55155,\n",
              "           0.55255,     0.55355,     0.55455,     0.55556,     0.55656,     0.55756,     0.55856,     0.55956,     0.56056,     0.56156,     0.56256,     0.56356,     0.56456,     0.56557,     0.56657,     0.56757,     0.56857,     0.56957,     0.57057,     0.57157,     0.57257,     0.57357,     0.57457,     0.57558,\n",
              "           0.57658,     0.57758,     0.57858,     0.57958,     0.58058,     0.58158,     0.58258,     0.58358,     0.58458,     0.58559,     0.58659,     0.58759,     0.58859,     0.58959,     0.59059,     0.59159,     0.59259,     0.59359,     0.59459,      0.5956,      0.5966,      0.5976,      0.5986,      0.5996,\n",
              "            0.6006,      0.6016,      0.6026,      0.6036,      0.6046,     0.60561,     0.60661,     0.60761,     0.60861,     0.60961,     0.61061,     0.61161,     0.61261,     0.61361,     0.61461,     0.61562,     0.61662,     0.61762,     0.61862,     0.61962,     0.62062,     0.62162,     0.62262,     0.62362,\n",
              "           0.62462,     0.62563,     0.62663,     0.62763,     0.62863,     0.62963,     0.63063,     0.63163,     0.63263,     0.63363,     0.63463,     0.63564,     0.63664,     0.63764,     0.63864,     0.63964,     0.64064,     0.64164,     0.64264,     0.64364,     0.64464,     0.64565,     0.64665,     0.64765,\n",
              "           0.64865,     0.64965,     0.65065,     0.65165,     0.65265,     0.65365,     0.65465,     0.65566,     0.65666,     0.65766,     0.65866,     0.65966,     0.66066,     0.66166,     0.66266,     0.66366,     0.66466,     0.66567,     0.66667,     0.66767,     0.66867,     0.66967,     0.67067,     0.67167,\n",
              "           0.67267,     0.67367,     0.67467,     0.67568,     0.67668,     0.67768,     0.67868,     0.67968,     0.68068,     0.68168,     0.68268,     0.68368,     0.68468,     0.68569,     0.68669,     0.68769,     0.68869,     0.68969,     0.69069,     0.69169,     0.69269,     0.69369,     0.69469,      0.6957,\n",
              "            0.6967,      0.6977,      0.6987,      0.6997,      0.7007,      0.7017,      0.7027,      0.7037,      0.7047,     0.70571,     0.70671,     0.70771,     0.70871,     0.70971,     0.71071,     0.71171,     0.71271,     0.71371,     0.71471,     0.71572,     0.71672,     0.71772,     0.71872,     0.71972,\n",
              "           0.72072,     0.72172,     0.72272,     0.72372,     0.72472,     0.72573,     0.72673,     0.72773,     0.72873,     0.72973,     0.73073,     0.73173,     0.73273,     0.73373,     0.73473,     0.73574,     0.73674,     0.73774,     0.73874,     0.73974,     0.74074,     0.74174,     0.74274,     0.74374,\n",
              "           0.74474,     0.74575,     0.74675,     0.74775,     0.74875,     0.74975,     0.75075,     0.75175,     0.75275,     0.75375,     0.75475,     0.75576,     0.75676,     0.75776,     0.75876,     0.75976,     0.76076,     0.76176,     0.76276,     0.76376,     0.76476,     0.76577,     0.76677,     0.76777,\n",
              "           0.76877,     0.76977,     0.77077,     0.77177,     0.77277,     0.77377,     0.77477,     0.77578,     0.77678,     0.77778,     0.77878,     0.77978,     0.78078,     0.78178,     0.78278,     0.78378,     0.78478,     0.78579,     0.78679,     0.78779,     0.78879,     0.78979,     0.79079,     0.79179,\n",
              "           0.79279,     0.79379,     0.79479,      0.7958,      0.7968,      0.7978,      0.7988,      0.7998,      0.8008,      0.8018,      0.8028,      0.8038,      0.8048,     0.80581,     0.80681,     0.80781,     0.80881,     0.80981,     0.81081,     0.81181,     0.81281,     0.81381,     0.81481,     0.81582,\n",
              "           0.81682,     0.81782,     0.81882,     0.81982,     0.82082,     0.82182,     0.82282,     0.82382,     0.82482,     0.82583,     0.82683,     0.82783,     0.82883,     0.82983,     0.83083,     0.83183,     0.83283,     0.83383,     0.83483,     0.83584,     0.83684,     0.83784,     0.83884,     0.83984,\n",
              "           0.84084,     0.84184,     0.84284,     0.84384,     0.84484,     0.84585,     0.84685,     0.84785,     0.84885,     0.84985,     0.85085,     0.85185,     0.85285,     0.85385,     0.85485,     0.85586,     0.85686,     0.85786,     0.85886,     0.85986,     0.86086,     0.86186,     0.86286,     0.86386,\n",
              "           0.86486,     0.86587,     0.86687,     0.86787,     0.86887,     0.86987,     0.87087,     0.87187,     0.87287,     0.87387,     0.87487,     0.87588,     0.87688,     0.87788,     0.87888,     0.87988,     0.88088,     0.88188,     0.88288,     0.88388,     0.88488,     0.88589,     0.88689,     0.88789,\n",
              "           0.88889,     0.88989,     0.89089,     0.89189,     0.89289,     0.89389,     0.89489,      0.8959,      0.8969,      0.8979,      0.8989,      0.8999,      0.9009,      0.9019,      0.9029,      0.9039,      0.9049,     0.90591,     0.90691,     0.90791,     0.90891,     0.90991,     0.91091,     0.91191,\n",
              "           0.91291,     0.91391,     0.91491,     0.91592,     0.91692,     0.91792,     0.91892,     0.91992,     0.92092,     0.92192,     0.92292,     0.92392,     0.92492,     0.92593,     0.92693,     0.92793,     0.92893,     0.92993,     0.93093,     0.93193,     0.93293,     0.93393,     0.93493,     0.93594,\n",
              "           0.93694,     0.93794,     0.93894,     0.93994,     0.94094,     0.94194,     0.94294,     0.94394,     0.94494,     0.94595,     0.94695,     0.94795,     0.94895,     0.94995,     0.95095,     0.95195,     0.95295,     0.95395,     0.95495,     0.95596,     0.95696,     0.95796,     0.95896,     0.95996,\n",
              "           0.96096,     0.96196,     0.96296,     0.96396,     0.96496,     0.96597,     0.96697,     0.96797,     0.96897,     0.96997,     0.97097,     0.97197,     0.97297,     0.97397,     0.97497,     0.97598,     0.97698,     0.97798,     0.97898,     0.97998,     0.98098,     0.98198,     0.98298,     0.98398,\n",
              "           0.98498,     0.98599,     0.98699,     0.98799,     0.98899,     0.98999,     0.99099,     0.99199,     0.99299,     0.99399,     0.99499,       0.996,       0.997,       0.998,       0.999,           1]), array([[          1,           1,           1,           1,           1,           1,           1,           1,           1,           1,           1,           1,           1,           1,           1,           1,           1,           1,           1,           1,           1,           1,           1,\n",
              "                  1,           1,           1,           1,           1,           1,           1,           1,           1,           1,           1,           1,           1,           1,           1,           1,           1,           1,           1,           1,           1,           1,           1,\n",
              "                  1,           1,           1,           1,           1,           1,           1,           1,           1,           1,           1,           1,           1,           1,           1,           1,           1,           1,           1,           1,           1,           1,           1,\n",
              "                  1,           1,           1,           1,           1,           1,           1,           1,           1,           1,           1,           1,           1,           1,           1,           1,           1,           1,           1,           1,           1,           1,           1,\n",
              "                  1,           1,           1,           1,           1,           1,           1,           1,           1,           1,           1,           1,           1,           1,           1,           1,           1,           1,           1,           1,           1,           1,           1,\n",
              "                  1,           1,           1,           1,           1,           1,           1,           1,           1,           1,           1,           1,           1,           1,           1,           1,           1,           1,           1,           1,           1,           1,           1,\n",
              "                  1,           1,           1,           1,           1,           1,           1,           1,           1,           1,           1,           1,           1,           1,           1,           1,           1,           1,           1,           1,           1,           1,           1,\n",
              "                  1,           1,           1,           1,           1,           1,           1,           1,           1,           1,           1,           1,           1,           1,           1,           1,           1,           1,           1,           1,           1,           1,     0.99419,\n",
              "            0.99419,     0.99419,     0.99419,     0.99419,     0.99419,     0.99419,     0.99419,     0.99419,     0.99419,     0.99419,     0.99419,     0.99419,     0.99419,     0.99419,     0.99419,     0.99419,     0.99419,     0.99419,     0.99419,     0.99419,     0.99419,     0.99419,     0.99419,\n",
              "            0.99419,     0.99419,     0.99419,     0.99419,     0.99419,     0.99419,     0.99419,     0.99419,     0.99419,     0.99419,     0.99419,     0.99419,     0.99419,     0.99419,     0.99419,     0.99419,     0.99419,     0.99419,     0.99419,     0.99419,     0.99419,     0.99419,     0.99419,\n",
              "            0.99419,     0.99419,     0.99419,     0.99419,     0.99419,     0.99419,     0.99419,     0.99419,     0.99419,     0.99419,     0.99419,     0.99419,     0.99419,     0.99419,     0.99419,     0.99419,     0.99419,     0.99419,     0.99419,     0.99419,     0.99419,     0.99419,     0.99419,\n",
              "            0.99419,     0.99419,     0.99419,     0.99419,     0.99419,     0.99419,     0.99419,     0.99419,     0.99419,     0.99419,     0.99419,     0.99419,     0.99419,     0.99419,     0.99419,     0.99419,     0.99419,     0.99419,     0.99419,     0.99419,     0.99419,     0.99419,     0.99419,\n",
              "            0.99419,     0.99419,     0.99419,     0.99419,     0.99419,     0.99419,     0.99419,     0.99419,     0.99419,     0.99419,     0.99419,     0.99419,     0.99419,     0.99419,     0.99419,     0.99419,     0.99419,     0.99419,     0.99419,     0.99419,     0.99419,     0.99419,     0.99419,\n",
              "            0.99419,     0.99419,     0.99419,     0.99419,     0.99419,     0.99419,     0.99419,     0.99419,     0.99419,     0.99419,     0.99419,     0.99419,     0.99419,     0.99419,     0.99419,     0.99419,     0.99419,     0.99419,     0.99419,     0.99419,     0.99419,     0.99419,     0.99419,\n",
              "            0.99419,     0.99419,     0.99419,     0.99419,     0.99419,     0.99419,     0.99419,     0.99419,     0.99419,     0.99419,     0.99419,     0.99419,     0.99419,     0.99419,     0.99419,     0.99419,     0.99419,     0.99419,     0.99419,     0.99419,     0.99419,     0.99419,     0.99419,\n",
              "            0.99419,     0.99419,     0.99419,     0.99419,     0.99419,     0.99419,     0.99419,     0.99419,     0.99419,     0.99419,     0.99419,     0.99419,     0.99419,     0.99419,     0.99419,     0.99419,     0.99419,     0.99419,     0.99419,     0.99419,     0.99419,     0.99419,     0.99419,\n",
              "            0.99419,     0.99419,     0.99419,     0.99419,     0.99419,     0.99419,     0.99419,     0.99419,     0.99419,     0.99419,     0.99419,     0.99419,     0.99419,     0.99419,     0.99419,     0.99419,     0.99419,     0.99419,     0.98864,     0.98864,     0.98864,     0.98864,     0.98864,\n",
              "            0.98864,     0.98864,     0.98585,     0.98585,     0.98585,     0.98585,     0.98585,     0.98585,     0.98585,     0.98585,     0.98585,     0.98585,     0.98585,     0.98585,     0.98585,     0.98585,     0.98585,     0.98585,     0.98585,     0.98585,     0.98585,     0.98585,     0.98585,\n",
              "            0.98585,     0.98585,     0.98585,     0.98585,     0.98585,     0.98585,     0.98585,     0.98585,     0.98585,     0.98585,     0.98585,     0.98585,     0.98585,     0.98585,     0.98585,     0.98585,     0.98585,     0.98585,     0.98585,     0.98585,     0.98585,     0.98585,     0.98585,\n",
              "            0.98585,     0.98585,     0.98585,     0.98585,     0.98585,     0.98585,     0.98585,     0.98585,     0.98585,     0.98585,     0.98585,     0.98585,     0.98585,     0.98585,     0.98585,     0.98585,     0.98585,     0.98585,     0.98585,     0.98585,     0.98585,     0.98585,     0.98585,\n",
              "            0.98585,     0.98585,     0.98585,     0.98585,     0.98585,     0.98585,     0.98585,     0.98585,     0.98585,     0.98585,     0.98585,     0.98585,     0.98148,     0.98148,     0.98148,     0.98148,     0.98148,     0.98148,     0.98148,      0.9789,      0.9789,      0.9789,      0.9789,\n",
              "             0.9789,      0.9789,      0.9789,      0.9789,      0.9789,      0.9789,      0.9789,      0.9789,      0.9789,      0.9789,      0.9789,      0.9789,      0.9789,      0.9789,      0.9789,      0.9789,      0.9789,      0.9789,      0.9789,      0.9789,      0.9789,      0.9789,      0.9789,\n",
              "             0.9789,      0.9789,      0.9789,      0.9789,      0.9789,      0.9789,      0.9789,      0.9789,      0.9789,      0.9789,      0.9789,      0.9789,      0.9789,      0.9789,      0.9789,      0.9789,      0.9789,      0.9789,     0.97818,     0.97818,     0.97818,     0.97818,     0.97818,\n",
              "            0.97818,     0.97818,     0.97818,     0.97818,     0.97818,     0.97818,     0.97818,     0.97818,     0.97818,     0.97818,     0.97818,     0.97818,     0.97818,     0.97818,     0.97818,     0.97818,     0.97818,     0.97818,     0.97818,     0.97818,     0.97818,     0.97818,     0.97818,\n",
              "            0.97818,     0.97818,     0.97818,     0.97818,     0.97818,     0.97818,     0.97818,     0.97818,     0.97818,     0.97818,     0.97818,     0.97818,     0.97818,     0.97818,     0.97818,     0.97818,     0.97818,     0.97818,     0.97818,     0.97818,     0.97818,     0.97818,     0.97818,\n",
              "            0.97818,     0.97818,     0.97818,     0.97818,     0.97818,     0.97818,     0.97818,     0.97818,     0.97818,     0.97818,     0.97818,     0.97818,     0.97818,     0.97818,     0.97818,     0.97818,     0.97818,     0.97818,     0.97818,     0.97818,     0.97818,     0.97818,     0.97818,\n",
              "            0.97818,     0.97818,     0.97818,     0.97818,     0.97818,     0.97818,     0.97818,     0.97818,     0.97818,       0.975,       0.975,       0.975,       0.975,       0.975,       0.975,       0.975,       0.975,       0.975,     0.97241,     0.97241,     0.97241,     0.97241,     0.97241,\n",
              "            0.97241,     0.97241,     0.97241,     0.97241,     0.97241,     0.97241,     0.97241,     0.97241,     0.97241,     0.97241,     0.97241,     0.97241,     0.97241,     0.97241,     0.97241,      0.9697,      0.9697,      0.9697,      0.9697,      0.9697,      0.9697,      0.9697,      0.9697,\n",
              "             0.9697,      0.9697,      0.9697,      0.9697,      0.9697,      0.9697,     0.96346,     0.96346,     0.96346,     0.96346,      0.9604,      0.9604,      0.9604,      0.9586,      0.9586,      0.9586,      0.9586,      0.9586,      0.9586,      0.9586,      0.9586,      0.9586,      0.9586,\n",
              "             0.9586,      0.9586,      0.9586,      0.9586,      0.9586,      0.9586,      0.9586,      0.9586,      0.9586,      0.9586,      0.9586,      0.9586,      0.9537,      0.9537,      0.9537,      0.9537,      0.9537,      0.9537,      0.9537,      0.9537,      0.9537,      0.9537,      0.9537,\n",
              "             0.9537,      0.9537,      0.9537,      0.9537,      0.9537,      0.9537,      0.9537,     0.95107,     0.95107,     0.95107,     0.95107,     0.95107,     0.94895,     0.94895,     0.94895,     0.94895,     0.94895,     0.94895,     0.94895,     0.94895,     0.94895,     0.94895,     0.94895,\n",
              "            0.94428,     0.94428,     0.94428,     0.94428,     0.94428,     0.94428,     0.94428,     0.94428,     0.94428,     0.94428,     0.94428,     0.94428,     0.94428,     0.94428,     0.93895,     0.93895,     0.93678,     0.93678,     0.93678,     0.93678,     0.93678,     0.93678,     0.93678,\n",
              "            0.93258,     0.93258,     0.93258,     0.93258,     0.93258,     0.93258,     0.93258,     0.93258,     0.93258,     0.93258,     0.93258,     0.93258,     0.93258,     0.92818,     0.92818,     0.92818,     0.92818,     0.92818,     0.92818,     0.92818,     0.92818,     0.92818,     0.92603,\n",
              "            0.92603,     0.92603,     0.92603,     0.92603,     0.92371,     0.92371,     0.92204,     0.92204,     0.92204,     0.92204,     0.92204,     0.92204,     0.92204,     0.92204,     0.92204,     0.92042,     0.92042,     0.92042,     0.92042,     0.92042,     0.92042,     0.92042,     0.92042,\n",
              "            0.92042,     0.91821,     0.91821,     0.91429,     0.91429,     0.91429,     0.91429,     0.91429,     0.91429,     0.91429,     0.91429,     0.91429,     0.91003,     0.91003,     0.91003,     0.91003,     0.91003,     0.90816,     0.90816,     0.90816,     0.90816,     0.90609,     0.90609,\n",
              "            0.90609,      0.8975,      0.8975,      0.8975,      0.8975,     0.89383,     0.89383,     0.89383,     0.89383,     0.89383,     0.89383,     0.89383,      0.8878,      0.8878,      0.8878,      0.8878,     0.88592,     0.88592,     0.88592,      0.8801,      0.8801,      0.8801,      0.8801,\n",
              "             0.8747,      0.8747,      0.8747,      0.8747,      0.8747,      0.8747,      0.8747,      0.8458,      0.8458,      0.8458,      0.8458,      0.8458,      0.8458,      0.8458,     0.84424,     0.84424,     0.83893,     0.83893,     0.83556,     0.83556,     0.82353,     0.82353,     0.82353,\n",
              "            0.82353,     0.82353,     0.80851,     0.80851,     0.80851,     0.80851,     0.80211,     0.80211,     0.80211,     0.79916,     0.79916,     0.79792,     0.79792,     0.79668,     0.79668,     0.79545,     0.79545,     0.79545,     0.79424,     0.79424,     0.79303,     0.79303,     0.78862,\n",
              "            0.78862,       0.778,       0.778,       0.778,     0.74194,     0.74194,     0.74194,     0.74194,     0.73546,     0.73546,     0.72913,     0.72913,     0.72913,      0.7256,      0.7256,     0.71949,     0.71949,     0.70463,     0.70463,     0.70463,     0.70265,     0.70265,     0.70194,\n",
              "            0.70194,     0.69031,     0.69031,     0.68376,     0.68376,     0.68376,     0.67899,     0.67899,     0.67899,     0.67899,     0.67899,     0.67899,     0.67899,     0.67899,     0.67899,      0.6733,      0.6733,      0.6733,      0.6733,     0.67162,     0.67162,     0.65806,     0.65806,\n",
              "            0.65806,     0.65127,     0.65127,     0.62405,     0.62405,     0.60799,     0.60799,     0.56671,     0.56671,     0.56671,      0.5514,      0.5514,     0.50243,     0.50243,     0.48312,     0.48312,     0.47706,     0.47706,     0.47706,     0.47225,     0.47225,     0.46861,     0.46861,\n",
              "            0.46711,     0.46711,     0.42169,     0.42169,     0.42169,     0.41356,     0.41356,         0.4,         0.4,     0.38879,     0.38879,     0.30221,     0.30221,     0.30221,     0.20078,       0.196,     0.19122,     0.18644,     0.18166,     0.17688,      0.1721,     0.16732,     0.16254,\n",
              "            0.15776,     0.15298,      0.1482,     0.14342,     0.13864,     0.13386,     0.12908,     0.12429,     0.11951,     0.11473,     0.10995,     0.10517,     0.10039,    0.095612,    0.090831,     0.08605,     0.08127,    0.076489,    0.071709,    0.066928,    0.062147,    0.057367,    0.052586,\n",
              "           0.047806,    0.043025,    0.038245,    0.033464,    0.028683,    0.023903,    0.019122,    0.014342,   0.0095612,   0.0047806,           0]]), 'Recall', 'Precision'], [array([          0,    0.001001,    0.002002,    0.003003,    0.004004,    0.005005,    0.006006,    0.007007,    0.008008,    0.009009,     0.01001,    0.011011,    0.012012,    0.013013,    0.014014,    0.015015,    0.016016,    0.017017,    0.018018,    0.019019,     0.02002,    0.021021,    0.022022,    0.023023,\n",
              "          0.024024,    0.025025,    0.026026,    0.027027,    0.028028,    0.029029,     0.03003,    0.031031,    0.032032,    0.033033,    0.034034,    0.035035,    0.036036,    0.037037,    0.038038,    0.039039,     0.04004,    0.041041,    0.042042,    0.043043,    0.044044,    0.045045,    0.046046,    0.047047,\n",
              "          0.048048,    0.049049,     0.05005,    0.051051,    0.052052,    0.053053,    0.054054,    0.055055,    0.056056,    0.057057,    0.058058,    0.059059,     0.06006,    0.061061,    0.062062,    0.063063,    0.064064,    0.065065,    0.066066,    0.067067,    0.068068,    0.069069,     0.07007,    0.071071,\n",
              "          0.072072,    0.073073,    0.074074,    0.075075,    0.076076,    0.077077,    0.078078,    0.079079,     0.08008,    0.081081,    0.082082,    0.083083,    0.084084,    0.085085,    0.086086,    0.087087,    0.088088,    0.089089,     0.09009,    0.091091,    0.092092,    0.093093,    0.094094,    0.095095,\n",
              "          0.096096,    0.097097,    0.098098,    0.099099,      0.1001,      0.1011,      0.1021,      0.1031,      0.1041,     0.10511,     0.10611,     0.10711,     0.10811,     0.10911,     0.11011,     0.11111,     0.11211,     0.11311,     0.11411,     0.11512,     0.11612,     0.11712,     0.11812,     0.11912,\n",
              "           0.12012,     0.12112,     0.12212,     0.12312,     0.12412,     0.12513,     0.12613,     0.12713,     0.12813,     0.12913,     0.13013,     0.13113,     0.13213,     0.13313,     0.13413,     0.13514,     0.13614,     0.13714,     0.13814,     0.13914,     0.14014,     0.14114,     0.14214,     0.14314,\n",
              "           0.14414,     0.14515,     0.14615,     0.14715,     0.14815,     0.14915,     0.15015,     0.15115,     0.15215,     0.15315,     0.15415,     0.15516,     0.15616,     0.15716,     0.15816,     0.15916,     0.16016,     0.16116,     0.16216,     0.16316,     0.16416,     0.16517,     0.16617,     0.16717,\n",
              "           0.16817,     0.16917,     0.17017,     0.17117,     0.17217,     0.17317,     0.17417,     0.17518,     0.17618,     0.17718,     0.17818,     0.17918,     0.18018,     0.18118,     0.18218,     0.18318,     0.18418,     0.18519,     0.18619,     0.18719,     0.18819,     0.18919,     0.19019,     0.19119,\n",
              "           0.19219,     0.19319,     0.19419,      0.1952,      0.1962,      0.1972,      0.1982,      0.1992,      0.2002,      0.2012,      0.2022,      0.2032,      0.2042,     0.20521,     0.20621,     0.20721,     0.20821,     0.20921,     0.21021,     0.21121,     0.21221,     0.21321,     0.21421,     0.21522,\n",
              "           0.21622,     0.21722,     0.21822,     0.21922,     0.22022,     0.22122,     0.22222,     0.22322,     0.22422,     0.22523,     0.22623,     0.22723,     0.22823,     0.22923,     0.23023,     0.23123,     0.23223,     0.23323,     0.23423,     0.23524,     0.23624,     0.23724,     0.23824,     0.23924,\n",
              "           0.24024,     0.24124,     0.24224,     0.24324,     0.24424,     0.24525,     0.24625,     0.24725,     0.24825,     0.24925,     0.25025,     0.25125,     0.25225,     0.25325,     0.25425,     0.25526,     0.25626,     0.25726,     0.25826,     0.25926,     0.26026,     0.26126,     0.26226,     0.26326,\n",
              "           0.26426,     0.26527,     0.26627,     0.26727,     0.26827,     0.26927,     0.27027,     0.27127,     0.27227,     0.27327,     0.27427,     0.27528,     0.27628,     0.27728,     0.27828,     0.27928,     0.28028,     0.28128,     0.28228,     0.28328,     0.28428,     0.28529,     0.28629,     0.28729,\n",
              "           0.28829,     0.28929,     0.29029,     0.29129,     0.29229,     0.29329,     0.29429,      0.2953,      0.2963,      0.2973,      0.2983,      0.2993,      0.3003,      0.3013,      0.3023,      0.3033,      0.3043,     0.30531,     0.30631,     0.30731,     0.30831,     0.30931,     0.31031,     0.31131,\n",
              "           0.31231,     0.31331,     0.31431,     0.31532,     0.31632,     0.31732,     0.31832,     0.31932,     0.32032,     0.32132,     0.32232,     0.32332,     0.32432,     0.32533,     0.32633,     0.32733,     0.32833,     0.32933,     0.33033,     0.33133,     0.33233,     0.33333,     0.33433,     0.33534,\n",
              "           0.33634,     0.33734,     0.33834,     0.33934,     0.34034,     0.34134,     0.34234,     0.34334,     0.34434,     0.34535,     0.34635,     0.34735,     0.34835,     0.34935,     0.35035,     0.35135,     0.35235,     0.35335,     0.35435,     0.35536,     0.35636,     0.35736,     0.35836,     0.35936,\n",
              "           0.36036,     0.36136,     0.36236,     0.36336,     0.36436,     0.36537,     0.36637,     0.36737,     0.36837,     0.36937,     0.37037,     0.37137,     0.37237,     0.37337,     0.37437,     0.37538,     0.37638,     0.37738,     0.37838,     0.37938,     0.38038,     0.38138,     0.38238,     0.38338,\n",
              "           0.38438,     0.38539,     0.38639,     0.38739,     0.38839,     0.38939,     0.39039,     0.39139,     0.39239,     0.39339,     0.39439,      0.3954,      0.3964,      0.3974,      0.3984,      0.3994,      0.4004,      0.4014,      0.4024,      0.4034,      0.4044,     0.40541,     0.40641,     0.40741,\n",
              "           0.40841,     0.40941,     0.41041,     0.41141,     0.41241,     0.41341,     0.41441,     0.41542,     0.41642,     0.41742,     0.41842,     0.41942,     0.42042,     0.42142,     0.42242,     0.42342,     0.42442,     0.42543,     0.42643,     0.42743,     0.42843,     0.42943,     0.43043,     0.43143,\n",
              "           0.43243,     0.43343,     0.43443,     0.43544,     0.43644,     0.43744,     0.43844,     0.43944,     0.44044,     0.44144,     0.44244,     0.44344,     0.44444,     0.44545,     0.44645,     0.44745,     0.44845,     0.44945,     0.45045,     0.45145,     0.45245,     0.45345,     0.45445,     0.45546,\n",
              "           0.45646,     0.45746,     0.45846,     0.45946,     0.46046,     0.46146,     0.46246,     0.46346,     0.46446,     0.46547,     0.46647,     0.46747,     0.46847,     0.46947,     0.47047,     0.47147,     0.47247,     0.47347,     0.47447,     0.47548,     0.47648,     0.47748,     0.47848,     0.47948,\n",
              "           0.48048,     0.48148,     0.48248,     0.48348,     0.48448,     0.48549,     0.48649,     0.48749,     0.48849,     0.48949,     0.49049,     0.49149,     0.49249,     0.49349,     0.49449,      0.4955,      0.4965,      0.4975,      0.4985,      0.4995,      0.5005,      0.5015,      0.5025,      0.5035,\n",
              "            0.5045,     0.50551,     0.50651,     0.50751,     0.50851,     0.50951,     0.51051,     0.51151,     0.51251,     0.51351,     0.51451,     0.51552,     0.51652,     0.51752,     0.51852,     0.51952,     0.52052,     0.52152,     0.52252,     0.52352,     0.52452,     0.52553,     0.52653,     0.52753,\n",
              "           0.52853,     0.52953,     0.53053,     0.53153,     0.53253,     0.53353,     0.53453,     0.53554,     0.53654,     0.53754,     0.53854,     0.53954,     0.54054,     0.54154,     0.54254,     0.54354,     0.54454,     0.54555,     0.54655,     0.54755,     0.54855,     0.54955,     0.55055,     0.55155,\n",
              "           0.55255,     0.55355,     0.55455,     0.55556,     0.55656,     0.55756,     0.55856,     0.55956,     0.56056,     0.56156,     0.56256,     0.56356,     0.56456,     0.56557,     0.56657,     0.56757,     0.56857,     0.56957,     0.57057,     0.57157,     0.57257,     0.57357,     0.57457,     0.57558,\n",
              "           0.57658,     0.57758,     0.57858,     0.57958,     0.58058,     0.58158,     0.58258,     0.58358,     0.58458,     0.58559,     0.58659,     0.58759,     0.58859,     0.58959,     0.59059,     0.59159,     0.59259,     0.59359,     0.59459,      0.5956,      0.5966,      0.5976,      0.5986,      0.5996,\n",
              "            0.6006,      0.6016,      0.6026,      0.6036,      0.6046,     0.60561,     0.60661,     0.60761,     0.60861,     0.60961,     0.61061,     0.61161,     0.61261,     0.61361,     0.61461,     0.61562,     0.61662,     0.61762,     0.61862,     0.61962,     0.62062,     0.62162,     0.62262,     0.62362,\n",
              "           0.62462,     0.62563,     0.62663,     0.62763,     0.62863,     0.62963,     0.63063,     0.63163,     0.63263,     0.63363,     0.63463,     0.63564,     0.63664,     0.63764,     0.63864,     0.63964,     0.64064,     0.64164,     0.64264,     0.64364,     0.64464,     0.64565,     0.64665,     0.64765,\n",
              "           0.64865,     0.64965,     0.65065,     0.65165,     0.65265,     0.65365,     0.65465,     0.65566,     0.65666,     0.65766,     0.65866,     0.65966,     0.66066,     0.66166,     0.66266,     0.66366,     0.66466,     0.66567,     0.66667,     0.66767,     0.66867,     0.66967,     0.67067,     0.67167,\n",
              "           0.67267,     0.67367,     0.67467,     0.67568,     0.67668,     0.67768,     0.67868,     0.67968,     0.68068,     0.68168,     0.68268,     0.68368,     0.68468,     0.68569,     0.68669,     0.68769,     0.68869,     0.68969,     0.69069,     0.69169,     0.69269,     0.69369,     0.69469,      0.6957,\n",
              "            0.6967,      0.6977,      0.6987,      0.6997,      0.7007,      0.7017,      0.7027,      0.7037,      0.7047,     0.70571,     0.70671,     0.70771,     0.70871,     0.70971,     0.71071,     0.71171,     0.71271,     0.71371,     0.71471,     0.71572,     0.71672,     0.71772,     0.71872,     0.71972,\n",
              "           0.72072,     0.72172,     0.72272,     0.72372,     0.72472,     0.72573,     0.72673,     0.72773,     0.72873,     0.72973,     0.73073,     0.73173,     0.73273,     0.73373,     0.73473,     0.73574,     0.73674,     0.73774,     0.73874,     0.73974,     0.74074,     0.74174,     0.74274,     0.74374,\n",
              "           0.74474,     0.74575,     0.74675,     0.74775,     0.74875,     0.74975,     0.75075,     0.75175,     0.75275,     0.75375,     0.75475,     0.75576,     0.75676,     0.75776,     0.75876,     0.75976,     0.76076,     0.76176,     0.76276,     0.76376,     0.76476,     0.76577,     0.76677,     0.76777,\n",
              "           0.76877,     0.76977,     0.77077,     0.77177,     0.77277,     0.77377,     0.77477,     0.77578,     0.77678,     0.77778,     0.77878,     0.77978,     0.78078,     0.78178,     0.78278,     0.78378,     0.78478,     0.78579,     0.78679,     0.78779,     0.78879,     0.78979,     0.79079,     0.79179,\n",
              "           0.79279,     0.79379,     0.79479,      0.7958,      0.7968,      0.7978,      0.7988,      0.7998,      0.8008,      0.8018,      0.8028,      0.8038,      0.8048,     0.80581,     0.80681,     0.80781,     0.80881,     0.80981,     0.81081,     0.81181,     0.81281,     0.81381,     0.81481,     0.81582,\n",
              "           0.81682,     0.81782,     0.81882,     0.81982,     0.82082,     0.82182,     0.82282,     0.82382,     0.82482,     0.82583,     0.82683,     0.82783,     0.82883,     0.82983,     0.83083,     0.83183,     0.83283,     0.83383,     0.83483,     0.83584,     0.83684,     0.83784,     0.83884,     0.83984,\n",
              "           0.84084,     0.84184,     0.84284,     0.84384,     0.84484,     0.84585,     0.84685,     0.84785,     0.84885,     0.84985,     0.85085,     0.85185,     0.85285,     0.85385,     0.85485,     0.85586,     0.85686,     0.85786,     0.85886,     0.85986,     0.86086,     0.86186,     0.86286,     0.86386,\n",
              "           0.86486,     0.86587,     0.86687,     0.86787,     0.86887,     0.86987,     0.87087,     0.87187,     0.87287,     0.87387,     0.87487,     0.87588,     0.87688,     0.87788,     0.87888,     0.87988,     0.88088,     0.88188,     0.88288,     0.88388,     0.88488,     0.88589,     0.88689,     0.88789,\n",
              "           0.88889,     0.88989,     0.89089,     0.89189,     0.89289,     0.89389,     0.89489,      0.8959,      0.8969,      0.8979,      0.8989,      0.8999,      0.9009,      0.9019,      0.9029,      0.9039,      0.9049,     0.90591,     0.90691,     0.90791,     0.90891,     0.90991,     0.91091,     0.91191,\n",
              "           0.91291,     0.91391,     0.91491,     0.91592,     0.91692,     0.91792,     0.91892,     0.91992,     0.92092,     0.92192,     0.92292,     0.92392,     0.92492,     0.92593,     0.92693,     0.92793,     0.92893,     0.92993,     0.93093,     0.93193,     0.93293,     0.93393,     0.93493,     0.93594,\n",
              "           0.93694,     0.93794,     0.93894,     0.93994,     0.94094,     0.94194,     0.94294,     0.94394,     0.94494,     0.94595,     0.94695,     0.94795,     0.94895,     0.94995,     0.95095,     0.95195,     0.95295,     0.95395,     0.95495,     0.95596,     0.95696,     0.95796,     0.95896,     0.95996,\n",
              "           0.96096,     0.96196,     0.96296,     0.96396,     0.96496,     0.96597,     0.96697,     0.96797,     0.96897,     0.96997,     0.97097,     0.97197,     0.97297,     0.97397,     0.97497,     0.97598,     0.97698,     0.97798,     0.97898,     0.97998,     0.98098,     0.98198,     0.98298,     0.98398,\n",
              "           0.98498,     0.98599,     0.98699,     0.98799,     0.98899,     0.98999,     0.99099,     0.99199,     0.99299,     0.99399,     0.99499,       0.996,       0.997,       0.998,       0.999,           1]), array([[    0.33745,     0.33745,     0.41143,     0.45976,     0.49183,     0.51781,     0.53749,     0.55391,     0.56641,     0.57556,     0.58561,     0.59296,     0.60224,     0.61285,     0.61972,      0.6266,     0.62933,     0.63681,     0.64132,     0.64695,       0.654,      0.6571,     0.66038,\n",
              "            0.66418,     0.66903,     0.67205,     0.67826,     0.68355,     0.68622,     0.69059,     0.69339,      0.6957,     0.69912,     0.70214,     0.70411,     0.70645,     0.71194,     0.71349,     0.71645,     0.72063,     0.72279,     0.72444,     0.72695,     0.72877,     0.73145,     0.73273,\n",
              "             0.7335,     0.73622,     0.73779,     0.74109,     0.74269,     0.74424,     0.74447,     0.74472,     0.74498,     0.74603,     0.74706,     0.74872,     0.75159,     0.75262,     0.75293,     0.75351,     0.75479,     0.75583,      0.7577,     0.75864,     0.76063,     0.76216,      0.7632,\n",
              "            0.76349,     0.76262,     0.76349,     0.76564,     0.76666,     0.76716,     0.76743,     0.76733,     0.76683,     0.76794,     0.76959,     0.77084,     0.77339,     0.77565,     0.77486,      0.7755,     0.77395,     0.77591,     0.77752,     0.77541,     0.77453,     0.77482,     0.77511,\n",
              "            0.77691,     0.77765,     0.77817,       0.778,      0.7796,     0.78049,     0.78121,     0.78084,     0.78138,     0.78175,     0.78383,     0.78481,     0.78539,     0.78677,      0.7875,     0.78797,     0.78756,     0.78652,     0.78806,     0.78754,     0.78702,     0.78759,     0.78927,\n",
              "            0.78967,     0.79005,     0.79037,      0.7907,      0.7911,     0.79153,     0.79303,     0.79439,     0.79506,     0.79553,     0.79614,     0.79629,     0.79702,     0.79735,     0.79769,     0.79802,     0.79835,     0.79915,     0.79849,     0.79928,     0.79927,     0.79949,     0.79971,\n",
              "            0.79994,     0.80203,     0.80321,     0.80292,     0.80263,     0.80234,     0.80206,     0.80308,     0.80351,     0.80401,     0.80466,     0.80569,     0.80587,     0.80481,     0.80521,     0.80562,     0.80605,     0.80962,     0.80998,     0.81035,     0.81288,     0.81462,     0.81492,\n",
              "            0.81519,     0.81546,      0.8166,     0.81826,     0.81902,     0.81956,     0.82024,     0.82077,       0.821,     0.82122,     0.82144,     0.82182,     0.82233,     0.82337,     0.82362,     0.82388,     0.82413,     0.82479,     0.82406,     0.82394,     0.82419,     0.82445,     0.82494,\n",
              "            0.82638,     0.82666,      0.8269,     0.82715,     0.82761,     0.82836,     0.82951,     0.82916,     0.82962,     0.82975,     0.82988,     0.83001,     0.83014,     0.83027,      0.8304,      0.8307,     0.83119,     0.83071,     0.83015,     0.83024,     0.83033,     0.83042,     0.83052,\n",
              "            0.83061,      0.8307,      0.8308,     0.83089,     0.83098,      0.8307,     0.83032,     0.82994,      0.8305,     0.82996,     0.82941,     0.82962,     0.82988,     0.83014,     0.82909,     0.82926,     0.82943,     0.82959,     0.82976,     0.82979,     0.82905,      0.8288,     0.82917,\n",
              "            0.82953,     0.82937,      0.8292,     0.82904,     0.82887,      0.8287,     0.82854,     0.82837,     0.82832,      0.8285,     0.82868,     0.82886,     0.82904,     0.82995,      0.8296,     0.82926,     0.82891,     0.82891,     0.82908,     0.82926,     0.82944,     0.82961,     0.83185,\n",
              "            0.83228,     0.83099,     0.83055,     0.83011,     0.82999,      0.8303,     0.83061,     0.83091,      0.8312,     0.83149,     0.83209,     0.83292,     0.83346,     0.83469,     0.83532,     0.83549,     0.83563,     0.83577,     0.83591,     0.83605,     0.83619,     0.83635,     0.83653,\n",
              "            0.83671,     0.83689,     0.83707,     0.83774,     0.83679,     0.83666,     0.83654,     0.83642,     0.83629,     0.83617,     0.83605,     0.83592,      0.8358,     0.83568,     0.83556,     0.83585,     0.83614,     0.83644,     0.83664,     0.83684,     0.83703,     0.83722,     0.83741,\n",
              "            0.83778,     0.83817,     0.83855,     0.83893,     0.83939,     0.84056,     0.84125,     0.84148,      0.8417,     0.84193,     0.84207,     0.84193,     0.84179,     0.84165,     0.84151,     0.84137,     0.84123,     0.84109,     0.84095,     0.84081,     0.84188,     0.84243,       0.842,\n",
              "             0.8417,     0.84225,     0.84281,     0.84336,     0.84392,     0.84396,     0.84329,     0.84314,     0.84358,     0.84379,      0.8434,     0.84302,     0.84264,     0.84096,      0.8406,     0.84024,     0.84022,     0.84098,     0.84113,     0.84128,     0.84143,     0.84158,     0.84173,\n",
              "            0.84189,     0.84208,     0.84226,     0.84245,     0.84264,     0.84379,     0.84405,     0.84431,     0.84458,     0.84484,     0.84511,     0.84537,     0.84563,     0.84688,     0.84716,     0.84745,     0.84769,     0.84785,       0.848,     0.84815,     0.84831,     0.84846,     0.84861,\n",
              "            0.84872,     0.84881,     0.84891,     0.84901,     0.84911,      0.8492,      0.8493,      0.8494,     0.84949,     0.84959,     0.85007,     0.85057,     0.85254,     0.85272,      0.8529,     0.85309,     0.85327,     0.85345,     0.85365,     0.85387,     0.85408,     0.85429,      0.8545,\n",
              "            0.85382,     0.85314,     0.85246,     0.85184,      0.8517,     0.85156,     0.85143,     0.85129,     0.85116,     0.85102,     0.85088,     0.85075,     0.85061,     0.85123,     0.85273,       0.853,     0.85327,     0.85339,     0.85294,     0.85248,     0.85096,     0.85147,     0.85188,\n",
              "            0.85209,     0.85231,     0.85252,     0.85274,     0.85351,     0.85367,      0.8535,     0.85332,     0.85314,     0.85296,     0.85279,     0.85261,     0.85262,     0.85341,     0.85313,     0.85286,     0.85258,     0.85231,     0.85078,     0.85082,     0.85087,     0.85091,     0.85096,\n",
              "              0.851,     0.85105,     0.85109,     0.85114,     0.85118,     0.85123,     0.85127,     0.85132,     0.85136,     0.85141,     0.85145,      0.8515,     0.85154,     0.85159,     0.85163,     0.85168,     0.85172,     0.85191,     0.85316,     0.85359,     0.85313,     0.85266,     0.85103,\n",
              "            0.85097,     0.85091,     0.85084,     0.85078,     0.85072,     0.85065,     0.85059,     0.85053,     0.85046,      0.8504,     0.85034,     0.85027,     0.85021,     0.85015,     0.85008,     0.85002,     0.84996,     0.84989,     0.84983,     0.84977,     0.84971,     0.84985,        0.85,\n",
              "            0.85015,      0.8503,     0.85044,     0.85059,      0.8509,     0.85033,     0.85022,      0.8501,     0.84998,     0.84987,     0.84975,     0.84963,     0.84952,      0.8494,     0.84928,     0.84916,     0.84905,     0.84904,     0.84913,     0.84922,     0.84932,     0.84941,     0.84951,\n",
              "             0.8496,      0.8497,     0.84979,     0.84988,     0.84998,      0.8502,     0.85046,     0.85072,     0.85098,     0.85146,     0.85198,     0.85235,      0.8527,     0.85304,     0.85235,     0.85168,     0.85189,      0.8521,     0.85231,     0.85252,     0.85258,     0.85188,     0.85117,\n",
              "            0.85047,     0.85021,     0.85056,     0.84936,     0.84865,     0.84832,     0.84867,     0.84902,     0.84937,     0.84972,     0.85007,     0.84867,     0.84832,     0.84796,      0.8476,      0.8466,     0.84517,     0.84534,     0.84583,     0.84604,     0.84625,     0.84646,     0.84667,\n",
              "            0.84614,     0.84542,      0.8462,     0.84598,     0.84557,     0.84516,     0.84336,     0.84299,     0.84263,     0.84227,     0.84201,     0.84182,     0.84164,     0.84146,     0.84128,      0.8411,     0.84091,     0.84073,     0.84075,     0.84084,     0.84093,     0.84102,      0.8411,\n",
              "            0.84119,     0.84128,     0.84137,     0.84146,     0.84155,     0.84163,     0.84161,     0.84013,     0.83984,     0.83955,     0.83926,     0.83896,     0.83838,     0.83764,     0.83723,     0.83693,     0.83664,     0.83634,     0.83605,      0.8362,     0.83644,     0.83667,     0.83691,\n",
              "            0.83694,     0.83673,     0.83652,     0.83631,      0.8361,     0.83589,     0.83568,     0.83586,     0.83629,     0.83636,     0.83513,     0.83483,     0.83454,     0.83424,     0.83394,     0.83386,     0.83422,     0.83457,     0.83213,     0.82905,       0.831,     0.83082,     0.83058,\n",
              "            0.83035,     0.83012,     0.82989,     0.82966,     0.82863,     0.82778,     0.82728,     0.82677,     0.82406,     0.82254,     0.82342,     0.82365,     0.82389,     0.82413,     0.82398,     0.82322,     0.82147,      0.8199,     0.82002,     0.82013,     0.82024,     0.82035,     0.82047,\n",
              "            0.82058,     0.82069,      0.8208,     0.81954,     0.81985,     0.82016,     0.82066,      0.8197,     0.81893,     0.81827,     0.81782,     0.81738,     0.81694,     0.81672,     0.81653,     0.81633,     0.81614,     0.81595,     0.81575,     0.81556,     0.81536,     0.81514,     0.81491,\n",
              "            0.81469,     0.81447,     0.81425,     0.81402,     0.81364,     0.81286,     0.81248,     0.81291,     0.81334,      0.8127,     0.81248,     0.81225,     0.81203,      0.8118,     0.81158,     0.81133,      0.8107,     0.81007,     0.80809,     0.80778,     0.80746,     0.80714,     0.80682,\n",
              "            0.80715,     0.80768,     0.80743,     0.80698,     0.80652,     0.80584,     0.80477,     0.80202,     0.80138,     0.80027,     0.79789,     0.79757,     0.79725,     0.79692,      0.7966,     0.79451,     0.79431,     0.79503,      0.7941,     0.79086,     0.79014,     0.78973,     0.78932,\n",
              "            0.78891,     0.78745,     0.78627,     0.78427,     0.78194,     0.78146,     0.78098,     0.78041,     0.77974,     0.77994,     0.77908,     0.77824,     0.77743,     0.77815,     0.77723,     0.77643,       0.776,     0.77558,     0.77515,      0.7725,     0.76984,     0.76915,     0.76846,\n",
              "            0.76921,     0.76863,     0.76806,     0.76693,     0.76394,     0.76308,      0.7605,     0.75963,     0.75893,     0.75835,     0.75776,     0.75724,     0.75673,     0.75623,      0.7554,     0.75421,     0.75445,     0.75469,     0.75492,     0.75516,     0.75322,     0.75263,     0.75204,\n",
              "            0.74828,     0.74749,     0.74517,     0.74393,     0.74197,     0.73662,     0.73602,     0.73541,     0.73158,      0.7313,     0.73102,     0.73074,     0.73045,     0.73017,     0.72989,      0.7288,     0.72662,     0.72458,      0.7209,     0.71903,     0.71286,      0.7116,     0.71033,\n",
              "            0.70783,     0.70656,     0.70374,     0.70151,     0.69602,     0.69345,     0.68821,     0.68185,     0.68026,     0.67969,     0.67912,     0.67855,     0.67223,     0.67122,     0.66979,     0.66777,      0.6648,     0.66203,     0.65864,     0.65658,     0.65254,     0.65115,     0.64934,\n",
              "            0.64593,     0.63731,     0.63797,     0.63517,     0.63337,     0.63251,     0.63165,     0.63079,     0.62993,     0.62479,     0.62177,     0.61525,     0.61211,     0.61063,     0.60553,     0.60185,     0.60035,     0.59052,     0.58623,      0.5847,     0.58042,     0.57202,     0.56792,\n",
              "            0.56635,     0.56506,     0.56387,     0.56183,     0.55561,     0.54975,     0.54098,     0.53516,     0.52756,      0.5189,     0.51519,     0.50002,     0.49658,     0.49224,     0.48943,     0.47528,     0.46568,     0.45546,     0.45408,      0.4519,      0.4409,       0.438,     0.43512,\n",
              "             0.4247,     0.41948,     0.41803,     0.41501,      0.4006,     0.39734,     0.39437,     0.39139,     0.38548,     0.38395,     0.37929,     0.37021,     0.36675,     0.36521,     0.36269,     0.35959,     0.35648,     0.35335,     0.34176,     0.33226,     0.32601,     0.32034,     0.31277,\n",
              "            0.30909,      0.3001,     0.29148,      0.2881,     0.28313,     0.27628,       0.266,     0.25574,     0.25197,     0.24694,     0.23828,     0.23589,     0.22678,     0.22279,     0.22035,     0.21791,      0.2087,     0.20685,     0.20548,     0.20424,     0.20299,      0.1889,     0.17537,\n",
              "            0.16829,      0.1657,     0.16184,     0.16052,     0.15922,     0.15745,     0.13846,     0.13646,     0.13358,     0.12947,     0.12745,     0.12494,     0.12091,      0.1158,     0.11276,     0.10827,     0.10184,    0.099058,    0.095042,    0.090834,    0.085158,    0.082326,    0.081067,\n",
              "           0.079849,    0.078629,    0.077135,    0.075422,    0.072881,    0.067898,    0.065319,    0.064236,    0.063152,    0.062066,    0.060883,    0.059431,    0.057978,    0.049761,    0.046579,    0.044369,    0.040155,    0.035701,    0.026959,    0.026423,    0.026113,    0.025802,    0.025491,\n",
              "            0.02518,    0.024868,    0.024557,    0.024246,    0.023934,    0.023622,    0.023311,    0.022999,    0.022687,    0.022375,    0.014798,     0.01302,    0.012513,    0.012005,    0.011497,    0.010988,     0.01048,   0.0099706,   0.0094614,   0.0089659,   0.0086496,   0.0083331,   0.0080166,\n",
              "          0.0076999,   0.0073832,   0.0070663,   0.0067494,   0.0064323,   0.0061152,   0.0057979,   0.0054806,   0.0051631,   0.0048456,   0.0045279,           0,           0,           0,           0,           0,           0,           0,           0,           0,           0,           0,           0,\n",
              "                  0,           0,           0,           0,           0,           0,           0,           0,           0,           0,           0]]), 'Confidence', 'F1'], [array([          0,    0.001001,    0.002002,    0.003003,    0.004004,    0.005005,    0.006006,    0.007007,    0.008008,    0.009009,     0.01001,    0.011011,    0.012012,    0.013013,    0.014014,    0.015015,    0.016016,    0.017017,    0.018018,    0.019019,     0.02002,    0.021021,    0.022022,    0.023023,\n",
              "          0.024024,    0.025025,    0.026026,    0.027027,    0.028028,    0.029029,     0.03003,    0.031031,    0.032032,    0.033033,    0.034034,    0.035035,    0.036036,    0.037037,    0.038038,    0.039039,     0.04004,    0.041041,    0.042042,    0.043043,    0.044044,    0.045045,    0.046046,    0.047047,\n",
              "          0.048048,    0.049049,     0.05005,    0.051051,    0.052052,    0.053053,    0.054054,    0.055055,    0.056056,    0.057057,    0.058058,    0.059059,     0.06006,    0.061061,    0.062062,    0.063063,    0.064064,    0.065065,    0.066066,    0.067067,    0.068068,    0.069069,     0.07007,    0.071071,\n",
              "          0.072072,    0.073073,    0.074074,    0.075075,    0.076076,    0.077077,    0.078078,    0.079079,     0.08008,    0.081081,    0.082082,    0.083083,    0.084084,    0.085085,    0.086086,    0.087087,    0.088088,    0.089089,     0.09009,    0.091091,    0.092092,    0.093093,    0.094094,    0.095095,\n",
              "          0.096096,    0.097097,    0.098098,    0.099099,      0.1001,      0.1011,      0.1021,      0.1031,      0.1041,     0.10511,     0.10611,     0.10711,     0.10811,     0.10911,     0.11011,     0.11111,     0.11211,     0.11311,     0.11411,     0.11512,     0.11612,     0.11712,     0.11812,     0.11912,\n",
              "           0.12012,     0.12112,     0.12212,     0.12312,     0.12412,     0.12513,     0.12613,     0.12713,     0.12813,     0.12913,     0.13013,     0.13113,     0.13213,     0.13313,     0.13413,     0.13514,     0.13614,     0.13714,     0.13814,     0.13914,     0.14014,     0.14114,     0.14214,     0.14314,\n",
              "           0.14414,     0.14515,     0.14615,     0.14715,     0.14815,     0.14915,     0.15015,     0.15115,     0.15215,     0.15315,     0.15415,     0.15516,     0.15616,     0.15716,     0.15816,     0.15916,     0.16016,     0.16116,     0.16216,     0.16316,     0.16416,     0.16517,     0.16617,     0.16717,\n",
              "           0.16817,     0.16917,     0.17017,     0.17117,     0.17217,     0.17317,     0.17417,     0.17518,     0.17618,     0.17718,     0.17818,     0.17918,     0.18018,     0.18118,     0.18218,     0.18318,     0.18418,     0.18519,     0.18619,     0.18719,     0.18819,     0.18919,     0.19019,     0.19119,\n",
              "           0.19219,     0.19319,     0.19419,      0.1952,      0.1962,      0.1972,      0.1982,      0.1992,      0.2002,      0.2012,      0.2022,      0.2032,      0.2042,     0.20521,     0.20621,     0.20721,     0.20821,     0.20921,     0.21021,     0.21121,     0.21221,     0.21321,     0.21421,     0.21522,\n",
              "           0.21622,     0.21722,     0.21822,     0.21922,     0.22022,     0.22122,     0.22222,     0.22322,     0.22422,     0.22523,     0.22623,     0.22723,     0.22823,     0.22923,     0.23023,     0.23123,     0.23223,     0.23323,     0.23423,     0.23524,     0.23624,     0.23724,     0.23824,     0.23924,\n",
              "           0.24024,     0.24124,     0.24224,     0.24324,     0.24424,     0.24525,     0.24625,     0.24725,     0.24825,     0.24925,     0.25025,     0.25125,     0.25225,     0.25325,     0.25425,     0.25526,     0.25626,     0.25726,     0.25826,     0.25926,     0.26026,     0.26126,     0.26226,     0.26326,\n",
              "           0.26426,     0.26527,     0.26627,     0.26727,     0.26827,     0.26927,     0.27027,     0.27127,     0.27227,     0.27327,     0.27427,     0.27528,     0.27628,     0.27728,     0.27828,     0.27928,     0.28028,     0.28128,     0.28228,     0.28328,     0.28428,     0.28529,     0.28629,     0.28729,\n",
              "           0.28829,     0.28929,     0.29029,     0.29129,     0.29229,     0.29329,     0.29429,      0.2953,      0.2963,      0.2973,      0.2983,      0.2993,      0.3003,      0.3013,      0.3023,      0.3033,      0.3043,     0.30531,     0.30631,     0.30731,     0.30831,     0.30931,     0.31031,     0.31131,\n",
              "           0.31231,     0.31331,     0.31431,     0.31532,     0.31632,     0.31732,     0.31832,     0.31932,     0.32032,     0.32132,     0.32232,     0.32332,     0.32432,     0.32533,     0.32633,     0.32733,     0.32833,     0.32933,     0.33033,     0.33133,     0.33233,     0.33333,     0.33433,     0.33534,\n",
              "           0.33634,     0.33734,     0.33834,     0.33934,     0.34034,     0.34134,     0.34234,     0.34334,     0.34434,     0.34535,     0.34635,     0.34735,     0.34835,     0.34935,     0.35035,     0.35135,     0.35235,     0.35335,     0.35435,     0.35536,     0.35636,     0.35736,     0.35836,     0.35936,\n",
              "           0.36036,     0.36136,     0.36236,     0.36336,     0.36436,     0.36537,     0.36637,     0.36737,     0.36837,     0.36937,     0.37037,     0.37137,     0.37237,     0.37337,     0.37437,     0.37538,     0.37638,     0.37738,     0.37838,     0.37938,     0.38038,     0.38138,     0.38238,     0.38338,\n",
              "           0.38438,     0.38539,     0.38639,     0.38739,     0.38839,     0.38939,     0.39039,     0.39139,     0.39239,     0.39339,     0.39439,      0.3954,      0.3964,      0.3974,      0.3984,      0.3994,      0.4004,      0.4014,      0.4024,      0.4034,      0.4044,     0.40541,     0.40641,     0.40741,\n",
              "           0.40841,     0.40941,     0.41041,     0.41141,     0.41241,     0.41341,     0.41441,     0.41542,     0.41642,     0.41742,     0.41842,     0.41942,     0.42042,     0.42142,     0.42242,     0.42342,     0.42442,     0.42543,     0.42643,     0.42743,     0.42843,     0.42943,     0.43043,     0.43143,\n",
              "           0.43243,     0.43343,     0.43443,     0.43544,     0.43644,     0.43744,     0.43844,     0.43944,     0.44044,     0.44144,     0.44244,     0.44344,     0.44444,     0.44545,     0.44645,     0.44745,     0.44845,     0.44945,     0.45045,     0.45145,     0.45245,     0.45345,     0.45445,     0.45546,\n",
              "           0.45646,     0.45746,     0.45846,     0.45946,     0.46046,     0.46146,     0.46246,     0.46346,     0.46446,     0.46547,     0.46647,     0.46747,     0.46847,     0.46947,     0.47047,     0.47147,     0.47247,     0.47347,     0.47447,     0.47548,     0.47648,     0.47748,     0.47848,     0.47948,\n",
              "           0.48048,     0.48148,     0.48248,     0.48348,     0.48448,     0.48549,     0.48649,     0.48749,     0.48849,     0.48949,     0.49049,     0.49149,     0.49249,     0.49349,     0.49449,      0.4955,      0.4965,      0.4975,      0.4985,      0.4995,      0.5005,      0.5015,      0.5025,      0.5035,\n",
              "            0.5045,     0.50551,     0.50651,     0.50751,     0.50851,     0.50951,     0.51051,     0.51151,     0.51251,     0.51351,     0.51451,     0.51552,     0.51652,     0.51752,     0.51852,     0.51952,     0.52052,     0.52152,     0.52252,     0.52352,     0.52452,     0.52553,     0.52653,     0.52753,\n",
              "           0.52853,     0.52953,     0.53053,     0.53153,     0.53253,     0.53353,     0.53453,     0.53554,     0.53654,     0.53754,     0.53854,     0.53954,     0.54054,     0.54154,     0.54254,     0.54354,     0.54454,     0.54555,     0.54655,     0.54755,     0.54855,     0.54955,     0.55055,     0.55155,\n",
              "           0.55255,     0.55355,     0.55455,     0.55556,     0.55656,     0.55756,     0.55856,     0.55956,     0.56056,     0.56156,     0.56256,     0.56356,     0.56456,     0.56557,     0.56657,     0.56757,     0.56857,     0.56957,     0.57057,     0.57157,     0.57257,     0.57357,     0.57457,     0.57558,\n",
              "           0.57658,     0.57758,     0.57858,     0.57958,     0.58058,     0.58158,     0.58258,     0.58358,     0.58458,     0.58559,     0.58659,     0.58759,     0.58859,     0.58959,     0.59059,     0.59159,     0.59259,     0.59359,     0.59459,      0.5956,      0.5966,      0.5976,      0.5986,      0.5996,\n",
              "            0.6006,      0.6016,      0.6026,      0.6036,      0.6046,     0.60561,     0.60661,     0.60761,     0.60861,     0.60961,     0.61061,     0.61161,     0.61261,     0.61361,     0.61461,     0.61562,     0.61662,     0.61762,     0.61862,     0.61962,     0.62062,     0.62162,     0.62262,     0.62362,\n",
              "           0.62462,     0.62563,     0.62663,     0.62763,     0.62863,     0.62963,     0.63063,     0.63163,     0.63263,     0.63363,     0.63463,     0.63564,     0.63664,     0.63764,     0.63864,     0.63964,     0.64064,     0.64164,     0.64264,     0.64364,     0.64464,     0.64565,     0.64665,     0.64765,\n",
              "           0.64865,     0.64965,     0.65065,     0.65165,     0.65265,     0.65365,     0.65465,     0.65566,     0.65666,     0.65766,     0.65866,     0.65966,     0.66066,     0.66166,     0.66266,     0.66366,     0.66466,     0.66567,     0.66667,     0.66767,     0.66867,     0.66967,     0.67067,     0.67167,\n",
              "           0.67267,     0.67367,     0.67467,     0.67568,     0.67668,     0.67768,     0.67868,     0.67968,     0.68068,     0.68168,     0.68268,     0.68368,     0.68468,     0.68569,     0.68669,     0.68769,     0.68869,     0.68969,     0.69069,     0.69169,     0.69269,     0.69369,     0.69469,      0.6957,\n",
              "            0.6967,      0.6977,      0.6987,      0.6997,      0.7007,      0.7017,      0.7027,      0.7037,      0.7047,     0.70571,     0.70671,     0.70771,     0.70871,     0.70971,     0.71071,     0.71171,     0.71271,     0.71371,     0.71471,     0.71572,     0.71672,     0.71772,     0.71872,     0.71972,\n",
              "           0.72072,     0.72172,     0.72272,     0.72372,     0.72472,     0.72573,     0.72673,     0.72773,     0.72873,     0.72973,     0.73073,     0.73173,     0.73273,     0.73373,     0.73473,     0.73574,     0.73674,     0.73774,     0.73874,     0.73974,     0.74074,     0.74174,     0.74274,     0.74374,\n",
              "           0.74474,     0.74575,     0.74675,     0.74775,     0.74875,     0.74975,     0.75075,     0.75175,     0.75275,     0.75375,     0.75475,     0.75576,     0.75676,     0.75776,     0.75876,     0.75976,     0.76076,     0.76176,     0.76276,     0.76376,     0.76476,     0.76577,     0.76677,     0.76777,\n",
              "           0.76877,     0.76977,     0.77077,     0.77177,     0.77277,     0.77377,     0.77477,     0.77578,     0.77678,     0.77778,     0.77878,     0.77978,     0.78078,     0.78178,     0.78278,     0.78378,     0.78478,     0.78579,     0.78679,     0.78779,     0.78879,     0.78979,     0.79079,     0.79179,\n",
              "           0.79279,     0.79379,     0.79479,      0.7958,      0.7968,      0.7978,      0.7988,      0.7998,      0.8008,      0.8018,      0.8028,      0.8038,      0.8048,     0.80581,     0.80681,     0.80781,     0.80881,     0.80981,     0.81081,     0.81181,     0.81281,     0.81381,     0.81481,     0.81582,\n",
              "           0.81682,     0.81782,     0.81882,     0.81982,     0.82082,     0.82182,     0.82282,     0.82382,     0.82482,     0.82583,     0.82683,     0.82783,     0.82883,     0.82983,     0.83083,     0.83183,     0.83283,     0.83383,     0.83483,     0.83584,     0.83684,     0.83784,     0.83884,     0.83984,\n",
              "           0.84084,     0.84184,     0.84284,     0.84384,     0.84484,     0.84585,     0.84685,     0.84785,     0.84885,     0.84985,     0.85085,     0.85185,     0.85285,     0.85385,     0.85485,     0.85586,     0.85686,     0.85786,     0.85886,     0.85986,     0.86086,     0.86186,     0.86286,     0.86386,\n",
              "           0.86486,     0.86587,     0.86687,     0.86787,     0.86887,     0.86987,     0.87087,     0.87187,     0.87287,     0.87387,     0.87487,     0.87588,     0.87688,     0.87788,     0.87888,     0.87988,     0.88088,     0.88188,     0.88288,     0.88388,     0.88488,     0.88589,     0.88689,     0.88789,\n",
              "           0.88889,     0.88989,     0.89089,     0.89189,     0.89289,     0.89389,     0.89489,      0.8959,      0.8969,      0.8979,      0.8989,      0.8999,      0.9009,      0.9019,      0.9029,      0.9039,      0.9049,     0.90591,     0.90691,     0.90791,     0.90891,     0.90991,     0.91091,     0.91191,\n",
              "           0.91291,     0.91391,     0.91491,     0.91592,     0.91692,     0.91792,     0.91892,     0.91992,     0.92092,     0.92192,     0.92292,     0.92392,     0.92492,     0.92593,     0.92693,     0.92793,     0.92893,     0.92993,     0.93093,     0.93193,     0.93293,     0.93393,     0.93493,     0.93594,\n",
              "           0.93694,     0.93794,     0.93894,     0.93994,     0.94094,     0.94194,     0.94294,     0.94394,     0.94494,     0.94595,     0.94695,     0.94795,     0.94895,     0.94995,     0.95095,     0.95195,     0.95295,     0.95395,     0.95495,     0.95596,     0.95696,     0.95796,     0.95896,     0.95996,\n",
              "           0.96096,     0.96196,     0.96296,     0.96396,     0.96496,     0.96597,     0.96697,     0.96797,     0.96897,     0.96997,     0.97097,     0.97197,     0.97297,     0.97397,     0.97497,     0.97598,     0.97698,     0.97798,     0.97898,     0.97998,     0.98098,     0.98198,     0.98298,     0.98398,\n",
              "           0.98498,     0.98599,     0.98699,     0.98799,     0.98899,     0.98999,     0.99099,     0.99199,     0.99299,     0.99399,     0.99499,       0.996,       0.997,       0.998,       0.999,           1]), array([[    0.20483,     0.20483,     0.26204,     0.30277,     0.33122,     0.35523,     0.37401,     0.39048,     0.40342,     0.41321,     0.42409,     0.43185,     0.44177,     0.45327,     0.46083,      0.4696,     0.47324,     0.48296,     0.48816,     0.49471,     0.50366,     0.50734,     0.51127,\n",
              "            0.51583,     0.52171,      0.5254,     0.53303,     0.53959,     0.54292,     0.54842,     0.55275,     0.55569,     0.56007,     0.56395,     0.56734,     0.57038,     0.57758,     0.57962,     0.58354,      0.5891,     0.59199,     0.59421,     0.59759,     0.60006,     0.60371,     0.60546,\n",
              "            0.60747,     0.61122,     0.61338,     0.61795,     0.62018,     0.62235,     0.62369,     0.62405,     0.62441,     0.62589,     0.62734,     0.62969,     0.63375,     0.63522,     0.63567,     0.63648,     0.63832,     0.63981,     0.64249,     0.64385,     0.64671,     0.64894,     0.65045,\n",
              "            0.65086,     0.65072,     0.65199,     0.65513,     0.65663,     0.65736,     0.65775,     0.65792,     0.65803,     0.65967,      0.6621,     0.66395,     0.66775,     0.67112,     0.67115,     0.67211,     0.67222,     0.67518,     0.67763,     0.67761,     0.67809,     0.67854,     0.67899,\n",
              "            0.68175,      0.6829,     0.68369,     0.68473,     0.68722,     0.68861,     0.68973,     0.68998,     0.69133,     0.69191,     0.69516,      0.6967,     0.69762,      0.6998,     0.70095,      0.7017,     0.70259,     0.70214,     0.70463,      0.7044,     0.70417,     0.70528,     0.70799,\n",
              "            0.70862,     0.70923,     0.70976,     0.71028,     0.71093,     0.71163,     0.71405,     0.71626,     0.71736,     0.71812,     0.71912,     0.72083,     0.72204,     0.72258,     0.72312,     0.72367,     0.72421,     0.72558,     0.72531,     0.72725,     0.72876,     0.72913,      0.7295,\n",
              "            0.72987,     0.73338,     0.73543,     0.73531,      0.7352,     0.73508,     0.73496,      0.7367,     0.73741,     0.73825,     0.73935,      0.7411,     0.74181,      0.7428,     0.74349,      0.7442,     0.74493,     0.75104,     0.75167,      0.7523,     0.75667,      0.7597,     0.76022,\n",
              "            0.76069,     0.76116,     0.76315,     0.76606,     0.76738,     0.76834,     0.76952,     0.77047,     0.77086,     0.77125,     0.77165,     0.77231,     0.77321,     0.77506,     0.77551,     0.77596,     0.77642,     0.77792,     0.77766,     0.77784,     0.77829,     0.77875,     0.77963,\n",
              "            0.78221,      0.7827,     0.78314,     0.78359,     0.78442,     0.78575,     0.78847,     0.78902,     0.78987,      0.7901,     0.79034,     0.79058,     0.79081,     0.79105,     0.79129,     0.79183,     0.79271,     0.79281,     0.79268,     0.79285,     0.79302,     0.79319,     0.79336,\n",
              "            0.79353,     0.79369,     0.79386,     0.79403,      0.7942,     0.79414,     0.79401,     0.79388,     0.79541,     0.79523,     0.79504,     0.79548,     0.79596,     0.79645,     0.79642,     0.79673,     0.79704,     0.79735,     0.79765,     0.79788,     0.79763,      0.7978,     0.79848,\n",
              "            0.79916,     0.79911,     0.79905,       0.799,     0.79894,     0.79889,     0.79883,     0.79878,     0.79885,     0.79919,     0.79952,     0.79986,     0.80019,     0.80207,     0.80195,     0.80184,     0.80173,     0.80191,     0.80224,     0.80257,      0.8029,     0.80323,     0.80743,\n",
              "            0.80847,     0.80805,     0.80791,     0.80777,     0.80794,     0.80853,     0.80912,     0.80969,     0.81024,     0.81079,     0.81193,     0.81351,     0.81454,     0.81689,      0.8181,     0.81843,      0.8187,     0.81897,     0.81924,     0.81951,     0.81978,     0.82008,     0.82043,\n",
              "            0.82077,     0.82112,     0.82147,     0.82341,     0.82313,     0.82309,     0.82305,     0.82302,     0.82298,     0.82294,      0.8229,     0.82287,     0.82283,     0.82279,     0.82276,     0.82333,      0.8239,     0.82447,     0.82487,     0.82524,     0.82562,     0.82599,     0.82636,\n",
              "            0.82709,     0.82784,     0.82858,     0.82933,     0.83022,     0.83252,     0.83387,     0.83432,     0.83476,     0.83521,     0.83555,     0.83551,     0.83547,     0.83543,     0.83539,     0.83535,     0.83531,     0.83527,     0.83523,     0.83519,      0.8373,      0.8384,     0.83873,\n",
              "            0.83917,     0.84027,     0.84138,     0.84249,      0.8436,     0.84417,     0.84399,      0.8443,     0.84517,     0.84578,     0.84567,     0.84557,     0.84547,     0.84502,     0.84492,     0.84483,     0.84529,     0.84683,     0.84713,     0.84744,     0.84775,     0.84805,     0.84836,\n",
              "            0.84867,     0.84905,     0.84944,     0.84982,      0.8502,     0.85254,     0.85308,     0.85362,     0.85415,     0.85469,     0.85523,     0.85577,     0.85631,     0.85887,     0.85946,     0.86004,     0.86055,     0.86087,     0.86119,      0.8615,     0.86182,     0.86213,     0.86245,\n",
              "            0.86266,     0.86286,     0.86306,     0.86326,     0.86347,     0.86367,     0.86387,     0.86407,     0.86427,     0.86447,     0.86546,     0.86649,     0.87059,     0.87097,     0.87136,     0.87174,     0.87212,     0.87251,     0.87293,     0.87337,     0.87382,     0.87426,      0.8747,\n",
              "            0.87455,      0.8744,     0.87425,     0.87411,     0.87408,     0.87404,     0.87401,     0.87398,     0.87395,     0.87392,     0.87389,     0.87386,     0.87383,     0.87531,     0.87849,     0.87906,     0.87964,     0.88008,     0.87998,     0.87988,     0.87982,     0.88091,     0.88179,\n",
              "            0.88225,     0.88271,     0.88318,     0.88364,      0.8853,      0.8859,     0.88586,     0.88582,     0.88579,     0.88575,     0.88571,     0.88568,     0.88599,     0.88779,     0.88774,     0.88768,     0.88763,     0.88757,     0.88728,     0.88738,     0.88748,     0.88758,     0.88768,\n",
              "            0.88778,     0.88787,     0.88797,     0.88807,     0.88817,     0.88827,     0.88837,     0.88846,     0.88856,     0.88866,     0.88876,     0.88886,     0.88895,     0.88905,     0.88915,     0.88925,     0.88935,     0.88976,     0.89248,     0.89379,      0.8937,     0.89361,     0.89329,\n",
              "            0.89328,     0.89327,     0.89326,     0.89324,     0.89323,     0.89322,     0.89321,      0.8932,     0.89318,     0.89317,     0.89316,     0.89315,     0.89313,     0.89312,     0.89311,      0.8931,     0.89308,     0.89307,     0.89306,     0.89305,     0.89304,     0.89336,     0.89369,\n",
              "            0.89402,     0.89434,     0.89467,       0.895,     0.89568,     0.89724,     0.89722,     0.89719,     0.89717,     0.89715,     0.89713,     0.89711,     0.89708,     0.89706,     0.89704,     0.89702,       0.897,     0.89709,      0.8973,     0.89751,     0.89772,     0.89793,     0.89814,\n",
              "            0.89835,     0.89856,     0.89877,     0.89899,      0.8992,     0.89969,     0.90027,     0.90086,     0.90144,     0.90253,      0.9037,     0.90451,      0.9053,     0.90608,     0.90597,     0.90587,     0.90634,     0.90682,     0.90729,     0.90776,     0.90814,     0.90802,      0.9079,\n",
              "            0.90778,     0.90831,     0.90996,     0.90976,     0.90964,     0.90985,     0.91065,     0.91146,     0.91226,     0.91307,     0.91388,     0.91403,     0.91398,     0.91392,     0.91386,      0.9137,     0.91347,     0.91498,     0.91612,     0.91662,     0.91711,     0.91761,      0.9181,\n",
              "            0.91812,     0.91801,     0.92009,     0.92037,     0.92031,     0.92025,     0.91998,     0.91992,     0.91987,     0.91981,     0.91977,     0.91974,     0.91972,     0.91969,     0.91966,     0.91963,     0.91961,     0.91958,     0.91973,     0.91994,     0.92015,     0.92036,     0.92057,\n",
              "            0.92078,       0.921,     0.92121,     0.92142,     0.92163,     0.92184,     0.92203,     0.92181,     0.92177,     0.92172,     0.92168,     0.92164,     0.92155,     0.92144,     0.92138,     0.92133,     0.92129,     0.92125,      0.9212,     0.92168,     0.92225,     0.92282,     0.92339,\n",
              "            0.92369,     0.92366,     0.92363,      0.9236,     0.92357,     0.92354,     0.92351,     0.92415,     0.92518,     0.92599,     0.92582,     0.92577,     0.92573,     0.92569,     0.92565,     0.92591,     0.92678,     0.92766,     0.92781,     0.92739,     0.93249,     0.93256,     0.93253,\n",
              "             0.9325,     0.93247,     0.93244,     0.93241,     0.93227,     0.93216,      0.9321,     0.93203,     0.93167,     0.93147,     0.93457,     0.93518,     0.93579,      0.9364,     0.93675,     0.93665,     0.93644,     0.93651,      0.9368,      0.9371,     0.93739,     0.93768,     0.93798,\n",
              "            0.93827,     0.93856,     0.93886,     0.93932,     0.94012,     0.94093,     0.94226,     0.94409,     0.94401,     0.94394,     0.94389,     0.94384,     0.94379,     0.94377,     0.94375,     0.94372,      0.9437,     0.94368,     0.94366,     0.94364,     0.94362,     0.94359,     0.94357,\n",
              "            0.94354,     0.94352,     0.94349,     0.94347,     0.94343,     0.94334,     0.94367,     0.94483,     0.94599,     0.94877,     0.94875,     0.94873,     0.94871,     0.94868,     0.94866,     0.94864,     0.94857,     0.94851,     0.94831,     0.94828,     0.94824,     0.94821,     0.94818,\n",
              "            0.94928,     0.95077,     0.95104,     0.95099,     0.95095,     0.95088,     0.95078,     0.95336,      0.9533,      0.9532,     0.95298,     0.95295,     0.95292,     0.95289,     0.95286,     0.95266,      0.9559,     0.95798,      0.9585,     0.95823,     0.95817,     0.95814,      0.9581,\n",
              "            0.95807,     0.95795,     0.95785,     0.95768,     0.95748,     0.95744,      0.9574,     0.95735,     0.95729,     0.96038,     0.96342,     0.96336,     0.96675,     0.96898,     0.96963,     0.96958,     0.96955,     0.96952,      0.9695,     0.96933,     0.96916,     0.96912,     0.96908,\n",
              "             0.9724,     0.97237,     0.97234,     0.97227,      0.9721,     0.97205,      0.9719,     0.97185,     0.97181,     0.97178,     0.97174,     0.97171,     0.97168,     0.97165,      0.9716,     0.97176,     0.97255,     0.97334,     0.97413,     0.97492,      0.9749,     0.97487,     0.97484,\n",
              "            0.97464,      0.9781,     0.97799,     0.97794,     0.97784,     0.97759,     0.97757,     0.97754,     0.97736,     0.97734,     0.97733,     0.97732,      0.9773,     0.97729,     0.97727,     0.97722,     0.97712,     0.97702,     0.97684,     0.97675,     0.97644,     0.97638,     0.97631,\n",
              "            0.97619,     0.97612,     0.97598,     0.97586,     0.97558,     0.97544,     0.97516,     0.97482,     0.97881,     0.97878,     0.97875,     0.97873,     0.97843,     0.97838,     0.97832,     0.97822,     0.97808,     0.97794,     0.97778,     0.97767,     0.97747,      0.9774,     0.97731,\n",
              "            0.97714,     0.98175,     0.98491,     0.98575,     0.98569,     0.98567,     0.98564,     0.98561,     0.98558,     0.98541,     0.98531,     0.98509,     0.98498,     0.98493,     0.98475,     0.98461,     0.98456,      0.9842,     0.98404,     0.98398,     0.98381,     0.98349,     0.98332,\n",
              "            0.98326,     0.98321,     0.98316,     0.98636,     0.98845,     0.99409,     0.99396,     0.99387,     0.99375,     0.99361,     0.99355,     0.99329,     0.99323,     0.99315,      0.9931,     0.99283,     0.99263,     0.99242,     0.99239,     0.99234,      0.9921,     0.99203,     0.99196,\n",
              "            0.99172,     0.99159,     0.99155,     0.99147,     0.99109,       0.991,     0.99091,     0.99083,     0.99065,     0.99061,     0.99047,     0.99018,     0.99007,     0.99002,     0.98993,     0.98983,     0.98972,     0.98961,     0.98919,     0.98882,     0.98857,     0.98833,       0.988,\n",
              "            0.99844,           1,           1,           1,           1,           1,           1,           1,           1,           1,           1,           1,           1,           1,           1,           1,           1,           1,           1,           1,           1,           1,           1,\n",
              "                  1,           1,           1,           1,           1,           1,           1,           1,           1,           1,           1,           1,           1,           1,           1,           1,           1,           1,           1,           1,           1,           1,           1,\n",
              "                  1,           1,           1,           1,           1,           1,           1,           1,           1,           1,           1,           1,           1,           1,           1,           1,           1,           1,           1,           1,           1,           1,           1,\n",
              "                  1,           1,           1,           1,           1,           1,           1,           1,           1,           1,           1,           1,           1,           1,           1,           1,           1,           1,           1,           1,           1,           1,           1,\n",
              "                  1,           1,           1,           1,           1,           1,           1,           1,           1,           1,           1,           1,           1,           1,           1,           1,           1,           1,           1,           1,           1,           1,           1,\n",
              "                  1,           1,           1,           1,           1,           1,           1,           1,           1,           1,           1]]), 'Confidence', 'Precision'], [array([          0,    0.001001,    0.002002,    0.003003,    0.004004,    0.005005,    0.006006,    0.007007,    0.008008,    0.009009,     0.01001,    0.011011,    0.012012,    0.013013,    0.014014,    0.015015,    0.016016,    0.017017,    0.018018,    0.019019,     0.02002,    0.021021,    0.022022,    0.023023,\n",
              "          0.024024,    0.025025,    0.026026,    0.027027,    0.028028,    0.029029,     0.03003,    0.031031,    0.032032,    0.033033,    0.034034,    0.035035,    0.036036,    0.037037,    0.038038,    0.039039,     0.04004,    0.041041,    0.042042,    0.043043,    0.044044,    0.045045,    0.046046,    0.047047,\n",
              "          0.048048,    0.049049,     0.05005,    0.051051,    0.052052,    0.053053,    0.054054,    0.055055,    0.056056,    0.057057,    0.058058,    0.059059,     0.06006,    0.061061,    0.062062,    0.063063,    0.064064,    0.065065,    0.066066,    0.067067,    0.068068,    0.069069,     0.07007,    0.071071,\n",
              "          0.072072,    0.073073,    0.074074,    0.075075,    0.076076,    0.077077,    0.078078,    0.079079,     0.08008,    0.081081,    0.082082,    0.083083,    0.084084,    0.085085,    0.086086,    0.087087,    0.088088,    0.089089,     0.09009,    0.091091,    0.092092,    0.093093,    0.094094,    0.095095,\n",
              "          0.096096,    0.097097,    0.098098,    0.099099,      0.1001,      0.1011,      0.1021,      0.1031,      0.1041,     0.10511,     0.10611,     0.10711,     0.10811,     0.10911,     0.11011,     0.11111,     0.11211,     0.11311,     0.11411,     0.11512,     0.11612,     0.11712,     0.11812,     0.11912,\n",
              "           0.12012,     0.12112,     0.12212,     0.12312,     0.12412,     0.12513,     0.12613,     0.12713,     0.12813,     0.12913,     0.13013,     0.13113,     0.13213,     0.13313,     0.13413,     0.13514,     0.13614,     0.13714,     0.13814,     0.13914,     0.14014,     0.14114,     0.14214,     0.14314,\n",
              "           0.14414,     0.14515,     0.14615,     0.14715,     0.14815,     0.14915,     0.15015,     0.15115,     0.15215,     0.15315,     0.15415,     0.15516,     0.15616,     0.15716,     0.15816,     0.15916,     0.16016,     0.16116,     0.16216,     0.16316,     0.16416,     0.16517,     0.16617,     0.16717,\n",
              "           0.16817,     0.16917,     0.17017,     0.17117,     0.17217,     0.17317,     0.17417,     0.17518,     0.17618,     0.17718,     0.17818,     0.17918,     0.18018,     0.18118,     0.18218,     0.18318,     0.18418,     0.18519,     0.18619,     0.18719,     0.18819,     0.18919,     0.19019,     0.19119,\n",
              "           0.19219,     0.19319,     0.19419,      0.1952,      0.1962,      0.1972,      0.1982,      0.1992,      0.2002,      0.2012,      0.2022,      0.2032,      0.2042,     0.20521,     0.20621,     0.20721,     0.20821,     0.20921,     0.21021,     0.21121,     0.21221,     0.21321,     0.21421,     0.21522,\n",
              "           0.21622,     0.21722,     0.21822,     0.21922,     0.22022,     0.22122,     0.22222,     0.22322,     0.22422,     0.22523,     0.22623,     0.22723,     0.22823,     0.22923,     0.23023,     0.23123,     0.23223,     0.23323,     0.23423,     0.23524,     0.23624,     0.23724,     0.23824,     0.23924,\n",
              "           0.24024,     0.24124,     0.24224,     0.24324,     0.24424,     0.24525,     0.24625,     0.24725,     0.24825,     0.24925,     0.25025,     0.25125,     0.25225,     0.25325,     0.25425,     0.25526,     0.25626,     0.25726,     0.25826,     0.25926,     0.26026,     0.26126,     0.26226,     0.26326,\n",
              "           0.26426,     0.26527,     0.26627,     0.26727,     0.26827,     0.26927,     0.27027,     0.27127,     0.27227,     0.27327,     0.27427,     0.27528,     0.27628,     0.27728,     0.27828,     0.27928,     0.28028,     0.28128,     0.28228,     0.28328,     0.28428,     0.28529,     0.28629,     0.28729,\n",
              "           0.28829,     0.28929,     0.29029,     0.29129,     0.29229,     0.29329,     0.29429,      0.2953,      0.2963,      0.2973,      0.2983,      0.2993,      0.3003,      0.3013,      0.3023,      0.3033,      0.3043,     0.30531,     0.30631,     0.30731,     0.30831,     0.30931,     0.31031,     0.31131,\n",
              "           0.31231,     0.31331,     0.31431,     0.31532,     0.31632,     0.31732,     0.31832,     0.31932,     0.32032,     0.32132,     0.32232,     0.32332,     0.32432,     0.32533,     0.32633,     0.32733,     0.32833,     0.32933,     0.33033,     0.33133,     0.33233,     0.33333,     0.33433,     0.33534,\n",
              "           0.33634,     0.33734,     0.33834,     0.33934,     0.34034,     0.34134,     0.34234,     0.34334,     0.34434,     0.34535,     0.34635,     0.34735,     0.34835,     0.34935,     0.35035,     0.35135,     0.35235,     0.35335,     0.35435,     0.35536,     0.35636,     0.35736,     0.35836,     0.35936,\n",
              "           0.36036,     0.36136,     0.36236,     0.36336,     0.36436,     0.36537,     0.36637,     0.36737,     0.36837,     0.36937,     0.37037,     0.37137,     0.37237,     0.37337,     0.37437,     0.37538,     0.37638,     0.37738,     0.37838,     0.37938,     0.38038,     0.38138,     0.38238,     0.38338,\n",
              "           0.38438,     0.38539,     0.38639,     0.38739,     0.38839,     0.38939,     0.39039,     0.39139,     0.39239,     0.39339,     0.39439,      0.3954,      0.3964,      0.3974,      0.3984,      0.3994,      0.4004,      0.4014,      0.4024,      0.4034,      0.4044,     0.40541,     0.40641,     0.40741,\n",
              "           0.40841,     0.40941,     0.41041,     0.41141,     0.41241,     0.41341,     0.41441,     0.41542,     0.41642,     0.41742,     0.41842,     0.41942,     0.42042,     0.42142,     0.42242,     0.42342,     0.42442,     0.42543,     0.42643,     0.42743,     0.42843,     0.42943,     0.43043,     0.43143,\n",
              "           0.43243,     0.43343,     0.43443,     0.43544,     0.43644,     0.43744,     0.43844,     0.43944,     0.44044,     0.44144,     0.44244,     0.44344,     0.44444,     0.44545,     0.44645,     0.44745,     0.44845,     0.44945,     0.45045,     0.45145,     0.45245,     0.45345,     0.45445,     0.45546,\n",
              "           0.45646,     0.45746,     0.45846,     0.45946,     0.46046,     0.46146,     0.46246,     0.46346,     0.46446,     0.46547,     0.46647,     0.46747,     0.46847,     0.46947,     0.47047,     0.47147,     0.47247,     0.47347,     0.47447,     0.47548,     0.47648,     0.47748,     0.47848,     0.47948,\n",
              "           0.48048,     0.48148,     0.48248,     0.48348,     0.48448,     0.48549,     0.48649,     0.48749,     0.48849,     0.48949,     0.49049,     0.49149,     0.49249,     0.49349,     0.49449,      0.4955,      0.4965,      0.4975,      0.4985,      0.4995,      0.5005,      0.5015,      0.5025,      0.5035,\n",
              "            0.5045,     0.50551,     0.50651,     0.50751,     0.50851,     0.50951,     0.51051,     0.51151,     0.51251,     0.51351,     0.51451,     0.51552,     0.51652,     0.51752,     0.51852,     0.51952,     0.52052,     0.52152,     0.52252,     0.52352,     0.52452,     0.52553,     0.52653,     0.52753,\n",
              "           0.52853,     0.52953,     0.53053,     0.53153,     0.53253,     0.53353,     0.53453,     0.53554,     0.53654,     0.53754,     0.53854,     0.53954,     0.54054,     0.54154,     0.54254,     0.54354,     0.54454,     0.54555,     0.54655,     0.54755,     0.54855,     0.54955,     0.55055,     0.55155,\n",
              "           0.55255,     0.55355,     0.55455,     0.55556,     0.55656,     0.55756,     0.55856,     0.55956,     0.56056,     0.56156,     0.56256,     0.56356,     0.56456,     0.56557,     0.56657,     0.56757,     0.56857,     0.56957,     0.57057,     0.57157,     0.57257,     0.57357,     0.57457,     0.57558,\n",
              "           0.57658,     0.57758,     0.57858,     0.57958,     0.58058,     0.58158,     0.58258,     0.58358,     0.58458,     0.58559,     0.58659,     0.58759,     0.58859,     0.58959,     0.59059,     0.59159,     0.59259,     0.59359,     0.59459,      0.5956,      0.5966,      0.5976,      0.5986,      0.5996,\n",
              "            0.6006,      0.6016,      0.6026,      0.6036,      0.6046,     0.60561,     0.60661,     0.60761,     0.60861,     0.60961,     0.61061,     0.61161,     0.61261,     0.61361,     0.61461,     0.61562,     0.61662,     0.61762,     0.61862,     0.61962,     0.62062,     0.62162,     0.62262,     0.62362,\n",
              "           0.62462,     0.62563,     0.62663,     0.62763,     0.62863,     0.62963,     0.63063,     0.63163,     0.63263,     0.63363,     0.63463,     0.63564,     0.63664,     0.63764,     0.63864,     0.63964,     0.64064,     0.64164,     0.64264,     0.64364,     0.64464,     0.64565,     0.64665,     0.64765,\n",
              "           0.64865,     0.64965,     0.65065,     0.65165,     0.65265,     0.65365,     0.65465,     0.65566,     0.65666,     0.65766,     0.65866,     0.65966,     0.66066,     0.66166,     0.66266,     0.66366,     0.66466,     0.66567,     0.66667,     0.66767,     0.66867,     0.66967,     0.67067,     0.67167,\n",
              "           0.67267,     0.67367,     0.67467,     0.67568,     0.67668,     0.67768,     0.67868,     0.67968,     0.68068,     0.68168,     0.68268,     0.68368,     0.68468,     0.68569,     0.68669,     0.68769,     0.68869,     0.68969,     0.69069,     0.69169,     0.69269,     0.69369,     0.69469,      0.6957,\n",
              "            0.6967,      0.6977,      0.6987,      0.6997,      0.7007,      0.7017,      0.7027,      0.7037,      0.7047,     0.70571,     0.70671,     0.70771,     0.70871,     0.70971,     0.71071,     0.71171,     0.71271,     0.71371,     0.71471,     0.71572,     0.71672,     0.71772,     0.71872,     0.71972,\n",
              "           0.72072,     0.72172,     0.72272,     0.72372,     0.72472,     0.72573,     0.72673,     0.72773,     0.72873,     0.72973,     0.73073,     0.73173,     0.73273,     0.73373,     0.73473,     0.73574,     0.73674,     0.73774,     0.73874,     0.73974,     0.74074,     0.74174,     0.74274,     0.74374,\n",
              "           0.74474,     0.74575,     0.74675,     0.74775,     0.74875,     0.74975,     0.75075,     0.75175,     0.75275,     0.75375,     0.75475,     0.75576,     0.75676,     0.75776,     0.75876,     0.75976,     0.76076,     0.76176,     0.76276,     0.76376,     0.76476,     0.76577,     0.76677,     0.76777,\n",
              "           0.76877,     0.76977,     0.77077,     0.77177,     0.77277,     0.77377,     0.77477,     0.77578,     0.77678,     0.77778,     0.77878,     0.77978,     0.78078,     0.78178,     0.78278,     0.78378,     0.78478,     0.78579,     0.78679,     0.78779,     0.78879,     0.78979,     0.79079,     0.79179,\n",
              "           0.79279,     0.79379,     0.79479,      0.7958,      0.7968,      0.7978,      0.7988,      0.7998,      0.8008,      0.8018,      0.8028,      0.8038,      0.8048,     0.80581,     0.80681,     0.80781,     0.80881,     0.80981,     0.81081,     0.81181,     0.81281,     0.81381,     0.81481,     0.81582,\n",
              "           0.81682,     0.81782,     0.81882,     0.81982,     0.82082,     0.82182,     0.82282,     0.82382,     0.82482,     0.82583,     0.82683,     0.82783,     0.82883,     0.82983,     0.83083,     0.83183,     0.83283,     0.83383,     0.83483,     0.83584,     0.83684,     0.83784,     0.83884,     0.83984,\n",
              "           0.84084,     0.84184,     0.84284,     0.84384,     0.84484,     0.84585,     0.84685,     0.84785,     0.84885,     0.84985,     0.85085,     0.85185,     0.85285,     0.85385,     0.85485,     0.85586,     0.85686,     0.85786,     0.85886,     0.85986,     0.86086,     0.86186,     0.86286,     0.86386,\n",
              "           0.86486,     0.86587,     0.86687,     0.86787,     0.86887,     0.86987,     0.87087,     0.87187,     0.87287,     0.87387,     0.87487,     0.87588,     0.87688,     0.87788,     0.87888,     0.87988,     0.88088,     0.88188,     0.88288,     0.88388,     0.88488,     0.88589,     0.88689,     0.88789,\n",
              "           0.88889,     0.88989,     0.89089,     0.89189,     0.89289,     0.89389,     0.89489,      0.8959,      0.8969,      0.8979,      0.8989,      0.8999,      0.9009,      0.9019,      0.9029,      0.9039,      0.9049,     0.90591,     0.90691,     0.90791,     0.90891,     0.90991,     0.91091,     0.91191,\n",
              "           0.91291,     0.91391,     0.91491,     0.91592,     0.91692,     0.91792,     0.91892,     0.91992,     0.92092,     0.92192,     0.92292,     0.92392,     0.92492,     0.92593,     0.92693,     0.92793,     0.92893,     0.92993,     0.93093,     0.93193,     0.93293,     0.93393,     0.93493,     0.93594,\n",
              "           0.93694,     0.93794,     0.93894,     0.93994,     0.94094,     0.94194,     0.94294,     0.94394,     0.94494,     0.94595,     0.94695,     0.94795,     0.94895,     0.94995,     0.95095,     0.95195,     0.95295,     0.95395,     0.95495,     0.95596,     0.95696,     0.95796,     0.95896,     0.95996,\n",
              "           0.96096,     0.96196,     0.96296,     0.96396,     0.96496,     0.96597,     0.96697,     0.96797,     0.96897,     0.96997,     0.97097,     0.97197,     0.97297,     0.97397,     0.97497,     0.97598,     0.97698,     0.97798,     0.97898,     0.97998,     0.98098,     0.98198,     0.98298,     0.98398,\n",
              "           0.98498,     0.98599,     0.98699,     0.98799,     0.98899,     0.98999,     0.99099,     0.99199,     0.99299,     0.99399,     0.99499,       0.996,       0.997,       0.998,       0.999,           1]), array([[    0.95711,     0.95711,     0.95711,     0.95485,     0.95485,     0.95485,     0.95485,      0.9526,     0.95034,     0.94808,     0.94582,     0.94582,     0.94582,     0.94582,     0.94582,     0.94131,     0.93905,     0.93454,     0.93454,     0.93454,     0.93228,     0.93228,     0.93228,\n",
              "            0.93228,     0.93228,     0.93228,     0.93228,     0.93228,     0.93228,     0.93228,     0.93002,     0.93002,     0.93002,     0.93002,     0.92777,     0.92777,     0.92777,     0.92777,     0.92777,     0.92777,     0.92777,     0.92777,     0.92777,     0.92777,     0.92777,     0.92777,\n",
              "            0.92551,     0.92551,     0.92551,     0.92551,     0.92551,     0.92551,     0.92325,     0.92325,     0.92325,     0.92325,     0.92325,     0.92325,     0.92325,     0.92325,     0.92325,     0.92325,     0.92325,     0.92325,     0.92325,     0.92325,     0.92325,     0.92325,     0.92325,\n",
              "            0.92325,     0.92099,     0.92099,     0.92099,     0.92099,     0.92099,     0.92099,      0.9204,     0.91874,     0.91874,     0.91874,     0.91874,     0.91874,     0.91874,     0.91648,     0.91648,     0.91196,     0.91196,     0.91196,     0.90621,     0.90293,     0.90293,     0.90293,\n",
              "            0.90293,     0.90293,     0.90293,     0.90068,     0.90068,     0.90068,     0.90068,     0.89926,     0.89842,     0.89842,     0.89842,     0.89842,     0.89842,     0.89842,     0.89842,     0.89842,      0.8959,     0.89395,      0.8939,     0.89293,     0.89195,     0.89165,     0.89165,\n",
              "            0.89165,     0.89165,     0.89165,     0.89165,     0.89165,     0.89165,     0.89165,     0.89165,     0.89165,     0.89165,     0.89165,     0.88939,     0.88939,     0.88939,     0.88939,     0.88939,     0.88939,     0.88933,     0.88809,     0.88713,     0.88488,     0.88488,     0.88488,\n",
              "            0.88488,     0.88488,     0.88475,     0.88422,     0.88369,     0.88316,     0.88263,     0.88262,     0.88262,     0.88262,     0.88262,     0.88262,     0.88204,      0.8781,      0.8781,      0.8781,      0.8781,      0.8781,      0.8781,      0.8781,      0.8781,      0.8781,      0.8781,\n",
              "             0.8781,      0.8781,      0.8781,      0.8781,      0.8781,      0.8781,      0.8781,      0.8781,      0.8781,      0.8781,      0.8781,      0.8781,      0.8781,      0.8781,      0.8781,      0.8781,      0.8781,     0.87768,     0.87636,     0.87585,     0.87585,     0.87585,     0.87585,\n",
              "            0.87585,     0.87585,     0.87585,     0.87585,     0.87585,     0.87585,     0.87507,     0.87359,     0.87359,     0.87359,     0.87359,     0.87359,     0.87359,     0.87359,     0.87359,     0.87359,     0.87359,     0.87241,     0.87133,     0.87133,     0.87133,     0.87133,     0.87133,\n",
              "            0.87133,     0.87133,     0.87133,     0.87133,     0.87133,     0.87079,     0.87011,     0.86942,     0.86883,     0.86786,     0.86688,     0.86682,     0.86682,     0.86682,     0.86456,     0.86456,     0.86456,     0.86456,     0.86456,     0.86436,     0.86304,      0.8623,      0.8623,\n",
              "             0.8623,     0.86201,     0.86171,     0.86142,     0.86113,     0.86083,     0.86054,     0.86024,     0.86005,     0.86005,     0.86005,     0.86005,     0.86005,     0.85985,     0.85923,     0.85861,     0.85799,     0.85779,     0.85779,     0.85779,     0.85779,     0.85779,     0.85779,\n",
              "            0.85754,     0.85526,     0.85449,     0.85372,     0.85327,     0.85327,     0.85327,     0.85327,     0.85327,     0.85327,     0.85327,     0.85327,     0.85327,     0.85327,     0.85327,     0.85327,     0.85327,     0.85327,     0.85327,     0.85327,     0.85327,     0.85327,     0.85327,\n",
              "            0.85327,     0.85327,     0.85327,     0.85257,     0.85091,     0.85069,     0.85048,     0.85026,     0.85005,     0.84983,     0.84962,      0.8494,     0.84919,     0.84897,     0.84876,     0.84876,     0.84876,     0.84876,     0.84876,     0.84876,     0.84876,     0.84876,     0.84876,\n",
              "            0.84876,     0.84876,     0.84876,     0.84876,     0.84876,     0.84876,     0.84876,     0.84876,     0.84876,     0.84876,      0.8487,     0.84846,     0.84822,     0.84797,     0.84773,     0.84749,     0.84724,       0.847,     0.84675,     0.84651,      0.8465,      0.8465,      0.8453,\n",
              "            0.84424,     0.84424,     0.84424,     0.84424,     0.84424,     0.84375,      0.8426,     0.84199,     0.84199,      0.8418,     0.84114,     0.84048,     0.83982,     0.83694,     0.83632,     0.83571,     0.83521,     0.83521,     0.83521,     0.83521,     0.83521,     0.83521,     0.83521,\n",
              "            0.83521,     0.83521,     0.83521,     0.83521,     0.83521,     0.83521,     0.83521,     0.83521,     0.83521,     0.83521,     0.83521,     0.83521,     0.83521,     0.83521,     0.83521,     0.83521,     0.83521,     0.83521,     0.83521,     0.83521,     0.83521,     0.83521,     0.83521,\n",
              "            0.83521,     0.83521,     0.83521,     0.83521,     0.83521,     0.83521,     0.83521,     0.83521,     0.83521,     0.83521,     0.83521,     0.83521,     0.83521,     0.83521,     0.83521,     0.83521,     0.83521,     0.83521,     0.83521,     0.83521,     0.83521,     0.83521,      0.8352,\n",
              "            0.83405,     0.83289,     0.83173,     0.83067,     0.83044,     0.83021,     0.82998,     0.82975,     0.82952,     0.82929,     0.82906,     0.82882,     0.82859,     0.82844,     0.82844,     0.82844,     0.82844,     0.82828,     0.82751,     0.82674,     0.82393,     0.82393,     0.82393,\n",
              "            0.82393,     0.82393,     0.82393,     0.82393,     0.82393,     0.82371,     0.82341,     0.82312,     0.82282,     0.82252,     0.82222,     0.82192,     0.82167,     0.82159,     0.82112,     0.82066,      0.8202,     0.81974,     0.81716,     0.81716,     0.81716,     0.81716,     0.81716,\n",
              "            0.81716,     0.81716,     0.81716,     0.81716,     0.81716,     0.81716,     0.81716,     0.81716,     0.81716,     0.81716,     0.81716,     0.81716,     0.81716,     0.81716,     0.81716,     0.81716,     0.81716,     0.81716,     0.81716,     0.81685,     0.81607,      0.8153,     0.81259,\n",
              "            0.81249,     0.81238,     0.81228,     0.81217,     0.81207,     0.81196,     0.81185,     0.81175,     0.81164,     0.81154,     0.81143,     0.81133,     0.81122,     0.81112,     0.81101,     0.81091,      0.8108,      0.8107,     0.81059,     0.81049,     0.81038,     0.81038,     0.81038,\n",
              "            0.81038,     0.81038,     0.81038,     0.81038,     0.81038,     0.80809,     0.80789,      0.8077,     0.80751,     0.80732,     0.80712,     0.80693,     0.80674,     0.80654,     0.80635,     0.80616,     0.80597,     0.80587,     0.80587,     0.80587,     0.80587,     0.80587,     0.80587,\n",
              "            0.80587,     0.80587,     0.80587,     0.80587,     0.80587,     0.80587,     0.80587,     0.80587,     0.80587,     0.80587,     0.80587,     0.80587,     0.80587,     0.80587,     0.80473,     0.80361,     0.80361,     0.80361,     0.80361,     0.80361,     0.80343,     0.80227,     0.80111,\n",
              "            0.79996,      0.7991,     0.79845,     0.79649,     0.79533,     0.79458,     0.79458,     0.79458,     0.79458,     0.79458,     0.79458,     0.79204,     0.79146,     0.79088,      0.7903,     0.78868,     0.78637,     0.78555,     0.78555,     0.78555,     0.78555,     0.78555,     0.78555,\n",
              "            0.78463,     0.78348,      0.7833,     0.78272,     0.78206,      0.7814,     0.77852,     0.77794,     0.77736,     0.77678,     0.77636,     0.77608,     0.77579,      0.7755,     0.77521,     0.77492,     0.77463,     0.77434,     0.77427,     0.77427,     0.77427,     0.77427,     0.77427,\n",
              "            0.77427,     0.77427,     0.77427,     0.77427,     0.77427,     0.77427,     0.77409,     0.77175,     0.77129,     0.77083,     0.77037,      0.7699,     0.76897,     0.76782,     0.76716,      0.7667,     0.76623,     0.76577,     0.76531,     0.76524,     0.76524,     0.76524,     0.76524,\n",
              "            0.76509,     0.76476,     0.76443,      0.7641,     0.76376,     0.76343,      0.7631,     0.76298,     0.76298,     0.76255,     0.76063,     0.76016,      0.7597,     0.75924,     0.75877,     0.75847,     0.75847,     0.75847,     0.75433,     0.74957,     0.74944,     0.74909,     0.74874,\n",
              "            0.74838,     0.74802,     0.74767,     0.74731,     0.74573,     0.74442,     0.74365,     0.74288,     0.73873,     0.73642,     0.73589,     0.73589,     0.73589,     0.73589,     0.73545,     0.73429,     0.73164,     0.72912,     0.72912,     0.72912,     0.72912,     0.72912,     0.72912,\n",
              "            0.72912,     0.72912,     0.72912,     0.72686,     0.72686,     0.72686,     0.72686,     0.72428,     0.72312,     0.72213,     0.72147,     0.72081,     0.72014,     0.71982,     0.71954,     0.71925,     0.71896,     0.71867,     0.71838,     0.71809,      0.7178,     0.71746,     0.71713,\n",
              "             0.7168,     0.71647,     0.71614,     0.71581,     0.71525,     0.71409,     0.71332,     0.71332,     0.71332,     0.71077,     0.71043,      0.7101,     0.70977,     0.70944,     0.70911,     0.70874,     0.70782,     0.70689,       0.704,     0.70354,     0.70307,     0.70261,     0.70215,\n",
              "            0.70203,     0.70203,      0.7015,     0.70084,     0.70018,     0.69918,     0.69764,     0.69215,     0.69123,     0.68963,     0.68622,     0.68576,      0.6853,     0.68483,     0.68437,     0.68139,     0.67946,     0.67946,     0.67784,     0.67327,     0.67225,     0.67167,      0.6711,\n",
              "            0.67052,     0.66847,     0.66683,     0.66403,     0.66079,     0.66013,     0.65947,     0.65867,     0.65775,     0.65658,     0.65396,      0.6528,     0.65011,     0.65011,     0.64855,     0.64745,     0.64687,     0.64629,     0.64571,     0.64211,     0.63852,     0.63759,     0.63667,\n",
              "            0.63625,     0.63548,     0.63471,      0.6332,     0.62921,     0.62805,     0.62464,     0.62348,     0.62256,     0.62179,     0.62102,     0.62032,     0.61966,       0.619,      0.6179,     0.61625,     0.61625,     0.61625,     0.61625,     0.61625,     0.61368,     0.61291,     0.61214,\n",
              "            0.60725,     0.60488,     0.60189,      0.6003,     0.59777,     0.59096,     0.59018,     0.58941,     0.58458,     0.58423,     0.58387,     0.58351,     0.58316,      0.5828,     0.58245,     0.58108,     0.57835,      0.5758,     0.57123,     0.56892,     0.56133,     0.55979,     0.55825,\n",
              "             0.5552,     0.55366,     0.55025,     0.54756,     0.54099,     0.53794,     0.53174,     0.52428,     0.52127,     0.52061,     0.51995,     0.51929,       0.512,     0.51084,     0.50921,      0.5069,     0.50352,     0.50038,     0.49657,     0.49425,     0.48974,     0.48819,     0.48618,\n",
              "            0.48241,     0.47178,     0.47178,     0.46853,      0.4666,     0.46567,     0.46474,     0.46382,     0.46289,      0.4574,      0.4542,     0.44731,     0.44402,     0.44248,     0.43718,     0.43338,     0.43184,      0.4218,     0.41746,     0.41592,     0.41164,     0.40329,     0.39925,\n",
              "            0.39771,     0.39645,     0.39529,     0.39278,     0.38641,     0.37993,     0.37162,     0.36616,     0.35909,     0.35114,     0.34776,      0.3341,     0.33104,     0.32721,     0.32474,     0.31242,     0.30419,     0.29555,     0.29439,     0.29257,     0.28343,     0.28104,     0.27869,\n",
              "            0.27021,       0.266,     0.26485,     0.26243,     0.25103,     0.24848,     0.24617,     0.24386,     0.23929,     0.23812,     0.23455,     0.22767,     0.22506,      0.2239,     0.22202,      0.2197,     0.21739,     0.21508,     0.20656,     0.19968,     0.19519,     0.19115,     0.18579,\n",
              "            0.18284,     0.17654,     0.17061,     0.16829,     0.16491,     0.16028,      0.1534,     0.14662,     0.14414,     0.14086,     0.13526,     0.13371,     0.12789,     0.12536,     0.12382,     0.12228,     0.11651,     0.11535,     0.11451,     0.11373,     0.11296,      0.1043,    0.096112,\n",
              "           0.091877,    0.090335,    0.088042,    0.087267,    0.086495,    0.085451,    0.074382,    0.073225,    0.071568,    0.069218,    0.068061,    0.066632,    0.064344,    0.061461,    0.059747,    0.057233,    0.053653,     0.05211,    0.049892,    0.047578,    0.044473,     0.04293,    0.042246,\n",
              "           0.041585,    0.040924,    0.040115,    0.039189,    0.037819,    0.035142,    0.033762,    0.033184,    0.032605,    0.032027,    0.031397,    0.030626,    0.029855,    0.025515,    0.023845,    0.022688,    0.020489,    0.018175,    0.013664,    0.013389,    0.013229,    0.013069,     0.01291,\n",
              "            0.01275,    0.012591,    0.012431,    0.012272,    0.012112,    0.011952,    0.011793,    0.011633,    0.011474,    0.011314,   0.0074544,   0.0065528,   0.0062957,   0.0060386,   0.0057816,   0.0055245,   0.0052674,   0.0050103,   0.0047532,   0.0045031,   0.0043436,    0.004184,   0.0040244,\n",
              "          0.0038648,   0.0037053,   0.0035457,   0.0033861,   0.0032265,    0.003067,   0.0029074,   0.0027478,   0.0025883,   0.0024287,   0.0022691,           0,           0,           0,           0,           0,           0,           0,           0,           0,           0,           0,           0,\n",
              "                  0,           0,           0,           0,           0,           0,           0,           0,           0,           0,           0]]), 'Confidence', 'Recall'], [array([          0,    0.001001,    0.002002,    0.003003,    0.004004,    0.005005,    0.006006,    0.007007,    0.008008,    0.009009,     0.01001,    0.011011,    0.012012,    0.013013,    0.014014,    0.015015,    0.016016,    0.017017,    0.018018,    0.019019,     0.02002,    0.021021,    0.022022,    0.023023,\n",
              "          0.024024,    0.025025,    0.026026,    0.027027,    0.028028,    0.029029,     0.03003,    0.031031,    0.032032,    0.033033,    0.034034,    0.035035,    0.036036,    0.037037,    0.038038,    0.039039,     0.04004,    0.041041,    0.042042,    0.043043,    0.044044,    0.045045,    0.046046,    0.047047,\n",
              "          0.048048,    0.049049,     0.05005,    0.051051,    0.052052,    0.053053,    0.054054,    0.055055,    0.056056,    0.057057,    0.058058,    0.059059,     0.06006,    0.061061,    0.062062,    0.063063,    0.064064,    0.065065,    0.066066,    0.067067,    0.068068,    0.069069,     0.07007,    0.071071,\n",
              "          0.072072,    0.073073,    0.074074,    0.075075,    0.076076,    0.077077,    0.078078,    0.079079,     0.08008,    0.081081,    0.082082,    0.083083,    0.084084,    0.085085,    0.086086,    0.087087,    0.088088,    0.089089,     0.09009,    0.091091,    0.092092,    0.093093,    0.094094,    0.095095,\n",
              "          0.096096,    0.097097,    0.098098,    0.099099,      0.1001,      0.1011,      0.1021,      0.1031,      0.1041,     0.10511,     0.10611,     0.10711,     0.10811,     0.10911,     0.11011,     0.11111,     0.11211,     0.11311,     0.11411,     0.11512,     0.11612,     0.11712,     0.11812,     0.11912,\n",
              "           0.12012,     0.12112,     0.12212,     0.12312,     0.12412,     0.12513,     0.12613,     0.12713,     0.12813,     0.12913,     0.13013,     0.13113,     0.13213,     0.13313,     0.13413,     0.13514,     0.13614,     0.13714,     0.13814,     0.13914,     0.14014,     0.14114,     0.14214,     0.14314,\n",
              "           0.14414,     0.14515,     0.14615,     0.14715,     0.14815,     0.14915,     0.15015,     0.15115,     0.15215,     0.15315,     0.15415,     0.15516,     0.15616,     0.15716,     0.15816,     0.15916,     0.16016,     0.16116,     0.16216,     0.16316,     0.16416,     0.16517,     0.16617,     0.16717,\n",
              "           0.16817,     0.16917,     0.17017,     0.17117,     0.17217,     0.17317,     0.17417,     0.17518,     0.17618,     0.17718,     0.17818,     0.17918,     0.18018,     0.18118,     0.18218,     0.18318,     0.18418,     0.18519,     0.18619,     0.18719,     0.18819,     0.18919,     0.19019,     0.19119,\n",
              "           0.19219,     0.19319,     0.19419,      0.1952,      0.1962,      0.1972,      0.1982,      0.1992,      0.2002,      0.2012,      0.2022,      0.2032,      0.2042,     0.20521,     0.20621,     0.20721,     0.20821,     0.20921,     0.21021,     0.21121,     0.21221,     0.21321,     0.21421,     0.21522,\n",
              "           0.21622,     0.21722,     0.21822,     0.21922,     0.22022,     0.22122,     0.22222,     0.22322,     0.22422,     0.22523,     0.22623,     0.22723,     0.22823,     0.22923,     0.23023,     0.23123,     0.23223,     0.23323,     0.23423,     0.23524,     0.23624,     0.23724,     0.23824,     0.23924,\n",
              "           0.24024,     0.24124,     0.24224,     0.24324,     0.24424,     0.24525,     0.24625,     0.24725,     0.24825,     0.24925,     0.25025,     0.25125,     0.25225,     0.25325,     0.25425,     0.25526,     0.25626,     0.25726,     0.25826,     0.25926,     0.26026,     0.26126,     0.26226,     0.26326,\n",
              "           0.26426,     0.26527,     0.26627,     0.26727,     0.26827,     0.26927,     0.27027,     0.27127,     0.27227,     0.27327,     0.27427,     0.27528,     0.27628,     0.27728,     0.27828,     0.27928,     0.28028,     0.28128,     0.28228,     0.28328,     0.28428,     0.28529,     0.28629,     0.28729,\n",
              "           0.28829,     0.28929,     0.29029,     0.29129,     0.29229,     0.29329,     0.29429,      0.2953,      0.2963,      0.2973,      0.2983,      0.2993,      0.3003,      0.3013,      0.3023,      0.3033,      0.3043,     0.30531,     0.30631,     0.30731,     0.30831,     0.30931,     0.31031,     0.31131,\n",
              "           0.31231,     0.31331,     0.31431,     0.31532,     0.31632,     0.31732,     0.31832,     0.31932,     0.32032,     0.32132,     0.32232,     0.32332,     0.32432,     0.32533,     0.32633,     0.32733,     0.32833,     0.32933,     0.33033,     0.33133,     0.33233,     0.33333,     0.33433,     0.33534,\n",
              "           0.33634,     0.33734,     0.33834,     0.33934,     0.34034,     0.34134,     0.34234,     0.34334,     0.34434,     0.34535,     0.34635,     0.34735,     0.34835,     0.34935,     0.35035,     0.35135,     0.35235,     0.35335,     0.35435,     0.35536,     0.35636,     0.35736,     0.35836,     0.35936,\n",
              "           0.36036,     0.36136,     0.36236,     0.36336,     0.36436,     0.36537,     0.36637,     0.36737,     0.36837,     0.36937,     0.37037,     0.37137,     0.37237,     0.37337,     0.37437,     0.37538,     0.37638,     0.37738,     0.37838,     0.37938,     0.38038,     0.38138,     0.38238,     0.38338,\n",
              "           0.38438,     0.38539,     0.38639,     0.38739,     0.38839,     0.38939,     0.39039,     0.39139,     0.39239,     0.39339,     0.39439,      0.3954,      0.3964,      0.3974,      0.3984,      0.3994,      0.4004,      0.4014,      0.4024,      0.4034,      0.4044,     0.40541,     0.40641,     0.40741,\n",
              "           0.40841,     0.40941,     0.41041,     0.41141,     0.41241,     0.41341,     0.41441,     0.41542,     0.41642,     0.41742,     0.41842,     0.41942,     0.42042,     0.42142,     0.42242,     0.42342,     0.42442,     0.42543,     0.42643,     0.42743,     0.42843,     0.42943,     0.43043,     0.43143,\n",
              "           0.43243,     0.43343,     0.43443,     0.43544,     0.43644,     0.43744,     0.43844,     0.43944,     0.44044,     0.44144,     0.44244,     0.44344,     0.44444,     0.44545,     0.44645,     0.44745,     0.44845,     0.44945,     0.45045,     0.45145,     0.45245,     0.45345,     0.45445,     0.45546,\n",
              "           0.45646,     0.45746,     0.45846,     0.45946,     0.46046,     0.46146,     0.46246,     0.46346,     0.46446,     0.46547,     0.46647,     0.46747,     0.46847,     0.46947,     0.47047,     0.47147,     0.47247,     0.47347,     0.47447,     0.47548,     0.47648,     0.47748,     0.47848,     0.47948,\n",
              "           0.48048,     0.48148,     0.48248,     0.48348,     0.48448,     0.48549,     0.48649,     0.48749,     0.48849,     0.48949,     0.49049,     0.49149,     0.49249,     0.49349,     0.49449,      0.4955,      0.4965,      0.4975,      0.4985,      0.4995,      0.5005,      0.5015,      0.5025,      0.5035,\n",
              "            0.5045,     0.50551,     0.50651,     0.50751,     0.50851,     0.50951,     0.51051,     0.51151,     0.51251,     0.51351,     0.51451,     0.51552,     0.51652,     0.51752,     0.51852,     0.51952,     0.52052,     0.52152,     0.52252,     0.52352,     0.52452,     0.52553,     0.52653,     0.52753,\n",
              "           0.52853,     0.52953,     0.53053,     0.53153,     0.53253,     0.53353,     0.53453,     0.53554,     0.53654,     0.53754,     0.53854,     0.53954,     0.54054,     0.54154,     0.54254,     0.54354,     0.54454,     0.54555,     0.54655,     0.54755,     0.54855,     0.54955,     0.55055,     0.55155,\n",
              "           0.55255,     0.55355,     0.55455,     0.55556,     0.55656,     0.55756,     0.55856,     0.55956,     0.56056,     0.56156,     0.56256,     0.56356,     0.56456,     0.56557,     0.56657,     0.56757,     0.56857,     0.56957,     0.57057,     0.57157,     0.57257,     0.57357,     0.57457,     0.57558,\n",
              "           0.57658,     0.57758,     0.57858,     0.57958,     0.58058,     0.58158,     0.58258,     0.58358,     0.58458,     0.58559,     0.58659,     0.58759,     0.58859,     0.58959,     0.59059,     0.59159,     0.59259,     0.59359,     0.59459,      0.5956,      0.5966,      0.5976,      0.5986,      0.5996,\n",
              "            0.6006,      0.6016,      0.6026,      0.6036,      0.6046,     0.60561,     0.60661,     0.60761,     0.60861,     0.60961,     0.61061,     0.61161,     0.61261,     0.61361,     0.61461,     0.61562,     0.61662,     0.61762,     0.61862,     0.61962,     0.62062,     0.62162,     0.62262,     0.62362,\n",
              "           0.62462,     0.62563,     0.62663,     0.62763,     0.62863,     0.62963,     0.63063,     0.63163,     0.63263,     0.63363,     0.63463,     0.63564,     0.63664,     0.63764,     0.63864,     0.63964,     0.64064,     0.64164,     0.64264,     0.64364,     0.64464,     0.64565,     0.64665,     0.64765,\n",
              "           0.64865,     0.64965,     0.65065,     0.65165,     0.65265,     0.65365,     0.65465,     0.65566,     0.65666,     0.65766,     0.65866,     0.65966,     0.66066,     0.66166,     0.66266,     0.66366,     0.66466,     0.66567,     0.66667,     0.66767,     0.66867,     0.66967,     0.67067,     0.67167,\n",
              "           0.67267,     0.67367,     0.67467,     0.67568,     0.67668,     0.67768,     0.67868,     0.67968,     0.68068,     0.68168,     0.68268,     0.68368,     0.68468,     0.68569,     0.68669,     0.68769,     0.68869,     0.68969,     0.69069,     0.69169,     0.69269,     0.69369,     0.69469,      0.6957,\n",
              "            0.6967,      0.6977,      0.6987,      0.6997,      0.7007,      0.7017,      0.7027,      0.7037,      0.7047,     0.70571,     0.70671,     0.70771,     0.70871,     0.70971,     0.71071,     0.71171,     0.71271,     0.71371,     0.71471,     0.71572,     0.71672,     0.71772,     0.71872,     0.71972,\n",
              "           0.72072,     0.72172,     0.72272,     0.72372,     0.72472,     0.72573,     0.72673,     0.72773,     0.72873,     0.72973,     0.73073,     0.73173,     0.73273,     0.73373,     0.73473,     0.73574,     0.73674,     0.73774,     0.73874,     0.73974,     0.74074,     0.74174,     0.74274,     0.74374,\n",
              "           0.74474,     0.74575,     0.74675,     0.74775,     0.74875,     0.74975,     0.75075,     0.75175,     0.75275,     0.75375,     0.75475,     0.75576,     0.75676,     0.75776,     0.75876,     0.75976,     0.76076,     0.76176,     0.76276,     0.76376,     0.76476,     0.76577,     0.76677,     0.76777,\n",
              "           0.76877,     0.76977,     0.77077,     0.77177,     0.77277,     0.77377,     0.77477,     0.77578,     0.77678,     0.77778,     0.77878,     0.77978,     0.78078,     0.78178,     0.78278,     0.78378,     0.78478,     0.78579,     0.78679,     0.78779,     0.78879,     0.78979,     0.79079,     0.79179,\n",
              "           0.79279,     0.79379,     0.79479,      0.7958,      0.7968,      0.7978,      0.7988,      0.7998,      0.8008,      0.8018,      0.8028,      0.8038,      0.8048,     0.80581,     0.80681,     0.80781,     0.80881,     0.80981,     0.81081,     0.81181,     0.81281,     0.81381,     0.81481,     0.81582,\n",
              "           0.81682,     0.81782,     0.81882,     0.81982,     0.82082,     0.82182,     0.82282,     0.82382,     0.82482,     0.82583,     0.82683,     0.82783,     0.82883,     0.82983,     0.83083,     0.83183,     0.83283,     0.83383,     0.83483,     0.83584,     0.83684,     0.83784,     0.83884,     0.83984,\n",
              "           0.84084,     0.84184,     0.84284,     0.84384,     0.84484,     0.84585,     0.84685,     0.84785,     0.84885,     0.84985,     0.85085,     0.85185,     0.85285,     0.85385,     0.85485,     0.85586,     0.85686,     0.85786,     0.85886,     0.85986,     0.86086,     0.86186,     0.86286,     0.86386,\n",
              "           0.86486,     0.86587,     0.86687,     0.86787,     0.86887,     0.86987,     0.87087,     0.87187,     0.87287,     0.87387,     0.87487,     0.87588,     0.87688,     0.87788,     0.87888,     0.87988,     0.88088,     0.88188,     0.88288,     0.88388,     0.88488,     0.88589,     0.88689,     0.88789,\n",
              "           0.88889,     0.88989,     0.89089,     0.89189,     0.89289,     0.89389,     0.89489,      0.8959,      0.8969,      0.8979,      0.8989,      0.8999,      0.9009,      0.9019,      0.9029,      0.9039,      0.9049,     0.90591,     0.90691,     0.90791,     0.90891,     0.90991,     0.91091,     0.91191,\n",
              "           0.91291,     0.91391,     0.91491,     0.91592,     0.91692,     0.91792,     0.91892,     0.91992,     0.92092,     0.92192,     0.92292,     0.92392,     0.92492,     0.92593,     0.92693,     0.92793,     0.92893,     0.92993,     0.93093,     0.93193,     0.93293,     0.93393,     0.93493,     0.93594,\n",
              "           0.93694,     0.93794,     0.93894,     0.93994,     0.94094,     0.94194,     0.94294,     0.94394,     0.94494,     0.94595,     0.94695,     0.94795,     0.94895,     0.94995,     0.95095,     0.95195,     0.95295,     0.95395,     0.95495,     0.95596,     0.95696,     0.95796,     0.95896,     0.95996,\n",
              "           0.96096,     0.96196,     0.96296,     0.96396,     0.96496,     0.96597,     0.96697,     0.96797,     0.96897,     0.96997,     0.97097,     0.97197,     0.97297,     0.97397,     0.97497,     0.97598,     0.97698,     0.97798,     0.97898,     0.97998,     0.98098,     0.98198,     0.98298,     0.98398,\n",
              "           0.98498,     0.98599,     0.98699,     0.98799,     0.98899,     0.98999,     0.99099,     0.99199,     0.99299,     0.99399,     0.99499,       0.996,       0.997,       0.998,       0.999,           1]), array([[          1,           1,           1,           1,           1,           1,           1,           1,           1,           1,           1,           1,           1,           1,           1,           1,           1,           1,           1,           1,           1,           1,           1,\n",
              "                  1,           1,           1,           1,           1,           1,           1,           1,           1,           1,           1,           1,           1,           1,           1,           1,           1,           1,           1,           1,           1,           1,           1,\n",
              "                  1,           1,           1,           1,           1,           1,           1,           1,           1,           1,           1,           1,           1,           1,           1,           1,           1,           1,           1,           1,           1,           1,           1,\n",
              "                  1,           1,           1,           1,           1,           1,           1,           1,           1,           1,           1,           1,           1,           1,           1,           1,           1,           1,           1,           1,           1,           1,           1,\n",
              "                  1,           1,           1,           1,           1,           1,           1,           1,           1,           1,           1,           1,           1,           1,           1,           1,           1,           1,           1,           1,           1,           1,           1,\n",
              "                  1,           1,           1,           1,           1,           1,           1,           1,           1,           1,           1,           1,           1,           1,           1,           1,           1,           1,           1,           1,           1,           1,           1,\n",
              "                  1,           1,           1,           1,           1,           1,           1,           1,           1,           1,           1,           1,           1,           1,           1,           1,           1,           1,           1,           1,           1,           1,           1,\n",
              "                  1,           1,           1,           1,           1,           1,           1,           1,           1,           1,           1,           1,           1,           1,           1,           1,           1,           1,           1,           1,           1,           1,           1,\n",
              "                  1,           1,           1,           1,           1,           1,           1,           1,           1,           1,           1,           1,           1,           1,           1,           1,           1,           1,           1,           1,           1,           1,           1,\n",
              "                  1,           1,           1,           1,           1,           1,           1,           1,           1,           1,           1,           1,           1,           1,           1,           1,           1,           1,           1,           1,           1,           1,           1,\n",
              "                  1,           1,           1,           1,           1,           1,           1,           1,           1,           1,           1,           1,           1,           1,           1,           1,           1,           1,           1,           1,           1,           1,           1,\n",
              "                  1,           1,           1,           1,           1,           1,           1,           1,           1,           1,           1,           1,           1,           1,           1,           1,           1,           1,           1,           1,           1,           1,           1,\n",
              "                  1,           1,           1,           1,           1,           1,           1,           1,           1,           1,           1,           1,           1,           1,           1,           1,           1,           1,           1,           1,           1,           1,           1,\n",
              "                  1,           1,           1,           1,           1,           1,           1,           1,           1,           1,           1,           1,           1,           1,           1,           1,           1,           1,           1,           1,           1,           1,           1,\n",
              "                  1,           1,           1,           1,           1,           1,           1,           1,           1,           1,           1,           1,           1,           1,           1,           1,           1,           1,           1,           1,           1,           1,           1,\n",
              "                  1,           1,           1,           1,           1,           1,           1,           1,           1,           1,           1,           1,           1,           1,           1,           1,           1,           1,           1,           1,           1,           1,           1,\n",
              "                  1,           1,           1,           1,           1,           1,           1,           1,           1,           1,           1,           1,           1,           1,           1,           1,           1,           1,           1,           1,     0.99432,     0.99432,     0.99432,\n",
              "            0.99432,     0.99432,     0.99432,     0.99432,     0.99074,     0.99074,     0.99074,     0.99074,     0.99074,     0.99074,     0.99074,     0.99074,     0.99074,     0.99074,     0.99074,     0.99074,     0.99074,     0.99074,     0.99074,     0.99074,     0.99074,     0.99074,     0.99074,\n",
              "            0.99074,     0.99074,     0.99074,     0.99074,     0.99074,     0.99074,     0.99074,     0.99074,     0.99074,     0.99074,     0.99074,     0.99074,     0.99074,     0.99074,     0.99074,     0.99074,     0.99074,     0.99074,     0.99074,     0.99074,     0.99074,     0.99074,     0.99074,\n",
              "            0.99074,     0.99074,     0.99074,     0.99074,     0.99074,     0.99074,     0.99074,     0.99074,     0.99074,     0.99074,     0.99074,     0.99074,     0.99074,     0.99074,     0.99074,     0.99074,     0.99074,     0.99074,     0.99074,     0.99074,     0.99074,     0.99074,     0.99074,\n",
              "            0.99074,     0.99074,     0.99074,     0.99074,     0.99074,     0.99074,     0.99074,     0.99074,     0.99074,     0.99074,     0.99074,     0.99074,     0.99074,     0.99074,     0.99074,     0.99074,     0.99074,     0.99074,     0.99074,     0.99074,     0.99074,     0.99074,     0.99074,\n",
              "            0.98734,     0.98734,     0.98734,     0.98734,     0.98734,     0.98734,     0.98734,     0.98734,     0.98734,     0.98734,     0.98734,     0.98734,     0.98734,     0.98734,     0.98734,     0.98734,     0.98734,     0.98734,     0.98734,     0.98734,     0.98734,     0.98734,     0.98734,\n",
              "            0.98734,     0.98734,     0.98734,     0.98734,     0.98734,     0.98734,     0.98734,     0.98734,     0.98734,     0.98734,     0.98734,     0.98734,     0.98734,     0.98734,     0.98734,     0.98734,     0.98734,     0.98734,     0.98734,     0.98734,     0.98734,     0.98734,     0.98545,\n",
              "            0.98545,     0.98545,     0.98545,     0.98545,     0.98545,     0.98545,     0.98545,     0.98545,     0.98545,     0.98545,     0.98545,     0.98545,     0.98545,     0.98545,     0.98545,     0.98545,     0.98545,     0.98545,     0.98545,     0.98545,     0.98545,     0.98545,     0.98545,\n",
              "            0.98545,     0.98545,     0.98545,     0.98545,     0.98545,     0.98545,     0.98545,     0.98545,     0.98545,     0.98545,     0.98545,     0.98545,     0.98545,     0.98545,     0.98545,     0.98545,     0.98545,     0.98545,     0.98545,     0.98545,     0.98545,     0.98545,     0.98545,\n",
              "            0.98545,     0.98545,     0.98545,     0.98545,     0.98545,     0.98545,     0.98545,     0.98545,     0.98545,     0.98545,     0.98545,     0.98545,     0.98545,     0.98545,     0.98545,     0.98545,     0.98545,     0.98545,     0.98545,     0.98545,     0.98545,     0.98545,     0.98545,\n",
              "            0.98545,     0.98545,     0.98545,     0.98545,     0.98545,     0.98545,     0.98545,     0.98545,     0.98545,     0.98545,     0.98545,     0.98545,     0.98545,     0.98545,     0.98214,     0.98214,     0.98214,     0.98214,     0.98214,     0.98214,     0.98214,     0.98214,     0.98214,\n",
              "            0.97931,     0.97931,     0.97931,     0.97931,     0.97931,     0.97931,     0.97931,     0.97931,     0.97931,     0.97931,     0.97931,     0.97931,     0.97931,     0.97931,     0.97931,     0.97931,     0.97931,     0.97931,     0.97931,     0.97931,     0.97643,     0.97643,     0.97643,\n",
              "            0.97643,     0.97643,     0.97643,     0.97643,     0.97643,     0.97643,     0.97643,     0.97643,     0.97643,     0.97643,      0.9604,      0.9604,      0.9604,      0.9586,      0.9586,      0.9586,      0.9586,      0.9586,      0.9586,      0.9586,      0.9586,      0.9586,      0.9586,\n",
              "             0.9586,      0.9586,      0.9586,      0.9586,      0.9586,      0.9586,      0.9586,      0.9586,      0.9586,      0.9586,      0.9586,      0.9586,     0.95679,     0.95679,     0.95679,     0.95679,     0.95679,     0.95679,     0.95679,     0.95679,     0.95679,     0.95679,     0.95679,\n",
              "            0.95679,     0.95679,     0.95679,     0.95679,     0.95679,     0.95679,     0.95679,     0.95679,     0.95679,     0.95679,     0.95413,     0.95413,     0.95413,     0.95413,     0.95195,     0.95195,     0.95195,     0.95195,     0.95195,     0.95195,     0.95195,     0.95195,     0.95195,\n",
              "            0.95195,     0.95195,     0.94721,     0.94721,     0.94721,     0.94721,     0.94721,     0.94721,     0.94721,     0.94721,     0.94721,     0.94721,     0.94721,     0.94721,     0.94721,     0.94721,     0.94186,     0.94186,     0.93966,     0.93966,     0.93966,     0.93966,     0.93966,\n",
              "            0.93966,     0.93966,     0.93539,     0.93539,     0.93539,     0.93539,     0.93539,     0.93539,     0.93539,     0.93539,     0.93539,     0.93539,     0.93539,     0.93539,     0.93539,     0.93151,     0.93151,     0.93151,     0.93151,     0.93151,     0.93151,     0.93151,     0.93151,\n",
              "            0.93151,     0.93151,     0.93151,     0.93151,     0.93151,     0.93151,     0.93151,     0.93151,     0.92916,     0.92916,     0.92742,     0.92742,     0.92742,     0.92742,     0.92742,     0.92742,     0.92742,     0.92742,     0.92742,     0.92742,     0.92573,     0.92573,     0.92573,\n",
              "            0.92573,     0.92573,     0.92573,     0.92573,     0.92573,     0.92573,     0.92348,     0.92348,     0.91885,     0.91885,     0.91429,     0.91429,     0.91003,     0.91003,     0.91003,     0.91003,     0.91003,     0.90793,     0.90793,     0.90355,     0.90355,       0.895,       0.895,\n",
              "              0.895,       0.895,       0.895,     0.89136,     0.89136,     0.89136,     0.89136,     0.89136,     0.89136,     0.89136,     0.88537,     0.88537,     0.88537,     0.88537,      0.8835,      0.8835,      0.8777,      0.8777,      0.8777,      0.8777,      0.8777,     0.87264,     0.87264,\n",
              "            0.87264,     0.87264,     0.87264,     0.87264,     0.87264,     0.87264,     0.87264,     0.86682,     0.86682,     0.84807,     0.84807,     0.84807,     0.84807,     0.84807,     0.84807,     0.84807,      0.8465,      0.8465,     0.84116,     0.84116,     0.83778,     0.83778,     0.83778,\n",
              "            0.82533,     0.82533,     0.80638,     0.80638,     0.79498,     0.79498,     0.79375,     0.79375,     0.79375,     0.78926,     0.78926,     0.78807,     0.78807,     0.78049,     0.78049,        0.77,        0.77,        0.77,     0.73435,     0.73435,     0.73435,     0.73435,     0.72795,\n",
              "            0.72795,     0.71904,     0.71904,     0.71904,     0.71038,     0.71038,     0.69946,     0.69946,     0.69751,     0.69751,     0.69558,     0.69558,     0.69558,     0.69489,     0.69489,     0.68458,     0.68458,     0.67692,     0.67692,     0.67692,     0.67395,     0.67395,     0.67395,\n",
              "            0.67395,     0.67395,     0.67395,     0.67395,     0.67395,     0.67395,     0.67395,     0.67395,     0.66667,     0.66667,        0.65,        0.65,     0.63027,     0.63027,     0.63027,     0.61738,     0.61738,     0.55846,     0.55846,     0.54339,     0.54339,     0.47497,     0.47497,\n",
              "            0.47497,     0.46904,     0.46904,     0.46433,     0.46433,     0.46388,     0.46388,     0.46188,     0.46188,     0.46188,     0.46042,     0.46042,     0.41566,     0.41566,     0.40174,     0.40174,     0.39431,     0.39431,     0.39431,     0.36675,     0.36675,     0.36285,     0.36285,\n",
              "            0.29865,     0.29865,     0.22989,     0.22989,     0.22989,     0.21113,     0.21113,     0.20087,     0.19677,     0.19267,     0.18858,     0.18448,     0.18038,     0.17628,     0.17218,     0.16808,     0.16398,     0.15988,     0.15578,     0.15168,     0.14758,     0.14348,     0.13938,\n",
              "            0.13528,     0.13118,     0.12708,     0.12298,     0.11888,     0.11479,     0.11069,     0.10659,     0.10249,    0.098387,    0.094288,    0.090188,    0.086089,    0.081989,     0.07789,     0.07379,    0.069691,    0.065591,    0.061492,    0.057393,    0.053293,    0.049194,    0.045094,\n",
              "           0.040995,    0.036895,    0.032796,    0.028696,    0.024597,    0.020497,    0.016398,    0.012298,   0.0081989,   0.0040995,           0]]), 'Recall', 'Precision'], [array([          0,    0.001001,    0.002002,    0.003003,    0.004004,    0.005005,    0.006006,    0.007007,    0.008008,    0.009009,     0.01001,    0.011011,    0.012012,    0.013013,    0.014014,    0.015015,    0.016016,    0.017017,    0.018018,    0.019019,     0.02002,    0.021021,    0.022022,    0.023023,\n",
              "          0.024024,    0.025025,    0.026026,    0.027027,    0.028028,    0.029029,     0.03003,    0.031031,    0.032032,    0.033033,    0.034034,    0.035035,    0.036036,    0.037037,    0.038038,    0.039039,     0.04004,    0.041041,    0.042042,    0.043043,    0.044044,    0.045045,    0.046046,    0.047047,\n",
              "          0.048048,    0.049049,     0.05005,    0.051051,    0.052052,    0.053053,    0.054054,    0.055055,    0.056056,    0.057057,    0.058058,    0.059059,     0.06006,    0.061061,    0.062062,    0.063063,    0.064064,    0.065065,    0.066066,    0.067067,    0.068068,    0.069069,     0.07007,    0.071071,\n",
              "          0.072072,    0.073073,    0.074074,    0.075075,    0.076076,    0.077077,    0.078078,    0.079079,     0.08008,    0.081081,    0.082082,    0.083083,    0.084084,    0.085085,    0.086086,    0.087087,    0.088088,    0.089089,     0.09009,    0.091091,    0.092092,    0.093093,    0.094094,    0.095095,\n",
              "          0.096096,    0.097097,    0.098098,    0.099099,      0.1001,      0.1011,      0.1021,      0.1031,      0.1041,     0.10511,     0.10611,     0.10711,     0.10811,     0.10911,     0.11011,     0.11111,     0.11211,     0.11311,     0.11411,     0.11512,     0.11612,     0.11712,     0.11812,     0.11912,\n",
              "           0.12012,     0.12112,     0.12212,     0.12312,     0.12412,     0.12513,     0.12613,     0.12713,     0.12813,     0.12913,     0.13013,     0.13113,     0.13213,     0.13313,     0.13413,     0.13514,     0.13614,     0.13714,     0.13814,     0.13914,     0.14014,     0.14114,     0.14214,     0.14314,\n",
              "           0.14414,     0.14515,     0.14615,     0.14715,     0.14815,     0.14915,     0.15015,     0.15115,     0.15215,     0.15315,     0.15415,     0.15516,     0.15616,     0.15716,     0.15816,     0.15916,     0.16016,     0.16116,     0.16216,     0.16316,     0.16416,     0.16517,     0.16617,     0.16717,\n",
              "           0.16817,     0.16917,     0.17017,     0.17117,     0.17217,     0.17317,     0.17417,     0.17518,     0.17618,     0.17718,     0.17818,     0.17918,     0.18018,     0.18118,     0.18218,     0.18318,     0.18418,     0.18519,     0.18619,     0.18719,     0.18819,     0.18919,     0.19019,     0.19119,\n",
              "           0.19219,     0.19319,     0.19419,      0.1952,      0.1962,      0.1972,      0.1982,      0.1992,      0.2002,      0.2012,      0.2022,      0.2032,      0.2042,     0.20521,     0.20621,     0.20721,     0.20821,     0.20921,     0.21021,     0.21121,     0.21221,     0.21321,     0.21421,     0.21522,\n",
              "           0.21622,     0.21722,     0.21822,     0.21922,     0.22022,     0.22122,     0.22222,     0.22322,     0.22422,     0.22523,     0.22623,     0.22723,     0.22823,     0.22923,     0.23023,     0.23123,     0.23223,     0.23323,     0.23423,     0.23524,     0.23624,     0.23724,     0.23824,     0.23924,\n",
              "           0.24024,     0.24124,     0.24224,     0.24324,     0.24424,     0.24525,     0.24625,     0.24725,     0.24825,     0.24925,     0.25025,     0.25125,     0.25225,     0.25325,     0.25425,     0.25526,     0.25626,     0.25726,     0.25826,     0.25926,     0.26026,     0.26126,     0.26226,     0.26326,\n",
              "           0.26426,     0.26527,     0.26627,     0.26727,     0.26827,     0.26927,     0.27027,     0.27127,     0.27227,     0.27327,     0.27427,     0.27528,     0.27628,     0.27728,     0.27828,     0.27928,     0.28028,     0.28128,     0.28228,     0.28328,     0.28428,     0.28529,     0.28629,     0.28729,\n",
              "           0.28829,     0.28929,     0.29029,     0.29129,     0.29229,     0.29329,     0.29429,      0.2953,      0.2963,      0.2973,      0.2983,      0.2993,      0.3003,      0.3013,      0.3023,      0.3033,      0.3043,     0.30531,     0.30631,     0.30731,     0.30831,     0.30931,     0.31031,     0.31131,\n",
              "           0.31231,     0.31331,     0.31431,     0.31532,     0.31632,     0.31732,     0.31832,     0.31932,     0.32032,     0.32132,     0.32232,     0.32332,     0.32432,     0.32533,     0.32633,     0.32733,     0.32833,     0.32933,     0.33033,     0.33133,     0.33233,     0.33333,     0.33433,     0.33534,\n",
              "           0.33634,     0.33734,     0.33834,     0.33934,     0.34034,     0.34134,     0.34234,     0.34334,     0.34434,     0.34535,     0.34635,     0.34735,     0.34835,     0.34935,     0.35035,     0.35135,     0.35235,     0.35335,     0.35435,     0.35536,     0.35636,     0.35736,     0.35836,     0.35936,\n",
              "           0.36036,     0.36136,     0.36236,     0.36336,     0.36436,     0.36537,     0.36637,     0.36737,     0.36837,     0.36937,     0.37037,     0.37137,     0.37237,     0.37337,     0.37437,     0.37538,     0.37638,     0.37738,     0.37838,     0.37938,     0.38038,     0.38138,     0.38238,     0.38338,\n",
              "           0.38438,     0.38539,     0.38639,     0.38739,     0.38839,     0.38939,     0.39039,     0.39139,     0.39239,     0.39339,     0.39439,      0.3954,      0.3964,      0.3974,      0.3984,      0.3994,      0.4004,      0.4014,      0.4024,      0.4034,      0.4044,     0.40541,     0.40641,     0.40741,\n",
              "           0.40841,     0.40941,     0.41041,     0.41141,     0.41241,     0.41341,     0.41441,     0.41542,     0.41642,     0.41742,     0.41842,     0.41942,     0.42042,     0.42142,     0.42242,     0.42342,     0.42442,     0.42543,     0.42643,     0.42743,     0.42843,     0.42943,     0.43043,     0.43143,\n",
              "           0.43243,     0.43343,     0.43443,     0.43544,     0.43644,     0.43744,     0.43844,     0.43944,     0.44044,     0.44144,     0.44244,     0.44344,     0.44444,     0.44545,     0.44645,     0.44745,     0.44845,     0.44945,     0.45045,     0.45145,     0.45245,     0.45345,     0.45445,     0.45546,\n",
              "           0.45646,     0.45746,     0.45846,     0.45946,     0.46046,     0.46146,     0.46246,     0.46346,     0.46446,     0.46547,     0.46647,     0.46747,     0.46847,     0.46947,     0.47047,     0.47147,     0.47247,     0.47347,     0.47447,     0.47548,     0.47648,     0.47748,     0.47848,     0.47948,\n",
              "           0.48048,     0.48148,     0.48248,     0.48348,     0.48448,     0.48549,     0.48649,     0.48749,     0.48849,     0.48949,     0.49049,     0.49149,     0.49249,     0.49349,     0.49449,      0.4955,      0.4965,      0.4975,      0.4985,      0.4995,      0.5005,      0.5015,      0.5025,      0.5035,\n",
              "            0.5045,     0.50551,     0.50651,     0.50751,     0.50851,     0.50951,     0.51051,     0.51151,     0.51251,     0.51351,     0.51451,     0.51552,     0.51652,     0.51752,     0.51852,     0.51952,     0.52052,     0.52152,     0.52252,     0.52352,     0.52452,     0.52553,     0.52653,     0.52753,\n",
              "           0.52853,     0.52953,     0.53053,     0.53153,     0.53253,     0.53353,     0.53453,     0.53554,     0.53654,     0.53754,     0.53854,     0.53954,     0.54054,     0.54154,     0.54254,     0.54354,     0.54454,     0.54555,     0.54655,     0.54755,     0.54855,     0.54955,     0.55055,     0.55155,\n",
              "           0.55255,     0.55355,     0.55455,     0.55556,     0.55656,     0.55756,     0.55856,     0.55956,     0.56056,     0.56156,     0.56256,     0.56356,     0.56456,     0.56557,     0.56657,     0.56757,     0.56857,     0.56957,     0.57057,     0.57157,     0.57257,     0.57357,     0.57457,     0.57558,\n",
              "           0.57658,     0.57758,     0.57858,     0.57958,     0.58058,     0.58158,     0.58258,     0.58358,     0.58458,     0.58559,     0.58659,     0.58759,     0.58859,     0.58959,     0.59059,     0.59159,     0.59259,     0.59359,     0.59459,      0.5956,      0.5966,      0.5976,      0.5986,      0.5996,\n",
              "            0.6006,      0.6016,      0.6026,      0.6036,      0.6046,     0.60561,     0.60661,     0.60761,     0.60861,     0.60961,     0.61061,     0.61161,     0.61261,     0.61361,     0.61461,     0.61562,     0.61662,     0.61762,     0.61862,     0.61962,     0.62062,     0.62162,     0.62262,     0.62362,\n",
              "           0.62462,     0.62563,     0.62663,     0.62763,     0.62863,     0.62963,     0.63063,     0.63163,     0.63263,     0.63363,     0.63463,     0.63564,     0.63664,     0.63764,     0.63864,     0.63964,     0.64064,     0.64164,     0.64264,     0.64364,     0.64464,     0.64565,     0.64665,     0.64765,\n",
              "           0.64865,     0.64965,     0.65065,     0.65165,     0.65265,     0.65365,     0.65465,     0.65566,     0.65666,     0.65766,     0.65866,     0.65966,     0.66066,     0.66166,     0.66266,     0.66366,     0.66466,     0.66567,     0.66667,     0.66767,     0.66867,     0.66967,     0.67067,     0.67167,\n",
              "           0.67267,     0.67367,     0.67467,     0.67568,     0.67668,     0.67768,     0.67868,     0.67968,     0.68068,     0.68168,     0.68268,     0.68368,     0.68468,     0.68569,     0.68669,     0.68769,     0.68869,     0.68969,     0.69069,     0.69169,     0.69269,     0.69369,     0.69469,      0.6957,\n",
              "            0.6967,      0.6977,      0.6987,      0.6997,      0.7007,      0.7017,      0.7027,      0.7037,      0.7047,     0.70571,     0.70671,     0.70771,     0.70871,     0.70971,     0.71071,     0.71171,     0.71271,     0.71371,     0.71471,     0.71572,     0.71672,     0.71772,     0.71872,     0.71972,\n",
              "           0.72072,     0.72172,     0.72272,     0.72372,     0.72472,     0.72573,     0.72673,     0.72773,     0.72873,     0.72973,     0.73073,     0.73173,     0.73273,     0.73373,     0.73473,     0.73574,     0.73674,     0.73774,     0.73874,     0.73974,     0.74074,     0.74174,     0.74274,     0.74374,\n",
              "           0.74474,     0.74575,     0.74675,     0.74775,     0.74875,     0.74975,     0.75075,     0.75175,     0.75275,     0.75375,     0.75475,     0.75576,     0.75676,     0.75776,     0.75876,     0.75976,     0.76076,     0.76176,     0.76276,     0.76376,     0.76476,     0.76577,     0.76677,     0.76777,\n",
              "           0.76877,     0.76977,     0.77077,     0.77177,     0.77277,     0.77377,     0.77477,     0.77578,     0.77678,     0.77778,     0.77878,     0.77978,     0.78078,     0.78178,     0.78278,     0.78378,     0.78478,     0.78579,     0.78679,     0.78779,     0.78879,     0.78979,     0.79079,     0.79179,\n",
              "           0.79279,     0.79379,     0.79479,      0.7958,      0.7968,      0.7978,      0.7988,      0.7998,      0.8008,      0.8018,      0.8028,      0.8038,      0.8048,     0.80581,     0.80681,     0.80781,     0.80881,     0.80981,     0.81081,     0.81181,     0.81281,     0.81381,     0.81481,     0.81582,\n",
              "           0.81682,     0.81782,     0.81882,     0.81982,     0.82082,     0.82182,     0.82282,     0.82382,     0.82482,     0.82583,     0.82683,     0.82783,     0.82883,     0.82983,     0.83083,     0.83183,     0.83283,     0.83383,     0.83483,     0.83584,     0.83684,     0.83784,     0.83884,     0.83984,\n",
              "           0.84084,     0.84184,     0.84284,     0.84384,     0.84484,     0.84585,     0.84685,     0.84785,     0.84885,     0.84985,     0.85085,     0.85185,     0.85285,     0.85385,     0.85485,     0.85586,     0.85686,     0.85786,     0.85886,     0.85986,     0.86086,     0.86186,     0.86286,     0.86386,\n",
              "           0.86486,     0.86587,     0.86687,     0.86787,     0.86887,     0.86987,     0.87087,     0.87187,     0.87287,     0.87387,     0.87487,     0.87588,     0.87688,     0.87788,     0.87888,     0.87988,     0.88088,     0.88188,     0.88288,     0.88388,     0.88488,     0.88589,     0.88689,     0.88789,\n",
              "           0.88889,     0.88989,     0.89089,     0.89189,     0.89289,     0.89389,     0.89489,      0.8959,      0.8969,      0.8979,      0.8989,      0.8999,      0.9009,      0.9019,      0.9029,      0.9039,      0.9049,     0.90591,     0.90691,     0.90791,     0.90891,     0.90991,     0.91091,     0.91191,\n",
              "           0.91291,     0.91391,     0.91491,     0.91592,     0.91692,     0.91792,     0.91892,     0.91992,     0.92092,     0.92192,     0.92292,     0.92392,     0.92492,     0.92593,     0.92693,     0.92793,     0.92893,     0.92993,     0.93093,     0.93193,     0.93293,     0.93393,     0.93493,     0.93594,\n",
              "           0.93694,     0.93794,     0.93894,     0.93994,     0.94094,     0.94194,     0.94294,     0.94394,     0.94494,     0.94595,     0.94695,     0.94795,     0.94895,     0.94995,     0.95095,     0.95195,     0.95295,     0.95395,     0.95495,     0.95596,     0.95696,     0.95796,     0.95896,     0.95996,\n",
              "           0.96096,     0.96196,     0.96296,     0.96396,     0.96496,     0.96597,     0.96697,     0.96797,     0.96897,     0.96997,     0.97097,     0.97197,     0.97297,     0.97397,     0.97497,     0.97598,     0.97698,     0.97798,     0.97898,     0.97998,     0.98098,     0.98198,     0.98298,     0.98398,\n",
              "           0.98498,     0.98599,     0.98699,     0.98799,     0.98899,     0.98999,     0.99099,     0.99199,     0.99299,     0.99399,     0.99499,       0.996,       0.997,       0.998,       0.999,           1]), array([[    0.33506,     0.33506,     0.40658,     0.45432,     0.48602,     0.51169,      0.5286,     0.54603,     0.55833,     0.56734,     0.57722,     0.58447,     0.59362,     0.60407,     0.61085,     0.61758,     0.61874,     0.62605,     0.63048,     0.63601,      0.6445,     0.64755,     0.65079,\n",
              "            0.65453,     0.65931,     0.66229,     0.66841,     0.67362,     0.67625,     0.68056,     0.68329,     0.68557,     0.68894,     0.69191,     0.69383,     0.69614,     0.70154,     0.70307,     0.70599,     0.71011,     0.71224,     0.71386,     0.71633,     0.71813,     0.72077,     0.72204,\n",
              "            0.72455,     0.72724,     0.72879,     0.73205,     0.73363,     0.73516,     0.73677,     0.73634,     0.73591,     0.73691,     0.73793,     0.73957,      0.7424,     0.74342,     0.74373,     0.74429,     0.74509,     0.74474,     0.74659,     0.74751,     0.74947,     0.75098,     0.75201,\n",
              "            0.75229,     0.75327,     0.75413,     0.75626,     0.75727,     0.75776,     0.75802,     0.75792,     0.75741,     0.75851,     0.76013,     0.76137,     0.76389,     0.76612,     0.76722,     0.76786,      0.7682,     0.77015,     0.77175,     0.76962,     0.76678,     0.76707,     0.76736,\n",
              "            0.76914,     0.76987,     0.77039,      0.7702,     0.77179,     0.77267,     0.77338,     0.77423,     0.77353,      0.7739,     0.77595,     0.77692,     0.77749,     0.77886,     0.77958,     0.78005,     0.77962,     0.77857,      0.7801,     0.77957,     0.77905,     0.77961,     0.77928,\n",
              "            0.77967,     0.78005,     0.78037,     0.78069,     0.78108,     0.78151,     0.78299,     0.78434,       0.785,     0.78546,     0.78607,     0.78618,     0.78691,     0.78724,     0.78756,     0.78789,     0.78822,     0.78907,     0.78951,      0.7899,     0.79111,     0.79133,     0.79155,\n",
              "            0.79177,     0.79385,     0.79501,     0.79472,     0.79443,     0.79414,     0.79385,     0.79487,     0.79529,     0.79578,     0.79643,     0.79745,     0.79762,     0.79653,     0.79693,     0.79734,     0.79776,     0.80129,     0.80165,     0.80201,     0.80452,     0.80625,     0.80654,\n",
              "            0.80681,     0.80708,     0.80821,     0.80985,     0.81059,     0.81113,      0.8118,     0.81233,     0.81255,     0.81277,     0.81299,     0.81337,     0.81387,      0.8149,     0.81516,     0.81541,     0.81566,     0.81631,     0.81557,     0.81544,      0.8157,     0.81595,     0.81644,\n",
              "            0.81786,     0.81813,     0.81838,     0.81863,     0.81908,     0.81982,     0.82095,     0.82059,     0.82105,     0.82117,      0.8213,     0.82143,     0.82156,     0.82169,     0.82182,     0.82211,      0.8226,     0.82324,     0.82369,     0.82379,     0.82388,     0.82397,     0.82406,\n",
              "            0.82415,     0.82425,     0.82434,     0.82443,     0.82452,     0.82424,     0.82386,     0.82347,     0.82403,     0.82348,     0.82293,     0.82314,      0.8234,     0.82366,     0.82476,     0.82493,     0.82509,     0.82526,     0.82543,     0.82546,     0.82471,     0.82446,     0.82483,\n",
              "            0.82519,     0.82502,     0.82486,     0.82469,     0.82452,     0.82436,     0.82419,     0.82403,     0.82397,     0.82415,     0.82433,     0.82451,     0.82469,     0.82579,     0.82603,     0.82628,     0.82653,     0.82673,      0.8269,     0.82708,     0.82725,     0.82743,     0.82966,\n",
              "            0.83009,     0.82906,     0.82937,     0.82968,     0.82999,      0.8303,     0.83061,     0.83091,      0.8312,     0.83149,     0.83209,     0.83292,     0.83346,     0.83469,     0.83532,     0.83549,     0.83563,     0.83577,     0.83591,     0.83605,     0.83619,     0.83635,     0.83653,\n",
              "            0.83671,     0.83689,     0.83707,     0.83843,     0.83901,     0.83888,     0.83876,     0.83864,     0.83852,     0.83839,     0.83827,     0.83815,     0.83802,      0.8379,     0.83778,     0.83807,     0.83837,     0.83866,     0.83887,     0.83906,     0.83925,     0.83944,     0.83964,\n",
              "            0.84001,      0.8404,     0.84078,     0.84116,     0.84162,      0.8428,     0.84349,     0.84371,     0.84394,     0.84417,     0.84431,     0.84417,     0.84403,     0.84389,     0.84375,     0.84361,     0.84347,     0.84333,     0.84319,     0.84306,     0.84412,     0.84468,     0.84425,\n",
              "            0.84395,      0.8445,     0.84506,     0.84562,     0.84618,     0.84622,     0.84555,      0.8454,     0.84584,     0.84605,     0.84567,     0.84528,      0.8449,     0.84323,     0.84287,     0.84251,     0.84249,     0.84325,      0.8434,     0.84356,     0.84371,     0.84386,     0.84401,\n",
              "            0.84417,     0.84435,     0.84454,     0.84473,     0.84492,     0.84607,     0.84633,      0.8466,     0.84686,     0.84712,     0.84739,     0.84765,     0.84792,     0.84917,     0.84945,     0.84974,     0.84999,     0.85014,     0.85029,     0.85045,      0.8506,     0.85075,     0.85091,\n",
              "            0.85101,     0.85111,      0.8512,      0.8513,      0.8514,      0.8515,      0.8516,     0.85169,     0.85179,     0.85189,     0.85126,     0.85058,     0.85254,     0.85272,      0.8529,     0.85309,     0.85327,     0.85345,     0.85333,     0.85305,     0.85276,     0.85248,     0.85219,\n",
              "            0.85151,     0.85083,     0.85015,     0.84952,     0.84939,     0.84925,     0.84911,     0.84898,     0.84884,      0.8487,     0.84857,     0.84843,     0.84829,     0.84891,     0.85041,     0.85068,     0.85095,     0.85107,     0.85061,     0.85016,     0.84863,     0.84913,     0.84955,\n",
              "            0.84976,     0.84997,     0.85019,      0.8504,     0.85117,     0.85133,     0.85116,     0.85098,      0.8508,     0.85062,     0.85045,     0.85027,     0.85028,     0.85106,     0.85079,     0.85051,     0.85023,     0.84996,     0.84843,     0.84847,     0.84852,     0.84856,     0.84861,\n",
              "            0.84865,      0.8487,     0.84874,     0.84879,     0.84883,     0.84888,     0.84892,     0.84897,     0.84901,     0.84906,      0.8491,     0.84915,     0.84919,     0.84924,     0.84928,     0.84933,     0.84937,     0.84956,      0.8508,     0.85123,     0.85077,      0.8503,     0.84867,\n",
              "            0.84861,     0.84854,     0.84848,     0.84842,     0.84835,     0.84829,     0.84823,     0.84816,      0.8481,     0.84804,     0.84797,     0.84791,     0.84784,     0.84778,     0.84772,     0.84765,     0.84759,     0.84753,     0.84746,      0.8474,     0.84734,     0.84749,     0.84763,\n",
              "            0.84778,     0.84793,     0.84807,     0.84822,     0.84853,     0.84796,     0.84784,     0.84772,     0.84761,     0.84749,     0.84737,     0.84726,     0.84714,     0.84702,      0.8469,     0.84679,     0.84667,     0.84666,     0.84675,     0.84685,     0.84694,     0.84703,     0.84713,\n",
              "            0.84722,     0.84732,     0.84741,      0.8475,      0.8476,     0.84782,     0.84808,     0.84834,     0.84859,     0.84908,      0.8496,     0.84996,     0.85031,     0.85065,     0.84996,     0.84929,      0.8495,     0.84971,     0.84992,     0.85012,     0.85038,     0.85091,     0.85117,\n",
              "            0.85047,     0.85021,     0.85056,     0.84936,     0.84865,     0.84832,     0.84867,     0.84902,     0.84937,     0.84972,     0.85007,     0.84898,     0.84925,     0.84951,     0.84977,     0.85051,     0.85002,      0.8502,     0.85069,      0.8509,     0.85111,     0.85133,     0.85154,\n",
              "            0.85101,      0.8503,     0.85108,     0.85086,     0.85045,     0.85004,     0.84825,     0.84789,     0.84753,     0.84716,      0.8469,     0.84672,     0.84654,     0.84636,     0.84618,       0.846,     0.84582,     0.84563,     0.84565,     0.84574,     0.84583,     0.84592,     0.84601,\n",
              "             0.8461,     0.84619,     0.84628,     0.84636,     0.84645,     0.84654,     0.84651,     0.84505,     0.84476,     0.84447,     0.84418,     0.84388,      0.8433,     0.84257,     0.84215,     0.84186,     0.84157,     0.84128,     0.84098,     0.84114,     0.84137,     0.84161,     0.84185,\n",
              "            0.84188,     0.84167,     0.84146,     0.84125,     0.84104,     0.84083,     0.84062,     0.84081,     0.84124,     0.84131,     0.84009,     0.83979,      0.8395,      0.8392,     0.83891,     0.83855,     0.83805,     0.83756,     0.83462,     0.83155,     0.83351,     0.83332,     0.83309,\n",
              "            0.83286,     0.83263,      0.8324,     0.83217,     0.83114,     0.83029,     0.82979,     0.82929,     0.82658,     0.82506,     0.82594,     0.82618,     0.82642,     0.82665,     0.82651,     0.82575,       0.824,     0.82244,     0.82255,     0.82267,     0.82278,     0.82289,     0.82301,\n",
              "            0.82312,     0.82323,     0.82334,     0.82209,      0.8224,      0.8227,     0.82321,     0.82226,     0.82149,     0.82082,     0.82038,     0.81994,      0.8195,     0.81928,     0.81909,      0.8189,      0.8187,     0.81851,     0.81831,     0.81812,     0.81792,      0.8177,     0.81748,\n",
              "            0.81726,     0.81704,     0.81681,     0.81659,     0.81621,     0.81543,     0.81505,     0.81548,     0.81591,     0.81528,     0.81506,     0.81484,     0.81461,     0.81439,     0.81416,     0.81391,     0.81328,     0.81265,     0.81068,     0.81037,     0.81005,     0.80973,     0.80942,\n",
              "            0.80974,     0.81028,     0.81003,     0.80958,     0.80912,     0.80844,     0.80738,     0.80464,       0.804,     0.80289,     0.80052,      0.8002,     0.79987,     0.79955,     0.79923,     0.79714,     0.79431,     0.79503,      0.7941,     0.79086,     0.79014,     0.78973,     0.78932,\n",
              "            0.78891,     0.78745,     0.78627,     0.78427,     0.78194,     0.78146,     0.78098,     0.78041,     0.77974,     0.77994,     0.77988,     0.78042,     0.78283,     0.78355,     0.78264,     0.78184,     0.78142,       0.781,     0.78057,     0.77793,     0.77528,      0.7746,     0.77391,\n",
              "            0.77466,     0.77409,     0.77352,      0.7724,     0.76943,     0.76856,       0.766,     0.76513,     0.76444,     0.76386,     0.76327,     0.76275,     0.76225,     0.76175,     0.76092,     0.75974,     0.75998,     0.76022,     0.76046,     0.76069,     0.75876,     0.75817,     0.75759,\n",
              "            0.75385,     0.75307,     0.75076,     0.74953,     0.74757,     0.74225,     0.74165,     0.74104,     0.73723,     0.73695,     0.73667,     0.73639,     0.73611,     0.73583,     0.73554,     0.73446,     0.73229,     0.73026,      0.7266,     0.72473,     0.71859,     0.71734,     0.71608,\n",
              "            0.71358,     0.71232,     0.70951,     0.70729,     0.70183,     0.69927,     0.69405,     0.68772,     0.68615,     0.68559,     0.68502,     0.68445,     0.67816,     0.67715,     0.67573,     0.67371,     0.67076,       0.668,     0.66463,     0.66258,     0.65855,     0.65717,     0.65537,\n",
              "            0.65198,     0.64306,     0.64164,     0.63823,     0.63644,     0.63558,     0.63472,     0.63386,       0.633,     0.62788,     0.62487,     0.61835,     0.61522,     0.61375,     0.60866,     0.60499,     0.60349,     0.59368,      0.5894,     0.58787,      0.5836,     0.57522,     0.57113,\n",
              "            0.56956,     0.56827,     0.56709,     0.56506,     0.55886,     0.55302,     0.54427,     0.53846,     0.53087,     0.52223,     0.51854,      0.5034,     0.49996,     0.49564,     0.49283,     0.47872,     0.46913,     0.45893,     0.45756,     0.45539,     0.44441,     0.44152,     0.43865,\n",
              "            0.42825,     0.42304,      0.4216,     0.41858,      0.4042,     0.40095,     0.39799,     0.39501,     0.38911,     0.38759,     0.38294,     0.37388,     0.37043,     0.36889,     0.36638,     0.36329,     0.36018,     0.35706,     0.34549,     0.33601,     0.32978,     0.32412,     0.31657,\n",
              "            0.30957,      0.3001,     0.29148,      0.2881,     0.28313,     0.27628,       0.266,     0.25574,     0.25197,     0.24694,     0.23828,     0.23589,     0.22678,     0.22279,     0.22035,     0.21791,      0.2087,     0.20685,     0.20548,     0.20424,     0.20299,      0.1889,     0.17537,\n",
              "            0.16829,      0.1657,     0.16184,     0.16052,     0.15922,     0.15745,     0.13846,     0.13646,     0.13358,     0.12947,     0.12745,     0.12494,     0.12091,      0.1158,     0.11276,     0.10827,     0.10184,    0.099058,    0.095042,    0.090834,    0.085158,    0.082326,    0.081067,\n",
              "           0.079849,    0.078629,    0.077135,    0.075422,    0.072881,    0.067898,    0.065319,    0.064236,    0.063152,    0.062066,    0.060883,    0.059431,    0.057978,    0.049761,    0.046579,    0.044369,    0.040155,    0.035701,    0.026959,    0.026423,    0.026113,    0.025802,    0.025491,\n",
              "            0.02518,    0.024868,    0.024557,    0.024246,    0.023934,    0.023622,    0.023311,    0.022999,    0.022687,    0.022375,    0.014798,     0.01302,    0.012513,    0.012005,    0.011497,    0.010988,     0.01048,   0.0099706,   0.0094614,   0.0089659,   0.0086496,   0.0083331,   0.0080166,\n",
              "          0.0076999,   0.0073832,   0.0070663,   0.0067494,   0.0064323,   0.0061152,   0.0057979,   0.0054806,   0.0051631,   0.0048456,   0.0045279,           0,           0,           0,           0,           0,           0,           0,           0,           0,           0,           0,           0,\n",
              "                  0,           0,           0,           0,           0,           0,           0,           0,           0,           0,           0]]), 'Confidence', 'F1'], [array([          0,    0.001001,    0.002002,    0.003003,    0.004004,    0.005005,    0.006006,    0.007007,    0.008008,    0.009009,     0.01001,    0.011011,    0.012012,    0.013013,    0.014014,    0.015015,    0.016016,    0.017017,    0.018018,    0.019019,     0.02002,    0.021021,    0.022022,    0.023023,\n",
              "          0.024024,    0.025025,    0.026026,    0.027027,    0.028028,    0.029029,     0.03003,    0.031031,    0.032032,    0.033033,    0.034034,    0.035035,    0.036036,    0.037037,    0.038038,    0.039039,     0.04004,    0.041041,    0.042042,    0.043043,    0.044044,    0.045045,    0.046046,    0.047047,\n",
              "          0.048048,    0.049049,     0.05005,    0.051051,    0.052052,    0.053053,    0.054054,    0.055055,    0.056056,    0.057057,    0.058058,    0.059059,     0.06006,    0.061061,    0.062062,    0.063063,    0.064064,    0.065065,    0.066066,    0.067067,    0.068068,    0.069069,     0.07007,    0.071071,\n",
              "          0.072072,    0.073073,    0.074074,    0.075075,    0.076076,    0.077077,    0.078078,    0.079079,     0.08008,    0.081081,    0.082082,    0.083083,    0.084084,    0.085085,    0.086086,    0.087087,    0.088088,    0.089089,     0.09009,    0.091091,    0.092092,    0.093093,    0.094094,    0.095095,\n",
              "          0.096096,    0.097097,    0.098098,    0.099099,      0.1001,      0.1011,      0.1021,      0.1031,      0.1041,     0.10511,     0.10611,     0.10711,     0.10811,     0.10911,     0.11011,     0.11111,     0.11211,     0.11311,     0.11411,     0.11512,     0.11612,     0.11712,     0.11812,     0.11912,\n",
              "           0.12012,     0.12112,     0.12212,     0.12312,     0.12412,     0.12513,     0.12613,     0.12713,     0.12813,     0.12913,     0.13013,     0.13113,     0.13213,     0.13313,     0.13413,     0.13514,     0.13614,     0.13714,     0.13814,     0.13914,     0.14014,     0.14114,     0.14214,     0.14314,\n",
              "           0.14414,     0.14515,     0.14615,     0.14715,     0.14815,     0.14915,     0.15015,     0.15115,     0.15215,     0.15315,     0.15415,     0.15516,     0.15616,     0.15716,     0.15816,     0.15916,     0.16016,     0.16116,     0.16216,     0.16316,     0.16416,     0.16517,     0.16617,     0.16717,\n",
              "           0.16817,     0.16917,     0.17017,     0.17117,     0.17217,     0.17317,     0.17417,     0.17518,     0.17618,     0.17718,     0.17818,     0.17918,     0.18018,     0.18118,     0.18218,     0.18318,     0.18418,     0.18519,     0.18619,     0.18719,     0.18819,     0.18919,     0.19019,     0.19119,\n",
              "           0.19219,     0.19319,     0.19419,      0.1952,      0.1962,      0.1972,      0.1982,      0.1992,      0.2002,      0.2012,      0.2022,      0.2032,      0.2042,     0.20521,     0.20621,     0.20721,     0.20821,     0.20921,     0.21021,     0.21121,     0.21221,     0.21321,     0.21421,     0.21522,\n",
              "           0.21622,     0.21722,     0.21822,     0.21922,     0.22022,     0.22122,     0.22222,     0.22322,     0.22422,     0.22523,     0.22623,     0.22723,     0.22823,     0.22923,     0.23023,     0.23123,     0.23223,     0.23323,     0.23423,     0.23524,     0.23624,     0.23724,     0.23824,     0.23924,\n",
              "           0.24024,     0.24124,     0.24224,     0.24324,     0.24424,     0.24525,     0.24625,     0.24725,     0.24825,     0.24925,     0.25025,     0.25125,     0.25225,     0.25325,     0.25425,     0.25526,     0.25626,     0.25726,     0.25826,     0.25926,     0.26026,     0.26126,     0.26226,     0.26326,\n",
              "           0.26426,     0.26527,     0.26627,     0.26727,     0.26827,     0.26927,     0.27027,     0.27127,     0.27227,     0.27327,     0.27427,     0.27528,     0.27628,     0.27728,     0.27828,     0.27928,     0.28028,     0.28128,     0.28228,     0.28328,     0.28428,     0.28529,     0.28629,     0.28729,\n",
              "           0.28829,     0.28929,     0.29029,     0.29129,     0.29229,     0.29329,     0.29429,      0.2953,      0.2963,      0.2973,      0.2983,      0.2993,      0.3003,      0.3013,      0.3023,      0.3033,      0.3043,     0.30531,     0.30631,     0.30731,     0.30831,     0.30931,     0.31031,     0.31131,\n",
              "           0.31231,     0.31331,     0.31431,     0.31532,     0.31632,     0.31732,     0.31832,     0.31932,     0.32032,     0.32132,     0.32232,     0.32332,     0.32432,     0.32533,     0.32633,     0.32733,     0.32833,     0.32933,     0.33033,     0.33133,     0.33233,     0.33333,     0.33433,     0.33534,\n",
              "           0.33634,     0.33734,     0.33834,     0.33934,     0.34034,     0.34134,     0.34234,     0.34334,     0.34434,     0.34535,     0.34635,     0.34735,     0.34835,     0.34935,     0.35035,     0.35135,     0.35235,     0.35335,     0.35435,     0.35536,     0.35636,     0.35736,     0.35836,     0.35936,\n",
              "           0.36036,     0.36136,     0.36236,     0.36336,     0.36436,     0.36537,     0.36637,     0.36737,     0.36837,     0.36937,     0.37037,     0.37137,     0.37237,     0.37337,     0.37437,     0.37538,     0.37638,     0.37738,     0.37838,     0.37938,     0.38038,     0.38138,     0.38238,     0.38338,\n",
              "           0.38438,     0.38539,     0.38639,     0.38739,     0.38839,     0.38939,     0.39039,     0.39139,     0.39239,     0.39339,     0.39439,      0.3954,      0.3964,      0.3974,      0.3984,      0.3994,      0.4004,      0.4014,      0.4024,      0.4034,      0.4044,     0.40541,     0.40641,     0.40741,\n",
              "           0.40841,     0.40941,     0.41041,     0.41141,     0.41241,     0.41341,     0.41441,     0.41542,     0.41642,     0.41742,     0.41842,     0.41942,     0.42042,     0.42142,     0.42242,     0.42342,     0.42442,     0.42543,     0.42643,     0.42743,     0.42843,     0.42943,     0.43043,     0.43143,\n",
              "           0.43243,     0.43343,     0.43443,     0.43544,     0.43644,     0.43744,     0.43844,     0.43944,     0.44044,     0.44144,     0.44244,     0.44344,     0.44444,     0.44545,     0.44645,     0.44745,     0.44845,     0.44945,     0.45045,     0.45145,     0.45245,     0.45345,     0.45445,     0.45546,\n",
              "           0.45646,     0.45746,     0.45846,     0.45946,     0.46046,     0.46146,     0.46246,     0.46346,     0.46446,     0.46547,     0.46647,     0.46747,     0.46847,     0.46947,     0.47047,     0.47147,     0.47247,     0.47347,     0.47447,     0.47548,     0.47648,     0.47748,     0.47848,     0.47948,\n",
              "           0.48048,     0.48148,     0.48248,     0.48348,     0.48448,     0.48549,     0.48649,     0.48749,     0.48849,     0.48949,     0.49049,     0.49149,     0.49249,     0.49349,     0.49449,      0.4955,      0.4965,      0.4975,      0.4985,      0.4995,      0.5005,      0.5015,      0.5025,      0.5035,\n",
              "            0.5045,     0.50551,     0.50651,     0.50751,     0.50851,     0.50951,     0.51051,     0.51151,     0.51251,     0.51351,     0.51451,     0.51552,     0.51652,     0.51752,     0.51852,     0.51952,     0.52052,     0.52152,     0.52252,     0.52352,     0.52452,     0.52553,     0.52653,     0.52753,\n",
              "           0.52853,     0.52953,     0.53053,     0.53153,     0.53253,     0.53353,     0.53453,     0.53554,     0.53654,     0.53754,     0.53854,     0.53954,     0.54054,     0.54154,     0.54254,     0.54354,     0.54454,     0.54555,     0.54655,     0.54755,     0.54855,     0.54955,     0.55055,     0.55155,\n",
              "           0.55255,     0.55355,     0.55455,     0.55556,     0.55656,     0.55756,     0.55856,     0.55956,     0.56056,     0.56156,     0.56256,     0.56356,     0.56456,     0.56557,     0.56657,     0.56757,     0.56857,     0.56957,     0.57057,     0.57157,     0.57257,     0.57357,     0.57457,     0.57558,\n",
              "           0.57658,     0.57758,     0.57858,     0.57958,     0.58058,     0.58158,     0.58258,     0.58358,     0.58458,     0.58559,     0.58659,     0.58759,     0.58859,     0.58959,     0.59059,     0.59159,     0.59259,     0.59359,     0.59459,      0.5956,      0.5966,      0.5976,      0.5986,      0.5996,\n",
              "            0.6006,      0.6016,      0.6026,      0.6036,      0.6046,     0.60561,     0.60661,     0.60761,     0.60861,     0.60961,     0.61061,     0.61161,     0.61261,     0.61361,     0.61461,     0.61562,     0.61662,     0.61762,     0.61862,     0.61962,     0.62062,     0.62162,     0.62262,     0.62362,\n",
              "           0.62462,     0.62563,     0.62663,     0.62763,     0.62863,     0.62963,     0.63063,     0.63163,     0.63263,     0.63363,     0.63463,     0.63564,     0.63664,     0.63764,     0.63864,     0.63964,     0.64064,     0.64164,     0.64264,     0.64364,     0.64464,     0.64565,     0.64665,     0.64765,\n",
              "           0.64865,     0.64965,     0.65065,     0.65165,     0.65265,     0.65365,     0.65465,     0.65566,     0.65666,     0.65766,     0.65866,     0.65966,     0.66066,     0.66166,     0.66266,     0.66366,     0.66466,     0.66567,     0.66667,     0.66767,     0.66867,     0.66967,     0.67067,     0.67167,\n",
              "           0.67267,     0.67367,     0.67467,     0.67568,     0.67668,     0.67768,     0.67868,     0.67968,     0.68068,     0.68168,     0.68268,     0.68368,     0.68468,     0.68569,     0.68669,     0.68769,     0.68869,     0.68969,     0.69069,     0.69169,     0.69269,     0.69369,     0.69469,      0.6957,\n",
              "            0.6967,      0.6977,      0.6987,      0.6997,      0.7007,      0.7017,      0.7027,      0.7037,      0.7047,     0.70571,     0.70671,     0.70771,     0.70871,     0.70971,     0.71071,     0.71171,     0.71271,     0.71371,     0.71471,     0.71572,     0.71672,     0.71772,     0.71872,     0.71972,\n",
              "           0.72072,     0.72172,     0.72272,     0.72372,     0.72472,     0.72573,     0.72673,     0.72773,     0.72873,     0.72973,     0.73073,     0.73173,     0.73273,     0.73373,     0.73473,     0.73574,     0.73674,     0.73774,     0.73874,     0.73974,     0.74074,     0.74174,     0.74274,     0.74374,\n",
              "           0.74474,     0.74575,     0.74675,     0.74775,     0.74875,     0.74975,     0.75075,     0.75175,     0.75275,     0.75375,     0.75475,     0.75576,     0.75676,     0.75776,     0.75876,     0.75976,     0.76076,     0.76176,     0.76276,     0.76376,     0.76476,     0.76577,     0.76677,     0.76777,\n",
              "           0.76877,     0.76977,     0.77077,     0.77177,     0.77277,     0.77377,     0.77477,     0.77578,     0.77678,     0.77778,     0.77878,     0.77978,     0.78078,     0.78178,     0.78278,     0.78378,     0.78478,     0.78579,     0.78679,     0.78779,     0.78879,     0.78979,     0.79079,     0.79179,\n",
              "           0.79279,     0.79379,     0.79479,      0.7958,      0.7968,      0.7978,      0.7988,      0.7998,      0.8008,      0.8018,      0.8028,      0.8038,      0.8048,     0.80581,     0.80681,     0.80781,     0.80881,     0.80981,     0.81081,     0.81181,     0.81281,     0.81381,     0.81481,     0.81582,\n",
              "           0.81682,     0.81782,     0.81882,     0.81982,     0.82082,     0.82182,     0.82282,     0.82382,     0.82482,     0.82583,     0.82683,     0.82783,     0.82883,     0.82983,     0.83083,     0.83183,     0.83283,     0.83383,     0.83483,     0.83584,     0.83684,     0.83784,     0.83884,     0.83984,\n",
              "           0.84084,     0.84184,     0.84284,     0.84384,     0.84484,     0.84585,     0.84685,     0.84785,     0.84885,     0.84985,     0.85085,     0.85185,     0.85285,     0.85385,     0.85485,     0.85586,     0.85686,     0.85786,     0.85886,     0.85986,     0.86086,     0.86186,     0.86286,     0.86386,\n",
              "           0.86486,     0.86587,     0.86687,     0.86787,     0.86887,     0.86987,     0.87087,     0.87187,     0.87287,     0.87387,     0.87487,     0.87588,     0.87688,     0.87788,     0.87888,     0.87988,     0.88088,     0.88188,     0.88288,     0.88388,     0.88488,     0.88589,     0.88689,     0.88789,\n",
              "           0.88889,     0.88989,     0.89089,     0.89189,     0.89289,     0.89389,     0.89489,      0.8959,      0.8969,      0.8979,      0.8989,      0.8999,      0.9009,      0.9019,      0.9029,      0.9039,      0.9049,     0.90591,     0.90691,     0.90791,     0.90891,     0.90991,     0.91091,     0.91191,\n",
              "           0.91291,     0.91391,     0.91491,     0.91592,     0.91692,     0.91792,     0.91892,     0.91992,     0.92092,     0.92192,     0.92292,     0.92392,     0.92492,     0.92593,     0.92693,     0.92793,     0.92893,     0.92993,     0.93093,     0.93193,     0.93293,     0.93393,     0.93493,     0.93594,\n",
              "           0.93694,     0.93794,     0.93894,     0.93994,     0.94094,     0.94194,     0.94294,     0.94394,     0.94494,     0.94595,     0.94695,     0.94795,     0.94895,     0.94995,     0.95095,     0.95195,     0.95295,     0.95395,     0.95495,     0.95596,     0.95696,     0.95796,     0.95896,     0.95996,\n",
              "           0.96096,     0.96196,     0.96296,     0.96396,     0.96496,     0.96597,     0.96697,     0.96797,     0.96897,     0.96997,     0.97097,     0.97197,     0.97297,     0.97397,     0.97497,     0.97598,     0.97698,     0.97798,     0.97898,     0.97998,     0.98098,     0.98198,     0.98298,     0.98398,\n",
              "           0.98498,     0.98599,     0.98699,     0.98799,     0.98899,     0.98999,     0.99099,     0.99199,     0.99299,     0.99399,     0.99499,       0.996,       0.997,       0.998,       0.999,           1]), array([[    0.20338,     0.20338,     0.25895,     0.29919,     0.32731,     0.35103,     0.36782,     0.38493,     0.39767,      0.4073,     0.41802,     0.42566,     0.43544,     0.44678,     0.45424,     0.46284,     0.46528,     0.47479,      0.4799,     0.48634,     0.49634,     0.49997,     0.50384,\n",
              "            0.50834,     0.51413,     0.51776,     0.52528,     0.53175,     0.53504,     0.54045,      0.5447,      0.5476,     0.55192,     0.55574,     0.55906,     0.56206,     0.56914,     0.57116,     0.57502,      0.5805,     0.58335,     0.58554,     0.58887,      0.5913,     0.59489,     0.59662,\n",
              "            0.60006,     0.60376,      0.6059,     0.61042,     0.61262,     0.61476,     0.61725,     0.61703,     0.61681,     0.61824,     0.61967,     0.62199,       0.626,     0.62745,      0.6279,      0.6287,     0.63012,     0.63042,     0.63307,      0.6344,     0.63723,     0.63942,      0.6409,\n",
              "            0.64131,     0.64275,       0.644,      0.6471,     0.64858,      0.6493,     0.64969,     0.64985,     0.64995,     0.65157,     0.65397,      0.6558,     0.65954,     0.66288,     0.66453,     0.66548,     0.66723,     0.67017,      0.6726,     0.67255,     0.67131,     0.67176,      0.6722,\n",
              "            0.67493,     0.67607,     0.67686,     0.67787,     0.68033,      0.6817,     0.68281,     0.68413,     0.68438,     0.68495,     0.68818,      0.6897,      0.6906,     0.69277,     0.69391,     0.69465,     0.69551,     0.69505,     0.69751,     0.69728,     0.69704,     0.69814,     0.69903,\n",
              "            0.69965,     0.70026,     0.70077,     0.70129,     0.70193,     0.70262,     0.70501,      0.7072,     0.70828,     0.70903,     0.71002,     0.71168,     0.71287,     0.71341,     0.71395,     0.71448,     0.71502,     0.71643,     0.71715,     0.71872,     0.72133,     0.72169,     0.72206,\n",
              "            0.72243,     0.72589,     0.72793,     0.72781,     0.72769,     0.72757,     0.72745,     0.72916,     0.72986,      0.7307,     0.73179,     0.73351,     0.73422,     0.73517,     0.73584,     0.73655,     0.73727,     0.74332,     0.74394,     0.74456,     0.74889,     0.75189,     0.75241,\n",
              "            0.75287,     0.75334,     0.75531,     0.75818,     0.75949,     0.76043,     0.76161,     0.76255,     0.76294,     0.76332,     0.76371,     0.76437,     0.76526,     0.76709,     0.76754,     0.76798,     0.76843,     0.76991,     0.76964,     0.76982,     0.77027,     0.77072,     0.77159,\n",
              "            0.77414,     0.77463,     0.77507,     0.77551,     0.77633,     0.77765,     0.78033,     0.78087,      0.7817,     0.78194,     0.78217,      0.7824,     0.78264,     0.78287,     0.78311,     0.78364,     0.78452,     0.78568,     0.78652,     0.78669,     0.78685,     0.78702,     0.78719,\n",
              "            0.78736,     0.78753,     0.78769,     0.78786,     0.78803,     0.78796,     0.78783,      0.7877,     0.78921,     0.78902,     0.78883,     0.78927,     0.78975,     0.79023,     0.79226,     0.79257,     0.79287,     0.79318,     0.79349,     0.79371,     0.79346,     0.79362,      0.7943,\n",
              "            0.79498,     0.79492,     0.79487,     0.79481,     0.79475,      0.7947,     0.79464,     0.79459,     0.79466,     0.79499,     0.79532,     0.79566,     0.79599,     0.79804,      0.7985,     0.79896,     0.79942,      0.7998,     0.80013,     0.80046,     0.80079,     0.80112,     0.80531,\n",
              "            0.80634,     0.80617,     0.80676,     0.80735,     0.80794,     0.80853,     0.80912,     0.80969,     0.81024,     0.81079,     0.81193,     0.81351,     0.81454,     0.81689,      0.8181,     0.81843,      0.8187,     0.81897,     0.81924,     0.81951,     0.81978,     0.82008,     0.82043,\n",
              "            0.82077,     0.82112,     0.82147,     0.82409,     0.82531,     0.82527,     0.82524,      0.8252,     0.82516,     0.82513,     0.82509,     0.82505,     0.82502,     0.82498,     0.82495,     0.82552,     0.82609,     0.82666,     0.82707,     0.82744,     0.82781,     0.82818,     0.82856,\n",
              "            0.82929,     0.83004,     0.83079,     0.83154,     0.83243,     0.83473,     0.83609,     0.83654,     0.83698,     0.83743,     0.83777,     0.83773,     0.83769,     0.83765,     0.83761,     0.83757,     0.83754,      0.8375,     0.83746,     0.83742,     0.83954,     0.84064,     0.84097,\n",
              "            0.84141,     0.84252,     0.84363,     0.84474,     0.84586,     0.84643,     0.84625,     0.84657,     0.84744,     0.84804,     0.84794,     0.84784,     0.84774,      0.8473,      0.8472,     0.84711,     0.84757,     0.84912,     0.84942,     0.84973,     0.85004,     0.85034,     0.85065,\n",
              "            0.85097,     0.85135,     0.85173,     0.85211,     0.85249,     0.85484,     0.85538,     0.85592,     0.85646,       0.857,     0.85754,     0.85809,     0.85863,     0.86119,     0.86178,     0.86237,     0.86288,      0.8632,     0.86351,     0.86383,     0.86415,     0.86446,     0.86478,\n",
              "            0.86499,     0.86519,      0.8654,      0.8656,      0.8658,       0.866,      0.8662,     0.86641,     0.86661,     0.86681,     0.86667,     0.86651,     0.87059,     0.87097,     0.87136,     0.87174,     0.87212,     0.87251,      0.8726,     0.87253,     0.87247,      0.8724,     0.87234,\n",
              "            0.87218,     0.87203,     0.87187,     0.87173,      0.8717,     0.87167,     0.87164,     0.87161,     0.87157,     0.87154,     0.87151,     0.87148,     0.87145,     0.87293,     0.87609,     0.87667,     0.87724,     0.87768,     0.87758,     0.87748,     0.87741,      0.8785,     0.87938,\n",
              "            0.87984,      0.8803,     0.88076,     0.88121,     0.88288,     0.88347,     0.88343,     0.88339,     0.88336,     0.88332,     0.88328,     0.88324,     0.88356,     0.88536,      0.8853,     0.88524,     0.88518,     0.88513,     0.88483,     0.88493,     0.88503,     0.88513,     0.88523,\n",
              "            0.88532,     0.88542,     0.88552,     0.88562,     0.88572,     0.88581,     0.88591,     0.88601,     0.88611,      0.8862,      0.8863,      0.8864,      0.8865,      0.8866,     0.88669,     0.88679,     0.88689,      0.8873,     0.89001,     0.89132,     0.89123,     0.89114,     0.89081,\n",
              "             0.8908,     0.89079,     0.89077,     0.89076,     0.89075,     0.89074,     0.89072,     0.89071,      0.8907,     0.89069,     0.89067,     0.89066,     0.89065,     0.89064,     0.89062,     0.89061,      0.8906,     0.89059,     0.89057,     0.89056,     0.89055,     0.89088,      0.8912,\n",
              "            0.89153,     0.89185,     0.89218,      0.8925,     0.89319,     0.89473,     0.89471,     0.89469,     0.89466,     0.89464,     0.89462,      0.8946,     0.89457,     0.89455,     0.89453,     0.89451,     0.89448,     0.89458,     0.89479,       0.895,     0.89521,     0.89542,     0.89563,\n",
              "            0.89584,     0.89605,     0.89626,     0.89647,     0.89668,     0.89717,     0.89775,     0.89833,     0.89891,         0.9,     0.90117,     0.90198,     0.90276,     0.90354,     0.90343,     0.90333,      0.9038,     0.90427,     0.90474,     0.90522,      0.9058,     0.90699,      0.9079,\n",
              "            0.90778,     0.90831,     0.90996,     0.90976,     0.90964,     0.90985,     0.91065,     0.91146,     0.91226,     0.91307,     0.91388,     0.91437,     0.91498,     0.91559,      0.9162,     0.91792,     0.91871,     0.92024,     0.92139,     0.92189,     0.92238,     0.92288,     0.92338,\n",
              "             0.9234,      0.9233,      0.9254,     0.92568,     0.92562,     0.92556,     0.92531,     0.92526,     0.92521,     0.92516,     0.92512,     0.92509,     0.92507,     0.92504,     0.92502,     0.92499,     0.92497,     0.92494,     0.92509,      0.9253,     0.92552,     0.92573,     0.92594,\n",
              "            0.92615,     0.92637,     0.92658,     0.92679,       0.927,     0.92722,      0.9274,      0.9272,     0.92716,     0.92712,     0.92708,     0.92704,     0.92696,     0.92686,      0.9268,     0.92676,     0.92672,     0.92668,     0.92664,     0.92712,     0.92769,     0.92827,     0.92884,\n",
              "            0.92914,     0.92911,     0.92909,     0.92906,     0.92903,       0.929,     0.92897,     0.92961,     0.93066,     0.93147,     0.93131,     0.93127,     0.93123,     0.93119,     0.93116,     0.93111,     0.93104,     0.93098,     0.93059,     0.93018,      0.9353,     0.93537,     0.93534,\n",
              "            0.93531,     0.93528,     0.93525,     0.93522,     0.93509,     0.93499,     0.93492,     0.93486,     0.93452,     0.93433,     0.93744,     0.93805,     0.93866,     0.93928,     0.93962,     0.93953,     0.93933,     0.93941,      0.9397,        0.94,     0.94029,     0.94059,     0.94088,\n",
              "            0.94118,     0.94147,     0.94176,     0.94223,     0.94304,     0.94385,     0.94518,     0.94704,     0.94696,     0.94689,     0.94684,      0.9468,     0.94675,     0.94673,     0.94671,     0.94669,     0.94667,     0.94665,     0.94663,     0.94661,     0.94658,     0.94656,     0.94654,\n",
              "            0.94652,     0.94649,     0.94647,     0.94645,     0.94641,     0.94632,     0.94666,     0.94782,     0.94898,     0.95179,     0.95177,     0.95175,     0.95172,      0.9517,     0.95168,     0.95166,      0.9516,     0.95154,     0.95135,     0.95132,     0.95129,     0.95126,     0.95123,\n",
              "            0.95234,     0.95383,      0.9541,     0.95405,     0.95401,     0.95395,     0.95385,     0.95647,     0.95642,     0.95632,     0.95611,     0.95608,     0.95606,     0.95603,       0.956,     0.95582,      0.9559,     0.95798,      0.9585,     0.95823,     0.95817,     0.95814,      0.9581,\n",
              "            0.95807,     0.95795,     0.95785,     0.95768,     0.95748,     0.95744,      0.9574,     0.95735,     0.95729,     0.96038,     0.96441,     0.96605,     0.97347,     0.97571,     0.97638,     0.97634,     0.97632,      0.9763,     0.97628,     0.97615,     0.97602,     0.97598,     0.97595,\n",
              "             0.9793,     0.97928,     0.97925,      0.9792,     0.97908,     0.97904,     0.97893,     0.97889,     0.97886,     0.97883,     0.97881,     0.97878,     0.97876,     0.97874,      0.9787,     0.97888,     0.97967,     0.98047,     0.98126,     0.98206,     0.98207,     0.98205,     0.98203,\n",
              "            0.98188,      0.9854,     0.98533,     0.98529,     0.98523,     0.98506,     0.98504,     0.98502,      0.9849,     0.98489,     0.98489,     0.98488,     0.98487,     0.98486,     0.98485,     0.98482,     0.98475,     0.98468,     0.98456,      0.9845,     0.98429,     0.98425,     0.98421,\n",
              "            0.98412,     0.98408,     0.98398,     0.98391,     0.98372,     0.98363,     0.98344,     0.98321,     0.98728,     0.98727,     0.98725,     0.98724,     0.98706,     0.98703,     0.98699,     0.98693,     0.98685,     0.98676,     0.98667,      0.9866,     0.98648,     0.98644,     0.98639,\n",
              "            0.98628,     0.99061,     0.99058,      0.9905,     0.99046,     0.99044,     0.99043,     0.99041,     0.99039,     0.99027,     0.99021,     0.99006,     0.98999,     0.98995,     0.98983,     0.98974,     0.98971,     0.98947,     0.98936,     0.98932,     0.98921,     0.98899,     0.98888,\n",
              "            0.98884,      0.9888,     0.98877,     0.99202,     0.99423,           1,           1,           1,           1,           1,           1,           1,           1,           1,           1,           1,           1,           1,           1,           1,           1,           1,           1,\n",
              "                  1,           1,           1,           1,           1,           1,           1,           1,           1,           1,           1,           1,           1,           1,           1,           1,           1,           1,           1,           1,           1,           1,           1,\n",
              "                  1,           1,           1,           1,           1,           1,           1,           1,           1,           1,           1,           1,           1,           1,           1,           1,           1,           1,           1,           1,           1,           1,           1,\n",
              "                  1,           1,           1,           1,           1,           1,           1,           1,           1,           1,           1,           1,           1,           1,           1,           1,           1,           1,           1,           1,           1,           1,           1,\n",
              "                  1,           1,           1,           1,           1,           1,           1,           1,           1,           1,           1,           1,           1,           1,           1,           1,           1,           1,           1,           1,           1,           1,           1,\n",
              "                  1,           1,           1,           1,           1,           1,           1,           1,           1,           1,           1,           1,           1,           1,           1,           1,           1,           1,           1,           1,           1,           1,           1,\n",
              "                  1,           1,           1,           1,           1,           1,           1,           1,           1,           1,           1,           1,           1,           1,           1,           1,           1,           1,           1,           1,           1,           1,           1,\n",
              "                  1,           1,           1,           1,           1,           1,           1,           1,           1,           1,           1]]), 'Confidence', 'Precision'], [array([          0,    0.001001,    0.002002,    0.003003,    0.004004,    0.005005,    0.006006,    0.007007,    0.008008,    0.009009,     0.01001,    0.011011,    0.012012,    0.013013,    0.014014,    0.015015,    0.016016,    0.017017,    0.018018,    0.019019,     0.02002,    0.021021,    0.022022,    0.023023,\n",
              "          0.024024,    0.025025,    0.026026,    0.027027,    0.028028,    0.029029,     0.03003,    0.031031,    0.032032,    0.033033,    0.034034,    0.035035,    0.036036,    0.037037,    0.038038,    0.039039,     0.04004,    0.041041,    0.042042,    0.043043,    0.044044,    0.045045,    0.046046,    0.047047,\n",
              "          0.048048,    0.049049,     0.05005,    0.051051,    0.052052,    0.053053,    0.054054,    0.055055,    0.056056,    0.057057,    0.058058,    0.059059,     0.06006,    0.061061,    0.062062,    0.063063,    0.064064,    0.065065,    0.066066,    0.067067,    0.068068,    0.069069,     0.07007,    0.071071,\n",
              "          0.072072,    0.073073,    0.074074,    0.075075,    0.076076,    0.077077,    0.078078,    0.079079,     0.08008,    0.081081,    0.082082,    0.083083,    0.084084,    0.085085,    0.086086,    0.087087,    0.088088,    0.089089,     0.09009,    0.091091,    0.092092,    0.093093,    0.094094,    0.095095,\n",
              "          0.096096,    0.097097,    0.098098,    0.099099,      0.1001,      0.1011,      0.1021,      0.1031,      0.1041,     0.10511,     0.10611,     0.10711,     0.10811,     0.10911,     0.11011,     0.11111,     0.11211,     0.11311,     0.11411,     0.11512,     0.11612,     0.11712,     0.11812,     0.11912,\n",
              "           0.12012,     0.12112,     0.12212,     0.12312,     0.12412,     0.12513,     0.12613,     0.12713,     0.12813,     0.12913,     0.13013,     0.13113,     0.13213,     0.13313,     0.13413,     0.13514,     0.13614,     0.13714,     0.13814,     0.13914,     0.14014,     0.14114,     0.14214,     0.14314,\n",
              "           0.14414,     0.14515,     0.14615,     0.14715,     0.14815,     0.14915,     0.15015,     0.15115,     0.15215,     0.15315,     0.15415,     0.15516,     0.15616,     0.15716,     0.15816,     0.15916,     0.16016,     0.16116,     0.16216,     0.16316,     0.16416,     0.16517,     0.16617,     0.16717,\n",
              "           0.16817,     0.16917,     0.17017,     0.17117,     0.17217,     0.17317,     0.17417,     0.17518,     0.17618,     0.17718,     0.17818,     0.17918,     0.18018,     0.18118,     0.18218,     0.18318,     0.18418,     0.18519,     0.18619,     0.18719,     0.18819,     0.18919,     0.19019,     0.19119,\n",
              "           0.19219,     0.19319,     0.19419,      0.1952,      0.1962,      0.1972,      0.1982,      0.1992,      0.2002,      0.2012,      0.2022,      0.2032,      0.2042,     0.20521,     0.20621,     0.20721,     0.20821,     0.20921,     0.21021,     0.21121,     0.21221,     0.21321,     0.21421,     0.21522,\n",
              "           0.21622,     0.21722,     0.21822,     0.21922,     0.22022,     0.22122,     0.22222,     0.22322,     0.22422,     0.22523,     0.22623,     0.22723,     0.22823,     0.22923,     0.23023,     0.23123,     0.23223,     0.23323,     0.23423,     0.23524,     0.23624,     0.23724,     0.23824,     0.23924,\n",
              "           0.24024,     0.24124,     0.24224,     0.24324,     0.24424,     0.24525,     0.24625,     0.24725,     0.24825,     0.24925,     0.25025,     0.25125,     0.25225,     0.25325,     0.25425,     0.25526,     0.25626,     0.25726,     0.25826,     0.25926,     0.26026,     0.26126,     0.26226,     0.26326,\n",
              "           0.26426,     0.26527,     0.26627,     0.26727,     0.26827,     0.26927,     0.27027,     0.27127,     0.27227,     0.27327,     0.27427,     0.27528,     0.27628,     0.27728,     0.27828,     0.27928,     0.28028,     0.28128,     0.28228,     0.28328,     0.28428,     0.28529,     0.28629,     0.28729,\n",
              "           0.28829,     0.28929,     0.29029,     0.29129,     0.29229,     0.29329,     0.29429,      0.2953,      0.2963,      0.2973,      0.2983,      0.2993,      0.3003,      0.3013,      0.3023,      0.3033,      0.3043,     0.30531,     0.30631,     0.30731,     0.30831,     0.30931,     0.31031,     0.31131,\n",
              "           0.31231,     0.31331,     0.31431,     0.31532,     0.31632,     0.31732,     0.31832,     0.31932,     0.32032,     0.32132,     0.32232,     0.32332,     0.32432,     0.32533,     0.32633,     0.32733,     0.32833,     0.32933,     0.33033,     0.33133,     0.33233,     0.33333,     0.33433,     0.33534,\n",
              "           0.33634,     0.33734,     0.33834,     0.33934,     0.34034,     0.34134,     0.34234,     0.34334,     0.34434,     0.34535,     0.34635,     0.34735,     0.34835,     0.34935,     0.35035,     0.35135,     0.35235,     0.35335,     0.35435,     0.35536,     0.35636,     0.35736,     0.35836,     0.35936,\n",
              "           0.36036,     0.36136,     0.36236,     0.36336,     0.36436,     0.36537,     0.36637,     0.36737,     0.36837,     0.36937,     0.37037,     0.37137,     0.37237,     0.37337,     0.37437,     0.37538,     0.37638,     0.37738,     0.37838,     0.37938,     0.38038,     0.38138,     0.38238,     0.38338,\n",
              "           0.38438,     0.38539,     0.38639,     0.38739,     0.38839,     0.38939,     0.39039,     0.39139,     0.39239,     0.39339,     0.39439,      0.3954,      0.3964,      0.3974,      0.3984,      0.3994,      0.4004,      0.4014,      0.4024,      0.4034,      0.4044,     0.40541,     0.40641,     0.40741,\n",
              "           0.40841,     0.40941,     0.41041,     0.41141,     0.41241,     0.41341,     0.41441,     0.41542,     0.41642,     0.41742,     0.41842,     0.41942,     0.42042,     0.42142,     0.42242,     0.42342,     0.42442,     0.42543,     0.42643,     0.42743,     0.42843,     0.42943,     0.43043,     0.43143,\n",
              "           0.43243,     0.43343,     0.43443,     0.43544,     0.43644,     0.43744,     0.43844,     0.43944,     0.44044,     0.44144,     0.44244,     0.44344,     0.44444,     0.44545,     0.44645,     0.44745,     0.44845,     0.44945,     0.45045,     0.45145,     0.45245,     0.45345,     0.45445,     0.45546,\n",
              "           0.45646,     0.45746,     0.45846,     0.45946,     0.46046,     0.46146,     0.46246,     0.46346,     0.46446,     0.46547,     0.46647,     0.46747,     0.46847,     0.46947,     0.47047,     0.47147,     0.47247,     0.47347,     0.47447,     0.47548,     0.47648,     0.47748,     0.47848,     0.47948,\n",
              "           0.48048,     0.48148,     0.48248,     0.48348,     0.48448,     0.48549,     0.48649,     0.48749,     0.48849,     0.48949,     0.49049,     0.49149,     0.49249,     0.49349,     0.49449,      0.4955,      0.4965,      0.4975,      0.4985,      0.4995,      0.5005,      0.5015,      0.5025,      0.5035,\n",
              "            0.5045,     0.50551,     0.50651,     0.50751,     0.50851,     0.50951,     0.51051,     0.51151,     0.51251,     0.51351,     0.51451,     0.51552,     0.51652,     0.51752,     0.51852,     0.51952,     0.52052,     0.52152,     0.52252,     0.52352,     0.52452,     0.52553,     0.52653,     0.52753,\n",
              "           0.52853,     0.52953,     0.53053,     0.53153,     0.53253,     0.53353,     0.53453,     0.53554,     0.53654,     0.53754,     0.53854,     0.53954,     0.54054,     0.54154,     0.54254,     0.54354,     0.54454,     0.54555,     0.54655,     0.54755,     0.54855,     0.54955,     0.55055,     0.55155,\n",
              "           0.55255,     0.55355,     0.55455,     0.55556,     0.55656,     0.55756,     0.55856,     0.55956,     0.56056,     0.56156,     0.56256,     0.56356,     0.56456,     0.56557,     0.56657,     0.56757,     0.56857,     0.56957,     0.57057,     0.57157,     0.57257,     0.57357,     0.57457,     0.57558,\n",
              "           0.57658,     0.57758,     0.57858,     0.57958,     0.58058,     0.58158,     0.58258,     0.58358,     0.58458,     0.58559,     0.58659,     0.58759,     0.58859,     0.58959,     0.59059,     0.59159,     0.59259,     0.59359,     0.59459,      0.5956,      0.5966,      0.5976,      0.5986,      0.5996,\n",
              "            0.6006,      0.6016,      0.6026,      0.6036,      0.6046,     0.60561,     0.60661,     0.60761,     0.60861,     0.60961,     0.61061,     0.61161,     0.61261,     0.61361,     0.61461,     0.61562,     0.61662,     0.61762,     0.61862,     0.61962,     0.62062,     0.62162,     0.62262,     0.62362,\n",
              "           0.62462,     0.62563,     0.62663,     0.62763,     0.62863,     0.62963,     0.63063,     0.63163,     0.63263,     0.63363,     0.63463,     0.63564,     0.63664,     0.63764,     0.63864,     0.63964,     0.64064,     0.64164,     0.64264,     0.64364,     0.64464,     0.64565,     0.64665,     0.64765,\n",
              "           0.64865,     0.64965,     0.65065,     0.65165,     0.65265,     0.65365,     0.65465,     0.65566,     0.65666,     0.65766,     0.65866,     0.65966,     0.66066,     0.66166,     0.66266,     0.66366,     0.66466,     0.66567,     0.66667,     0.66767,     0.66867,     0.66967,     0.67067,     0.67167,\n",
              "           0.67267,     0.67367,     0.67467,     0.67568,     0.67668,     0.67768,     0.67868,     0.67968,     0.68068,     0.68168,     0.68268,     0.68368,     0.68468,     0.68569,     0.68669,     0.68769,     0.68869,     0.68969,     0.69069,     0.69169,     0.69269,     0.69369,     0.69469,      0.6957,\n",
              "            0.6967,      0.6977,      0.6987,      0.6997,      0.7007,      0.7017,      0.7027,      0.7037,      0.7047,     0.70571,     0.70671,     0.70771,     0.70871,     0.70971,     0.71071,     0.71171,     0.71271,     0.71371,     0.71471,     0.71572,     0.71672,     0.71772,     0.71872,     0.71972,\n",
              "           0.72072,     0.72172,     0.72272,     0.72372,     0.72472,     0.72573,     0.72673,     0.72773,     0.72873,     0.72973,     0.73073,     0.73173,     0.73273,     0.73373,     0.73473,     0.73574,     0.73674,     0.73774,     0.73874,     0.73974,     0.74074,     0.74174,     0.74274,     0.74374,\n",
              "           0.74474,     0.74575,     0.74675,     0.74775,     0.74875,     0.74975,     0.75075,     0.75175,     0.75275,     0.75375,     0.75475,     0.75576,     0.75676,     0.75776,     0.75876,     0.75976,     0.76076,     0.76176,     0.76276,     0.76376,     0.76476,     0.76577,     0.76677,     0.76777,\n",
              "           0.76877,     0.76977,     0.77077,     0.77177,     0.77277,     0.77377,     0.77477,     0.77578,     0.77678,     0.77778,     0.77878,     0.77978,     0.78078,     0.78178,     0.78278,     0.78378,     0.78478,     0.78579,     0.78679,     0.78779,     0.78879,     0.78979,     0.79079,     0.79179,\n",
              "           0.79279,     0.79379,     0.79479,      0.7958,      0.7968,      0.7978,      0.7988,      0.7998,      0.8008,      0.8018,      0.8028,      0.8038,      0.8048,     0.80581,     0.80681,     0.80781,     0.80881,     0.80981,     0.81081,     0.81181,     0.81281,     0.81381,     0.81481,     0.81582,\n",
              "           0.81682,     0.81782,     0.81882,     0.81982,     0.82082,     0.82182,     0.82282,     0.82382,     0.82482,     0.82583,     0.82683,     0.82783,     0.82883,     0.82983,     0.83083,     0.83183,     0.83283,     0.83383,     0.83483,     0.83584,     0.83684,     0.83784,     0.83884,     0.83984,\n",
              "           0.84084,     0.84184,     0.84284,     0.84384,     0.84484,     0.84585,     0.84685,     0.84785,     0.84885,     0.84985,     0.85085,     0.85185,     0.85285,     0.85385,     0.85485,     0.85586,     0.85686,     0.85786,     0.85886,     0.85986,     0.86086,     0.86186,     0.86286,     0.86386,\n",
              "           0.86486,     0.86587,     0.86687,     0.86787,     0.86887,     0.86987,     0.87087,     0.87187,     0.87287,     0.87387,     0.87487,     0.87588,     0.87688,     0.87788,     0.87888,     0.87988,     0.88088,     0.88188,     0.88288,     0.88388,     0.88488,     0.88589,     0.88689,     0.88789,\n",
              "           0.88889,     0.88989,     0.89089,     0.89189,     0.89289,     0.89389,     0.89489,      0.8959,      0.8969,      0.8979,      0.8989,      0.8999,      0.9009,      0.9019,      0.9029,      0.9039,      0.9049,     0.90591,     0.90691,     0.90791,     0.90891,     0.90991,     0.91091,     0.91191,\n",
              "           0.91291,     0.91391,     0.91491,     0.91592,     0.91692,     0.91792,     0.91892,     0.91992,     0.92092,     0.92192,     0.92292,     0.92392,     0.92492,     0.92593,     0.92693,     0.92793,     0.92893,     0.92993,     0.93093,     0.93193,     0.93293,     0.93393,     0.93493,     0.93594,\n",
              "           0.93694,     0.93794,     0.93894,     0.93994,     0.94094,     0.94194,     0.94294,     0.94394,     0.94494,     0.94595,     0.94695,     0.94795,     0.94895,     0.94995,     0.95095,     0.95195,     0.95295,     0.95395,     0.95495,     0.95596,     0.95696,     0.95796,     0.95896,     0.95996,\n",
              "           0.96096,     0.96196,     0.96296,     0.96396,     0.96496,     0.96597,     0.96697,     0.96797,     0.96897,     0.96997,     0.97097,     0.97197,     0.97297,     0.97397,     0.97497,     0.97598,     0.97698,     0.97798,     0.97898,     0.97998,     0.98098,     0.98198,     0.98298,     0.98398,\n",
              "           0.98498,     0.98599,     0.98699,     0.98799,     0.98899,     0.98999,     0.99099,     0.99199,     0.99299,     0.99399,     0.99499,       0.996,       0.997,       0.998,       0.999,           1]), array([[    0.95034,     0.95034,     0.94582,     0.94357,     0.94357,     0.94357,     0.93905,     0.93905,     0.93679,     0.93454,     0.93228,     0.93228,     0.93228,     0.93228,     0.93228,     0.92777,     0.92325,     0.91874,     0.91874,     0.91874,     0.91874,     0.91874,     0.91874,\n",
              "            0.91874,     0.91874,     0.91874,     0.91874,     0.91874,     0.91874,     0.91874,     0.91648,     0.91648,     0.91648,     0.91648,     0.91422,     0.91422,     0.91422,     0.91422,     0.91422,     0.91422,     0.91422,     0.91422,     0.91422,     0.91422,     0.91422,     0.91422,\n",
              "            0.91422,     0.91422,     0.91422,     0.91422,     0.91422,     0.91422,     0.91371,     0.91286,     0.91201,     0.91196,     0.91196,     0.91196,     0.91196,     0.91196,     0.91196,     0.91196,     0.91138,     0.90971,     0.90971,     0.90971,     0.90971,     0.90971,     0.90971,\n",
              "            0.90971,     0.90971,     0.90971,     0.90971,     0.90971,     0.90971,     0.90971,     0.90911,     0.90745,     0.90745,     0.90745,     0.90745,     0.90745,     0.90745,     0.90745,     0.90745,     0.90519,     0.90519,     0.90519,     0.89944,     0.89391,     0.89391,     0.89391,\n",
              "            0.89391,     0.89391,     0.89391,     0.89165,     0.89165,     0.89165,     0.89165,     0.89165,     0.88939,     0.88939,     0.88939,     0.88939,     0.88939,     0.88939,     0.88939,     0.88939,     0.88687,     0.88492,     0.88487,      0.8839,     0.88292,     0.88262,     0.88036,\n",
              "            0.88036,     0.88036,     0.88036,     0.88036,     0.88036,     0.88036,     0.88036,     0.88036,     0.88036,     0.88036,     0.88036,      0.8781,      0.8781,      0.8781,      0.8781,      0.8781,      0.8781,      0.8781,      0.8781,     0.87673,     0.87585,     0.87585,     0.87585,\n",
              "            0.87585,     0.87585,     0.87572,     0.87519,     0.87466,     0.87413,      0.8736,     0.87359,     0.87359,     0.87359,     0.87359,     0.87359,     0.87301,     0.86907,     0.86907,     0.86907,     0.86907,     0.86907,     0.86907,     0.86907,     0.86907,     0.86907,     0.86907,\n",
              "            0.86907,     0.86907,     0.86907,     0.86907,     0.86907,     0.86907,     0.86907,     0.86907,     0.86907,     0.86907,     0.86907,     0.86907,     0.86907,     0.86907,     0.86907,     0.86907,     0.86907,     0.86865,     0.86733,     0.86682,     0.86682,     0.86682,     0.86682,\n",
              "            0.86682,     0.86682,     0.86682,     0.86682,     0.86682,     0.86682,     0.86604,     0.86456,     0.86456,     0.86456,     0.86456,     0.86456,     0.86456,     0.86456,     0.86456,     0.86456,     0.86456,     0.86456,     0.86456,     0.86456,     0.86456,     0.86456,     0.86456,\n",
              "            0.86456,     0.86456,     0.86456,     0.86456,     0.86456,     0.86402,     0.86334,     0.86265,     0.86206,     0.86109,     0.86011,     0.86005,     0.86005,     0.86005,     0.86005,     0.86005,     0.86005,     0.86005,     0.86005,     0.85984,     0.85852,     0.85779,     0.85779,\n",
              "            0.85779,     0.85749,      0.8572,      0.8569,     0.85661,     0.85632,     0.85602,     0.85573,     0.85553,     0.85553,     0.85553,     0.85553,     0.85553,     0.85553,     0.85553,     0.85553,     0.85553,     0.85553,     0.85553,     0.85553,     0.85553,     0.85553,     0.85553,\n",
              "            0.85529,     0.85327,     0.85327,     0.85327,     0.85327,     0.85327,     0.85327,     0.85327,     0.85327,     0.85327,     0.85327,     0.85327,     0.85327,     0.85327,     0.85327,     0.85327,     0.85327,     0.85327,     0.85327,     0.85327,     0.85327,     0.85327,     0.85327,\n",
              "            0.85327,     0.85327,     0.85327,     0.85327,     0.85317,     0.85295,     0.85274,     0.85252,     0.85231,     0.85209,     0.85188,     0.85166,     0.85144,     0.85123,     0.85102,     0.85102,     0.85102,     0.85102,     0.85102,     0.85102,     0.85102,     0.85102,     0.85102,\n",
              "            0.85102,     0.85102,     0.85102,     0.85102,     0.85102,     0.85102,     0.85102,     0.85102,     0.85102,     0.85102,     0.85096,     0.85072,     0.85047,     0.85023,     0.84999,     0.84974,      0.8495,     0.84926,     0.84901,     0.84877,     0.84876,     0.84876,     0.84756,\n",
              "             0.8465,      0.8465,      0.8465,      0.8465,      0.8465,     0.84601,     0.84486,     0.84424,     0.84424,     0.84406,      0.8434,     0.84274,     0.84208,      0.8392,     0.83858,     0.83796,     0.83747,     0.83747,     0.83747,     0.83747,     0.83747,     0.83747,     0.83747,\n",
              "            0.83747,     0.83747,     0.83747,     0.83747,     0.83747,     0.83747,     0.83747,     0.83747,     0.83747,     0.83747,     0.83747,     0.83747,     0.83747,     0.83747,     0.83747,     0.83747,     0.83747,     0.83747,     0.83747,     0.83747,     0.83747,     0.83747,     0.83747,\n",
              "            0.83747,     0.83747,     0.83747,     0.83747,     0.83747,     0.83747,     0.83747,     0.83747,     0.83747,     0.83747,     0.83639,     0.83523,     0.83521,     0.83521,     0.83521,     0.83521,     0.83521,     0.83521,      0.8349,     0.83441,     0.83393,     0.83344,     0.83295,\n",
              "            0.83179,     0.83063,     0.82948,     0.82842,     0.82819,     0.82795,     0.82772,     0.82749,     0.82726,     0.82703,      0.8268,     0.82657,     0.82634,     0.82619,     0.82619,     0.82619,     0.82619,     0.82603,     0.82526,     0.82448,     0.82167,     0.82167,     0.82167,\n",
              "            0.82167,     0.82167,     0.82167,     0.82167,     0.82167,     0.82146,     0.82116,     0.82086,     0.82056,     0.82026,     0.81996,     0.81966,     0.81941,     0.81933,     0.81887,      0.8184,     0.81794,     0.81748,      0.8149,      0.8149,      0.8149,      0.8149,      0.8149,\n",
              "             0.8149,      0.8149,      0.8149,      0.8149,      0.8149,      0.8149,      0.8149,      0.8149,      0.8149,      0.8149,      0.8149,      0.8149,      0.8149,      0.8149,      0.8149,      0.8149,      0.8149,      0.8149,      0.8149,     0.81459,     0.81382,     0.81305,     0.81033,\n",
              "            0.81023,     0.81012,     0.81002,     0.80991,     0.80981,      0.8097,      0.8096,     0.80949,     0.80939,     0.80928,     0.80918,     0.80907,     0.80897,     0.80886,     0.80876,     0.80865,     0.80855,     0.80844,     0.80834,     0.80823,     0.80813,     0.80813,     0.80813,\n",
              "            0.80813,     0.80813,     0.80813,     0.80813,     0.80813,     0.80583,     0.80564,     0.80544,     0.80525,     0.80506,     0.80487,     0.80467,     0.80448,     0.80429,     0.80409,      0.8039,     0.80371,     0.80361,     0.80361,     0.80361,     0.80361,     0.80361,     0.80361,\n",
              "            0.80361,     0.80361,     0.80361,     0.80361,     0.80361,     0.80361,     0.80361,     0.80361,     0.80361,     0.80361,     0.80361,     0.80361,     0.80361,     0.80361,     0.80247,     0.80135,     0.80135,     0.80135,     0.80135,     0.80135,     0.80135,     0.80135,     0.80111,\n",
              "            0.79996,      0.7991,     0.79845,     0.79649,     0.79533,     0.79458,     0.79458,     0.79458,     0.79458,     0.79458,     0.79458,     0.79233,     0.79233,     0.79233,     0.79233,     0.79233,     0.79088,     0.79007,     0.79007,     0.79007,     0.79007,     0.79007,     0.79007,\n",
              "            0.78915,     0.78799,     0.78781,     0.78724,     0.78658,     0.78591,     0.78303,     0.78246,     0.78188,      0.7813,     0.78088,     0.78059,      0.7803,     0.78001,     0.77972,     0.77943,     0.77914,     0.77885,     0.77878,     0.77878,     0.77878,     0.77878,     0.77878,\n",
              "            0.77878,     0.77878,     0.77878,     0.77878,     0.77878,     0.77878,      0.7786,     0.77627,     0.77581,     0.77534,     0.77488,     0.77442,     0.77349,     0.77233,     0.77168,     0.77121,     0.77075,     0.77029,     0.76982,     0.76975,     0.76975,     0.76975,     0.76975,\n",
              "             0.7696,     0.76927,     0.76894,     0.76861,     0.76828,     0.76795,     0.76762,     0.76749,     0.76749,     0.76707,     0.76514,     0.76468,     0.76421,     0.76375,     0.76329,     0.76272,     0.76195,     0.76118,     0.75659,     0.75183,     0.75169,     0.75135,     0.75099,\n",
              "            0.75064,     0.75028,     0.74993,     0.74957,     0.74799,     0.74668,     0.74591,     0.74513,     0.74099,     0.73868,     0.73815,     0.73815,     0.73815,     0.73815,     0.73771,     0.73655,      0.7339,     0.73138,     0.73138,     0.73138,     0.73138,     0.73138,     0.73138,\n",
              "            0.73138,     0.73138,     0.73138,     0.72912,     0.72912,     0.72912,     0.72912,     0.72653,     0.72538,     0.72438,     0.72372,     0.72306,      0.7224,     0.72208,     0.72179,      0.7215,     0.72121,     0.72093,     0.72064,     0.72035,     0.72005,     0.71972,     0.71939,\n",
              "            0.71906,     0.71873,      0.7184,     0.71807,      0.7175,     0.71635,     0.71558,     0.71558,     0.71558,     0.71302,     0.71269,     0.71236,     0.71203,      0.7117,     0.71137,       0.711,     0.71007,     0.70915,     0.70626,     0.70579,     0.70533,     0.70487,     0.70441,\n",
              "            0.70429,     0.70429,     0.70376,      0.7031,     0.70244,     0.70144,      0.6999,     0.69441,     0.69348,     0.69189,     0.68848,     0.68802,     0.68755,     0.68709,     0.68663,     0.68365,     0.67946,     0.67946,     0.67784,     0.67327,     0.67225,     0.67167,      0.6711,\n",
              "            0.67052,     0.66847,     0.66683,     0.66403,     0.66079,     0.66013,     0.65947,     0.65867,     0.65775,     0.65658,     0.65463,     0.65463,     0.65463,     0.65463,     0.65306,     0.65196,     0.65139,     0.65081,     0.65023,     0.64662,     0.64303,     0.64211,     0.64118,\n",
              "            0.64077,        0.64,     0.63923,     0.63771,     0.63373,     0.63257,     0.62916,       0.628,     0.62707,      0.6263,     0.62553,     0.62483,     0.62417,     0.62351,     0.62242,     0.62077,     0.62077,     0.62077,     0.62077,     0.62077,     0.61819,     0.61742,     0.61665,\n",
              "            0.61177,     0.60939,      0.6064,     0.60481,     0.60228,     0.59547,      0.5947,     0.59393,      0.5891,     0.58874,     0.58839,     0.58803,     0.58767,     0.58732,     0.58696,      0.5856,     0.58287,     0.58032,     0.57575,     0.57343,     0.56585,      0.5643,     0.56276,\n",
              "            0.55971,     0.55817,     0.55476,     0.55208,     0.54551,     0.54245,     0.53625,     0.52879,     0.52579,     0.52512,     0.52446,      0.5238,     0.51651,     0.51536,     0.51372,     0.51141,     0.50804,      0.5049,     0.50108,     0.49877,     0.49425,     0.49271,      0.4907,\n",
              "            0.48693,     0.47604,      0.4745,     0.47079,     0.46885,     0.46793,       0.467,     0.46608,     0.46515,     0.45966,     0.45645,     0.44957,     0.44628,     0.44474,     0.43943,     0.43564,     0.43409,     0.42406,     0.41972,     0.41818,     0.41389,     0.40555,     0.40151,\n",
              "            0.39997,     0.39871,     0.39755,     0.39503,     0.38867,     0.38219,     0.37388,     0.36842,     0.36135,      0.3534,     0.35002,     0.33636,      0.3333,     0.32947,     0.32699,     0.31468,     0.30645,      0.2978,     0.29665,     0.29483,     0.28568,      0.2833,     0.28094,\n",
              "            0.27247,     0.26826,      0.2671,     0.26469,     0.25329,     0.25074,     0.24843,     0.24611,     0.24155,     0.24038,     0.23681,     0.22993,     0.22732,     0.22616,     0.22427,     0.22196,     0.21965,     0.21733,     0.20882,     0.20193,     0.19745,      0.1934,     0.18805,\n",
              "            0.18313,     0.17654,     0.17061,     0.16829,     0.16491,     0.16028,      0.1534,     0.14662,     0.14414,     0.14086,     0.13526,     0.13371,     0.12789,     0.12536,     0.12382,     0.12228,     0.11651,     0.11535,     0.11451,     0.11373,     0.11296,      0.1043,    0.096112,\n",
              "           0.091877,    0.090335,    0.088042,    0.087267,    0.086495,    0.085451,    0.074382,    0.073225,    0.071568,    0.069218,    0.068061,    0.066632,    0.064344,    0.061461,    0.059747,    0.057233,    0.053653,     0.05211,    0.049892,    0.047578,    0.044473,     0.04293,    0.042246,\n",
              "           0.041585,    0.040924,    0.040115,    0.039189,    0.037819,    0.035142,    0.033762,    0.033184,    0.032605,    0.032027,    0.031397,    0.030626,    0.029855,    0.025515,    0.023845,    0.022688,    0.020489,    0.018175,    0.013664,    0.013389,    0.013229,    0.013069,     0.01291,\n",
              "            0.01275,    0.012591,    0.012431,    0.012272,    0.012112,    0.011952,    0.011793,    0.011633,    0.011474,    0.011314,   0.0074544,   0.0065528,   0.0062957,   0.0060386,   0.0057816,   0.0055245,   0.0052674,   0.0050103,   0.0047532,   0.0045031,   0.0043436,    0.004184,   0.0040244,\n",
              "          0.0038648,   0.0037053,   0.0035457,   0.0033861,   0.0032265,    0.003067,   0.0029074,   0.0027478,   0.0025883,   0.0024287,   0.0022691,           0,           0,           0,           0,           0,           0,           0,           0,           0,           0,           0,           0,\n",
              "                  0,           0,           0,           0,           0,           0,           0,           0,           0,           0,           0]]), 'Confidence', 'Recall']]\n",
              "fitness: 1.2434208987223618\n",
              "keys: ['metrics/precision(B)', 'metrics/recall(B)', 'metrics/mAP50(B)', 'metrics/mAP50-95(B)', 'metrics/precision(M)', 'metrics/recall(M)', 'metrics/mAP50(M)', 'metrics/mAP50-95(M)']\n",
              "maps: array([     1.1816])\n",
              "names: {0: 'sawit'}\n",
              "plot: True\n",
              "results_dict: {'metrics/precision(B)': 0.8877384546571737, 'metrics/recall(B)': 0.821123832636248, 'metrics/mAP50(B)': 0.902403150802684, 'metrics/mAP50-95(B)': 0.6099051627736664, 'metrics/precision(M)': 0.8776772414362343, 'metrics/recall(M)': 0.8260269298644016, 'metrics/mAP50(M)': 0.8974431546268814, 'metrics/mAP50-95(M)': 0.571690690759006, 'fitness': 1.2434208987223618}\n",
              "save_dir: WindowsPath('runs/segment/identifikasi_sawit_v1.095')\n",
              "seg: ultralytics.utils.metrics.Metric object\n",
              "speed: {'preprocess': 1.6241944444017362, 'inference': 38.57384166665017, 'loss': 0.0015444444569665294, 'postprocess': 2.792361111106503}\n",
              "task: 'segment'"
            ]
          },
          "execution_count": 2,
          "metadata": {},
          "output_type": "execute_result"
        }
      ],
      "source": [
        "model.train(\n",
        "    data=\"C:/Users/puji0/Downloads/fruit_bunch_counting_magang_ehp/Count-1/data.yaml\", #path ke data.yaml di dataset\n",
        "    epochs=60,\n",
        "    imgsz=800,\n",
        "    batch=4,\n",
        "    device='cuda',\n",
        "    name=\"identifikasi_sawit_v1.09\"\n",
        ")"
      ]
    },
    {
      "cell_type": "code",
      "execution_count": null,
      "metadata": {},
      "outputs": [
        {
          "name": "stdout",
          "output_type": "stream",
          "text": [
            "Ultralytics 8.3.107  Python-3.11.5 torch-2.0.1+cu117 CPU (11th Gen Intel Core(TM) i5-11400H 2.70GHz)\n",
            "YOLOv8m-seg summary (fused): 105 layers, 27,222,963 parameters, 0 gradients, 110.0 GFLOPs\n",
            "\n",
            "\u001b[34m\u001b[1mPyTorch:\u001b[0m starting from 'runs\\segment\\identifikasi_sawit_v1.095\\weights\\best.pt' with input shape (1, 3, 800, 800) BCHW and output shape(s) ((1, 37, 13125), (1, 32, 200, 200)) (52.3 MB)\n",
            "\u001b[31m\u001b[1mrequirements:\u001b[0m Ultralytics requirement ['ai-edge-litert>=1.2.0'] not found, attempting AutoUpdate...\n"
          ]
        }
      ],
      "source": [
        "from ultralytics import YOLO\n",
        "model = YOLO(\"./runs/segment/identifikasi_sawit_v1.095/weights/best.pt\") #load model yang sudah di train\n",
        "model.export(format=\"tflite\")  "
      ]
    },
    {
      "cell_type": "code",
      "execution_count": null,
      "metadata": {},
      "outputs": [
        {
          "name": "stdout",
          "output_type": "stream",
          "text": [
            "\n",
            "image 1/1 c:\\Users\\puji0\\Downloads\\fruit_bunch_counting_magang_ehp\\Object-Detect-12\\test\\images\\1.jpg: 800x800 6 sawits, 404.7ms\n",
            "Speed: 649.6ms preprocess, 404.7ms inference, 1767.2ms postprocess per image at shape (1, 3, 800, 800)\n"
          ]
        }
      ],
      "source": [
        "model = YOLO('C:/Users/puji0/Downloads/fruit_bunch_counting_magang_ehp/runs/segment/identifikasi_sawit_v1.095/weights/best.pt')\n",
        "#images = \"C:/Users/puji0/Downloads/fruit_bunch_counting_magang_ehp/palm-oil-fruit-2/test/images\"\n",
        "images = \"./Object-Detect-12/test/images/1.jpg\"\n",
        "results = model.predict(images)"
      ]
    }
  ],
  "metadata": {
    "colab": {
      "provenance": []
    },
    "kernelspec": {
      "display_name": "myenv",
      "language": "python",
      "name": "python3"
    },
    "language_info": {
      "codemirror_mode": {
        "name": "ipython",
        "version": 3
      },
      "file_extension": ".py",
      "mimetype": "text/x-python",
      "name": "python",
      "nbconvert_exporter": "python",
      "pygments_lexer": "ipython3",
      "version": "3.11.5"
    }
  },
  "nbformat": 4,
  "nbformat_minor": 0
}
